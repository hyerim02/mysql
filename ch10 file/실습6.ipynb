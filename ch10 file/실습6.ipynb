{
 "cells": [
  {
   "cell_type": "markdown",
   "id": "a00fa6c5",
   "metadata": {},
   "source": [
    "#### 결과 확인"
   ]
  },
  {
   "cell_type": "code",
   "execution_count": 7,
   "id": "a84424c1",
   "metadata": {
    "ExecuteTime": {
     "end_time": "2023-06-30T04:09:09.972309Z",
     "start_time": "2023-06-30T04:09:09.964453Z"
    }
   },
   "outputs": [],
   "source": [
    "import pandas as pd\n",
    "import pymysql"
   ]
  },
  {
   "cell_type": "code",
   "execution_count": 8,
   "id": "67574fd6",
   "metadata": {
    "ExecuteTime": {
     "end_time": "2023-06-30T04:09:10.002883Z",
     "start_time": "2023-06-30T04:09:09.980885Z"
    }
   },
   "outputs": [],
   "source": [
    "conn1=pymysql.connect(host='127.0.0.1',user='root',password='1234',db='sqldb',charset='utf8')"
   ]
  },
  {
   "cell_type": "code",
   "execution_count": 9,
   "id": "dff8ab17",
   "metadata": {
    "ExecuteTime": {
     "end_time": "2023-06-30T04:09:10.017970Z",
     "start_time": "2023-06-30T04:09:10.005006Z"
    }
   },
   "outputs": [],
   "source": [
    "cur_1=conn1.cursor()"
   ]
  },
  {
   "cell_type": "code",
   "execution_count": 10,
   "id": "ca9f5580",
   "metadata": {
    "ExecuteTime": {
     "end_time": "2023-06-30T04:09:10.034071Z",
     "start_time": "2023-06-30T04:09:10.020443Z"
    }
   },
   "outputs": [],
   "source": [
    "sql=\"SELECT * FROM userTBL;\""
   ]
  },
  {
   "cell_type": "code",
   "execution_count": 11,
   "id": "2114797d",
   "metadata": {
    "ExecuteTime": {
     "end_time": "2023-06-30T04:09:10.049141Z",
     "start_time": "2023-06-30T04:09:10.037083Z"
    }
   },
   "outputs": [],
   "source": [
    "cur_1.execute(sql)\n",
    "rows_1=cur_1.fetchall()\n",
    "conn1.close()"
   ]
  },
  {
   "cell_type": "code",
   "execution_count": 12,
   "id": "9bcc19c9",
   "metadata": {
    "ExecuteTime": {
     "end_time": "2023-06-30T04:09:10.065344Z",
     "start_time": "2023-06-30T04:09:10.052201Z"
    }
   },
   "outputs": [
    {
     "data": {
      "text/html": [
       "<div>\n",
       "<style scoped>\n",
       "    .dataframe tbody tr th:only-of-type {\n",
       "        vertical-align: middle;\n",
       "    }\n",
       "\n",
       "    .dataframe tbody tr th {\n",
       "        vertical-align: top;\n",
       "    }\n",
       "\n",
       "    .dataframe thead th {\n",
       "        text-align: right;\n",
       "    }\n",
       "</style>\n",
       "<table border=\"1\" class=\"dataframe\">\n",
       "  <thead>\n",
       "    <tr style=\"text-align: right;\">\n",
       "      <th></th>\n",
       "      <th>0</th>\n",
       "      <th>1</th>\n",
       "      <th>2</th>\n",
       "      <th>3</th>\n",
       "      <th>4</th>\n",
       "      <th>5</th>\n",
       "      <th>6</th>\n",
       "      <th>7</th>\n",
       "    </tr>\n",
       "  </thead>\n",
       "  <tbody>\n",
       "    <tr>\n",
       "      <th>0</th>\n",
       "      <td>AAA</td>\n",
       "      <td>에이</td>\n",
       "      <td>0</td>\n",
       "      <td>서울</td>\n",
       "      <td>011</td>\n",
       "      <td>1112222</td>\n",
       "      <td>181</td>\n",
       "      <td>2022-12-25</td>\n",
       "    </tr>\n",
       "    <tr>\n",
       "      <th>1</th>\n",
       "      <td>BBB</td>\n",
       "      <td>비이</td>\n",
       "      <td>2023</td>\n",
       "      <td>경기</td>\n",
       "      <td>011</td>\n",
       "      <td>1113333</td>\n",
       "      <td>171</td>\n",
       "      <td>2019-03-25</td>\n",
       "    </tr>\n",
       "    <tr>\n",
       "      <th>2</th>\n",
       "      <td>BBK</td>\n",
       "      <td>바비킴</td>\n",
       "      <td>1973</td>\n",
       "      <td>서울</td>\n",
       "      <td>010</td>\n",
       "      <td>0000000</td>\n",
       "      <td>176</td>\n",
       "      <td>2013-05-05</td>\n",
       "    </tr>\n",
       "    <tr>\n",
       "      <th>3</th>\n",
       "      <td>EJW</td>\n",
       "      <td>은지원</td>\n",
       "      <td>1972</td>\n",
       "      <td>경북</td>\n",
       "      <td>011</td>\n",
       "      <td>8888888</td>\n",
       "      <td>174</td>\n",
       "      <td>2014-03-03</td>\n",
       "    </tr>\n",
       "    <tr>\n",
       "      <th>4</th>\n",
       "      <td>JKW</td>\n",
       "      <td>조관우</td>\n",
       "      <td>1965</td>\n",
       "      <td>경기</td>\n",
       "      <td>018</td>\n",
       "      <td>9999999</td>\n",
       "      <td>172</td>\n",
       "      <td>2010-10-10</td>\n",
       "    </tr>\n",
       "    <tr>\n",
       "      <th>5</th>\n",
       "      <td>JYP</td>\n",
       "      <td>조용필</td>\n",
       "      <td>1950</td>\n",
       "      <td>경기</td>\n",
       "      <td>011</td>\n",
       "      <td>4444444</td>\n",
       "      <td>166</td>\n",
       "      <td>2009-04-04</td>\n",
       "    </tr>\n",
       "    <tr>\n",
       "      <th>6</th>\n",
       "      <td>KBS</td>\n",
       "      <td>김범수</td>\n",
       "      <td>1979</td>\n",
       "      <td>경남</td>\n",
       "      <td>011</td>\n",
       "      <td>2222222</td>\n",
       "      <td>173</td>\n",
       "      <td>2012-04-04</td>\n",
       "    </tr>\n",
       "    <tr>\n",
       "      <th>7</th>\n",
       "      <td>KKH</td>\n",
       "      <td>김경호</td>\n",
       "      <td>1971</td>\n",
       "      <td>전남</td>\n",
       "      <td>019</td>\n",
       "      <td>3333333</td>\n",
       "      <td>177</td>\n",
       "      <td>2007-07-07</td>\n",
       "    </tr>\n",
       "    <tr>\n",
       "      <th>8</th>\n",
       "      <td>LJB</td>\n",
       "      <td>임재범</td>\n",
       "      <td>1963</td>\n",
       "      <td>서울</td>\n",
       "      <td>016</td>\n",
       "      <td>6666666</td>\n",
       "      <td>182</td>\n",
       "      <td>2009-09-09</td>\n",
       "    </tr>\n",
       "    <tr>\n",
       "      <th>9</th>\n",
       "      <td>LSG</td>\n",
       "      <td>이승기</td>\n",
       "      <td>1987</td>\n",
       "      <td>서울</td>\n",
       "      <td>011</td>\n",
       "      <td>1111111</td>\n",
       "      <td>182</td>\n",
       "      <td>2008-08-08</td>\n",
       "    </tr>\n",
       "    <tr>\n",
       "      <th>10</th>\n",
       "      <td>SSK</td>\n",
       "      <td>성시경</td>\n",
       "      <td>1979</td>\n",
       "      <td>서울</td>\n",
       "      <td>None</td>\n",
       "      <td>None</td>\n",
       "      <td>186</td>\n",
       "      <td>2013-12-12</td>\n",
       "    </tr>\n",
       "    <tr>\n",
       "      <th>11</th>\n",
       "      <td>YJS</td>\n",
       "      <td>윤종신</td>\n",
       "      <td>1969</td>\n",
       "      <td>경남</td>\n",
       "      <td>None</td>\n",
       "      <td>None</td>\n",
       "      <td>170</td>\n",
       "      <td>2005-05-05</td>\n",
       "    </tr>\n",
       "  </tbody>\n",
       "</table>\n",
       "</div>"
      ],
      "text/plain": [
       "      0    1     2   3     4        5    6           7\n",
       "0   AAA   에이     0  서울   011  1112222  181  2022-12-25\n",
       "1   BBB   비이  2023  경기   011  1113333  171  2019-03-25\n",
       "2   BBK  바비킴  1973  서울   010  0000000  176  2013-05-05\n",
       "3   EJW  은지원  1972  경북   011  8888888  174  2014-03-03\n",
       "4   JKW  조관우  1965  경기   018  9999999  172  2010-10-10\n",
       "5   JYP  조용필  1950  경기   011  4444444  166  2009-04-04\n",
       "6   KBS  김범수  1979  경남   011  2222222  173  2012-04-04\n",
       "7   KKH  김경호  1971  전남   019  3333333  177  2007-07-07\n",
       "8   LJB  임재범  1963  서울   016  6666666  182  2009-09-09\n",
       "9   LSG  이승기  1987  서울   011  1111111  182  2008-08-08\n",
       "10  SSK  성시경  1979  서울  None     None  186  2013-12-12\n",
       "11  YJS  윤종신  1969  경남  None     None  170  2005-05-05"
      ]
     },
     "execution_count": 12,
     "metadata": {},
     "output_type": "execute_result"
    }
   ],
   "source": [
    "pd_1=pd.DataFrame(rows_1)\n",
    "pd_1"
   ]
  }
 ],
 "metadata": {
  "kernelspec": {
   "display_name": "Python 3 (ipykernel)",
   "language": "python",
   "name": "python3"
  },
  "language_info": {
   "codemirror_mode": {
    "name": "ipython",
    "version": 3
   },
   "file_extension": ".py",
   "mimetype": "text/x-python",
   "name": "python",
   "nbconvert_exporter": "python",
   "pygments_lexer": "ipython3",
   "version": "3.8.16"
  },
  "toc": {
   "base_numbering": 1,
   "nav_menu": {},
   "number_sections": true,
   "sideBar": true,
   "skip_h1_title": false,
   "title_cell": "Table of Contents",
   "title_sidebar": "Contents",
   "toc_cell": false,
   "toc_position": {},
   "toc_section_display": true,
   "toc_window_display": false
  }
 },
 "nbformat": 4,
 "nbformat_minor": 5
}
