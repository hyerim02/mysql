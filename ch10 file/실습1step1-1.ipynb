{
 "cells": [
  {
   "cell_type": "markdown",
   "id": "d3e59dcd",
   "metadata": {},
   "source": [
    "### IF ELSE문 사용"
   ]
  },
  {
   "cell_type": "code",
   "execution_count": 1,
   "id": "b529264a",
   "metadata": {
    "ExecuteTime": {
     "end_time": "2023-06-03T08:10:01.365602Z",
     "start_time": "2023-06-03T08:10:00.774601Z"
    }
   },
   "outputs": [],
   "source": [
    "import pandas as pd\n",
    "import pymysql"
   ]
  },
  {
   "cell_type": "code",
   "execution_count": 2,
   "id": "a1e61926",
   "metadata": {
    "ExecuteTime": {
     "end_time": "2023-06-03T08:10:01.396307Z",
     "start_time": "2023-06-03T08:10:01.371251Z"
    }
   },
   "outputs": [],
   "source": [
    "conn1=pymysql.connect(host='127.0.0.1',user='root',password='1234',db='sqldb',charset='utf8')"
   ]
  },
  {
   "cell_type": "code",
   "execution_count": 3,
   "id": "5140c0d4",
   "metadata": {
    "ExecuteTime": {
     "end_time": "2023-06-03T08:10:01.411168Z",
     "start_time": "2023-06-03T08:10:01.398631Z"
    }
   },
   "outputs": [],
   "source": [
    "cur_1=conn1.cursor()"
   ]
  },
  {
   "cell_type": "code",
   "execution_count": 4,
   "id": "b15ca8a5",
   "metadata": {
    "ExecuteTime": {
     "end_time": "2023-06-03T08:10:01.426222Z",
     "start_time": "2023-06-03T08:10:01.416217Z"
    }
   },
   "outputs": [],
   "source": [
    "sql=\"CALL ifelseProc('조용필');\""
   ]
  },
  {
   "cell_type": "code",
   "execution_count": 5,
   "id": "d074880f",
   "metadata": {
    "ExecuteTime": {
     "end_time": "2023-06-03T08:10:01.441503Z",
     "start_time": "2023-06-03T08:10:01.430200Z"
    }
   },
   "outputs": [],
   "source": [
    "cur_1.execute(sql)\n",
    "rows_1=cur_1.fetchall()\n",
    "conn1.close()"
   ]
  },
  {
   "cell_type": "code",
   "execution_count": 6,
   "id": "efa0c299",
   "metadata": {
    "ExecuteTime": {
     "end_time": "2023-06-03T08:10:01.472267Z",
     "start_time": "2023-06-03T08:10:01.446781Z"
    }
   },
   "outputs": [
    {
     "data": {
      "text/html": [
       "<div>\n",
       "<style scoped>\n",
       "    .dataframe tbody tr th:only-of-type {\n",
       "        vertical-align: middle;\n",
       "    }\n",
       "\n",
       "    .dataframe tbody tr th {\n",
       "        vertical-align: top;\n",
       "    }\n",
       "\n",
       "    .dataframe thead th {\n",
       "        text-align: right;\n",
       "    }\n",
       "</style>\n",
       "<table border=\"1\" class=\"dataframe\">\n",
       "  <thead>\n",
       "    <tr style=\"text-align: right;\">\n",
       "      <th></th>\n",
       "      <th>0</th>\n",
       "    </tr>\n",
       "  </thead>\n",
       "  <tbody>\n",
       "    <tr>\n",
       "      <th>0</th>\n",
       "      <td>나이가 지긋하시네요.</td>\n",
       "    </tr>\n",
       "  </tbody>\n",
       "</table>\n",
       "</div>"
      ],
      "text/plain": [
       "             0\n",
       "0  나이가 지긋하시네요."
      ]
     },
     "execution_count": 6,
     "metadata": {},
     "output_type": "execute_result"
    }
   ],
   "source": [
    "pd_1=pd.DataFrame(rows_1)\n",
    "pd_1"
   ]
  },
  {
   "cell_type": "markdown",
   "id": "88f040f0",
   "metadata": {},
   "source": [
    "### CASE 문을 사용"
   ]
  },
  {
   "cell_type": "code",
   "execution_count": 7,
   "id": "4057e3b2",
   "metadata": {
    "ExecuteTime": {
     "end_time": "2023-06-03T08:10:01.487590Z",
     "start_time": "2023-06-03T08:10:01.476978Z"
    }
   },
   "outputs": [],
   "source": [
    "import pandas as pd\n",
    "import pymysql"
   ]
  },
  {
   "cell_type": "code",
   "execution_count": 8,
   "id": "15d8e7f2",
   "metadata": {
    "ExecuteTime": {
     "end_time": "2023-06-03T08:10:01.503282Z",
     "start_time": "2023-06-03T08:10:01.492814Z"
    }
   },
   "outputs": [],
   "source": [
    "conn1=pymysql.connect(host='127.0.0.1',user='root',password='1234',db='sqldb',charset='utf8')"
   ]
  },
  {
   "cell_type": "code",
   "execution_count": 9,
   "id": "67cb0c22",
   "metadata": {
    "ExecuteTime": {
     "end_time": "2023-06-03T08:10:01.518441Z",
     "start_time": "2023-06-03T08:10:01.508848Z"
    }
   },
   "outputs": [],
   "source": [
    "cur_1=conn1.cursor()"
   ]
  },
  {
   "cell_type": "code",
   "execution_count": 10,
   "id": "3ae44631",
   "metadata": {
    "ExecuteTime": {
     "end_time": "2023-06-03T08:10:01.533992Z",
     "start_time": "2023-06-03T08:10:01.522691Z"
    }
   },
   "outputs": [],
   "source": [
    "sql=\"CALL caseProc('김범수');\""
   ]
  },
  {
   "cell_type": "code",
   "execution_count": 11,
   "id": "eb6b6054",
   "metadata": {
    "ExecuteTime": {
     "end_time": "2023-06-03T08:10:01.550090Z",
     "start_time": "2023-06-03T08:10:01.535022Z"
    }
   },
   "outputs": [],
   "source": [
    "cur_1.execute(sql)\n",
    "rows_1=cur_1.fetchall()\n",
    "conn1.close()"
   ]
  },
  {
   "cell_type": "code",
   "execution_count": 12,
   "id": "c1a32895",
   "metadata": {
    "ExecuteTime": {
     "end_time": "2023-06-03T08:10:01.565296Z",
     "start_time": "2023-06-03T08:10:01.551092Z"
    }
   },
   "outputs": [
    {
     "data": {
      "text/html": [
       "<div>\n",
       "<style scoped>\n",
       "    .dataframe tbody tr th:only-of-type {\n",
       "        vertical-align: middle;\n",
       "    }\n",
       "\n",
       "    .dataframe tbody tr th {\n",
       "        vertical-align: top;\n",
       "    }\n",
       "\n",
       "    .dataframe thead th {\n",
       "        text-align: right;\n",
       "    }\n",
       "</style>\n",
       "<table border=\"1\" class=\"dataframe\">\n",
       "  <thead>\n",
       "    <tr style=\"text-align: right;\">\n",
       "      <th></th>\n",
       "      <th>0</th>\n",
       "    </tr>\n",
       "  </thead>\n",
       "  <tbody>\n",
       "    <tr>\n",
       "      <th>0</th>\n",
       "      <td>김범수의 띠==&gt;양</td>\n",
       "    </tr>\n",
       "  </tbody>\n",
       "</table>\n",
       "</div>"
      ],
      "text/plain": [
       "            0\n",
       "0  김범수의 띠==>양"
      ]
     },
     "execution_count": 12,
     "metadata": {},
     "output_type": "execute_result"
    }
   ],
   "source": [
    "pd_1=pd.DataFrame(rows_1)\n",
    "pd_1"
   ]
  },
  {
   "cell_type": "markdown",
   "id": "82cc7af0",
   "metadata": {},
   "source": [
    "### while문 활용"
   ]
  },
  {
   "cell_type": "code",
   "execution_count": 14,
   "id": "0c103664",
   "metadata": {
    "ExecuteTime": {
     "end_time": "2023-06-03T09:12:31.667423Z",
     "start_time": "2023-06-03T09:12:31.660787Z"
    }
   },
   "outputs": [],
   "source": [
    "import pandas as pd\n",
    "import pymysql"
   ]
  },
  {
   "cell_type": "code",
   "execution_count": 15,
   "id": "8dd538b5",
   "metadata": {
    "ExecuteTime": {
     "end_time": "2023-06-03T09:12:32.830152Z",
     "start_time": "2023-06-03T09:12:32.819681Z"
    }
   },
   "outputs": [],
   "source": [
    "conn1=pymysql.connect(host='127.0.0.1',user='root',password='1234',db='sqldb',charset='utf8')"
   ]
  },
  {
   "cell_type": "code",
   "execution_count": 16,
   "id": "29b30563",
   "metadata": {
    "ExecuteTime": {
     "end_time": "2023-06-03T09:12:33.491205Z",
     "start_time": "2023-06-03T09:12:33.474869Z"
    }
   },
   "outputs": [],
   "source": [
    "cur_1=conn1.cursor()"
   ]
  },
  {
   "cell_type": "code",
   "execution_count": 17,
   "id": "3675ed2b",
   "metadata": {
    "ExecuteTime": {
     "end_time": "2023-06-03T09:12:34.290860Z",
     "start_time": "2023-06-03T09:12:34.279089Z"
    }
   },
   "outputs": [],
   "source": [
    "sql=\"CALL whileProc();\"\n",
    "sql2=\"SELECT * FROM guguTBL;\""
   ]
  },
  {
   "cell_type": "code",
   "execution_count": 18,
   "id": "86b22bd4",
   "metadata": {
    "ExecuteTime": {
     "end_time": "2023-06-03T09:12:35.041525Z",
     "start_time": "2023-06-03T09:12:35.020022Z"
    }
   },
   "outputs": [],
   "source": [
    "cur_1.execute(sql)\n",
    "cur_1.execute(sql2)\n",
    "rows_1=cur_1.fetchall()\n",
    "conn1.close()"
   ]
  },
  {
   "cell_type": "code",
   "execution_count": 19,
   "id": "d26bf611",
   "metadata": {
    "ExecuteTime": {
     "end_time": "2023-06-03T09:12:35.806779Z",
     "start_time": "2023-06-03T09:12:35.797310Z"
    },
    "scrolled": true
   },
   "outputs": [
    {
     "data": {
      "text/html": [
       "<div>\n",
       "<style scoped>\n",
       "    .dataframe tbody tr th:only-of-type {\n",
       "        vertical-align: middle;\n",
       "    }\n",
       "\n",
       "    .dataframe tbody tr th {\n",
       "        vertical-align: top;\n",
       "    }\n",
       "\n",
       "    .dataframe thead th {\n",
       "        text-align: right;\n",
       "    }\n",
       "</style>\n",
       "<table border=\"1\" class=\"dataframe\">\n",
       "  <thead>\n",
       "    <tr style=\"text-align: right;\">\n",
       "      <th></th>\n",
       "      <th>0</th>\n",
       "    </tr>\n",
       "  </thead>\n",
       "  <tbody>\n",
       "    <tr>\n",
       "      <th>0</th>\n",
       "      <td>2x1=2 2x2=4 2x3=6 2x4=8 2x5=10 2x6=12 2x7=14 ...</td>\n",
       "    </tr>\n",
       "    <tr>\n",
       "      <th>1</th>\n",
       "      <td>3x1=3 3x2=6 3x3=9 3x4=12 3x5=15 3x6=18 3x7=21...</td>\n",
       "    </tr>\n",
       "    <tr>\n",
       "      <th>2</th>\n",
       "      <td>4x1=4 4x2=8 4x3=12 4x4=16 4x5=20 4x6=24 4x7=2...</td>\n",
       "    </tr>\n",
       "    <tr>\n",
       "      <th>3</th>\n",
       "      <td>5x1=5 5x2=10 5x3=15 5x4=20 5x5=25 5x6=30 5x7=...</td>\n",
       "    </tr>\n",
       "    <tr>\n",
       "      <th>4</th>\n",
       "      <td>6x1=6 6x2=12 6x3=18 6x4=24 6x5=30 6x6=36 6x7=...</td>\n",
       "    </tr>\n",
       "    <tr>\n",
       "      <th>5</th>\n",
       "      <td>7x1=7 7x2=14 7x3=21 7x4=28 7x5=35 7x6=42 7x7=...</td>\n",
       "    </tr>\n",
       "    <tr>\n",
       "      <th>6</th>\n",
       "      <td>8x1=8 8x2=16 8x3=24 8x4=32 8x5=40 8x6=48 8x7=...</td>\n",
       "    </tr>\n",
       "    <tr>\n",
       "      <th>7</th>\n",
       "      <td>9x1=9 9x2=18 9x3=27 9x4=36 9x5=45 9x6=54 9x7=...</td>\n",
       "    </tr>\n",
       "    <tr>\n",
       "      <th>8</th>\n",
       "      <td>2x1=2 2x2=4 2x3=6 2x4=8 2x5=10 2x6=12 2x7=14 ...</td>\n",
       "    </tr>\n",
       "    <tr>\n",
       "      <th>9</th>\n",
       "      <td>3x1=3 3x2=6 3x3=9 3x4=12 3x5=15 3x6=18 3x7=21...</td>\n",
       "    </tr>\n",
       "    <tr>\n",
       "      <th>10</th>\n",
       "      <td>4x1=4 4x2=8 4x3=12 4x4=16 4x5=20 4x6=24 4x7=2...</td>\n",
       "    </tr>\n",
       "    <tr>\n",
       "      <th>11</th>\n",
       "      <td>5x1=5 5x2=10 5x3=15 5x4=20 5x5=25 5x6=30 5x7=...</td>\n",
       "    </tr>\n",
       "    <tr>\n",
       "      <th>12</th>\n",
       "      <td>6x1=6 6x2=12 6x3=18 6x4=24 6x5=30 6x6=36 6x7=...</td>\n",
       "    </tr>\n",
       "    <tr>\n",
       "      <th>13</th>\n",
       "      <td>7x1=7 7x2=14 7x3=21 7x4=28 7x5=35 7x6=42 7x7=...</td>\n",
       "    </tr>\n",
       "    <tr>\n",
       "      <th>14</th>\n",
       "      <td>8x1=8 8x2=16 8x3=24 8x4=32 8x5=40 8x6=48 8x7=...</td>\n",
       "    </tr>\n",
       "    <tr>\n",
       "      <th>15</th>\n",
       "      <td>9x1=9 9x2=18 9x3=27 9x4=36 9x5=45 9x6=54 9x7=...</td>\n",
       "    </tr>\n",
       "  </tbody>\n",
       "</table>\n",
       "</div>"
      ],
      "text/plain": [
       "                                                    0\n",
       "0    2x1=2 2x2=4 2x3=6 2x4=8 2x5=10 2x6=12 2x7=14 ...\n",
       "1    3x1=3 3x2=6 3x3=9 3x4=12 3x5=15 3x6=18 3x7=21...\n",
       "2    4x1=4 4x2=8 4x3=12 4x4=16 4x5=20 4x6=24 4x7=2...\n",
       "3    5x1=5 5x2=10 5x3=15 5x4=20 5x5=25 5x6=30 5x7=...\n",
       "4    6x1=6 6x2=12 6x3=18 6x4=24 6x5=30 6x6=36 6x7=...\n",
       "5    7x1=7 7x2=14 7x3=21 7x4=28 7x5=35 7x6=42 7x7=...\n",
       "6    8x1=8 8x2=16 8x3=24 8x4=32 8x5=40 8x6=48 8x7=...\n",
       "7    9x1=9 9x2=18 9x3=27 9x4=36 9x5=45 9x6=54 9x7=...\n",
       "8    2x1=2 2x2=4 2x3=6 2x4=8 2x5=10 2x6=12 2x7=14 ...\n",
       "9    3x1=3 3x2=6 3x3=9 3x4=12 3x5=15 3x6=18 3x7=21...\n",
       "10   4x1=4 4x2=8 4x3=12 4x4=16 4x5=20 4x6=24 4x7=2...\n",
       "11   5x1=5 5x2=10 5x3=15 5x4=20 5x5=25 5x6=30 5x7=...\n",
       "12   6x1=6 6x2=12 6x3=18 6x4=24 6x5=30 6x6=36 6x7=...\n",
       "13   7x1=7 7x2=14 7x3=21 7x4=28 7x5=35 7x6=42 7x7=...\n",
       "14   8x1=8 8x2=16 8x3=24 8x4=32 8x5=40 8x6=48 8x7=...\n",
       "15   9x1=9 9x2=18 9x3=27 9x4=36 9x5=45 9x6=54 9x7=..."
      ]
     },
     "execution_count": 19,
     "metadata": {},
     "output_type": "execute_result"
    }
   ],
   "source": [
    "pd_1=pd.DataFrame(rows_1)\n",
    "pd_1"
   ]
  },
  {
   "cell_type": "markdown",
   "id": "7eed33b5",
   "metadata": {},
   "source": [
    "### DECLARE HANDLER 이용해서 에러처리"
   ]
  },
  {
   "cell_type": "code",
   "execution_count": 20,
   "id": "dc1a60ea",
   "metadata": {
    "ExecuteTime": {
     "end_time": "2023-06-03T09:19:49.801345Z",
     "start_time": "2023-06-03T09:19:49.783131Z"
    }
   },
   "outputs": [],
   "source": [
    "import pandas as pd\n",
    "import pymysql"
   ]
  },
  {
   "cell_type": "code",
   "execution_count": 21,
   "id": "f8b48d7e",
   "metadata": {
    "ExecuteTime": {
     "end_time": "2023-06-03T09:19:50.549176Z",
     "start_time": "2023-06-03T09:19:50.534503Z"
    }
   },
   "outputs": [],
   "source": [
    "conn1=pymysql.connect(host='127.0.0.1',user='root',password='1234',db='sqldb',charset='utf8')"
   ]
  },
  {
   "cell_type": "code",
   "execution_count": 22,
   "id": "11a1a8d0",
   "metadata": {
    "ExecuteTime": {
     "end_time": "2023-06-03T09:19:51.359025Z",
     "start_time": "2023-06-03T09:19:51.345475Z"
    }
   },
   "outputs": [],
   "source": [
    "cur_1=conn1.cursor()"
   ]
  },
  {
   "cell_type": "code",
   "execution_count": 23,
   "id": "280c6dd4",
   "metadata": {
    "ExecuteTime": {
     "end_time": "2023-06-03T09:19:52.017625Z",
     "start_time": "2023-06-03T09:19:52.005459Z"
    }
   },
   "outputs": [],
   "source": [
    "sql=\"CALL errorProc();\""
   ]
  },
  {
   "cell_type": "code",
   "execution_count": 24,
   "id": "90fe20da",
   "metadata": {
    "ExecuteTime": {
     "end_time": "2023-06-03T09:19:53.107468Z",
     "start_time": "2023-06-03T09:19:52.672375Z"
    }
   },
   "outputs": [],
   "source": [
    "cur_1.execute(sql)\n",
    "rows_1=cur_1.fetchall()\n",
    "conn1.close()"
   ]
  },
  {
   "cell_type": "code",
   "execution_count": 25,
   "id": "8cdfc35d",
   "metadata": {
    "ExecuteTime": {
     "end_time": "2023-06-03T09:19:53.367119Z",
     "start_time": "2023-06-03T09:19:53.351952Z"
    }
   },
   "outputs": [
    {
     "data": {
      "text/html": [
       "<div>\n",
       "<style scoped>\n",
       "    .dataframe tbody tr th:only-of-type {\n",
       "        vertical-align: middle;\n",
       "    }\n",
       "\n",
       "    .dataframe tbody tr th {\n",
       "        vertical-align: top;\n",
       "    }\n",
       "\n",
       "    .dataframe thead th {\n",
       "        text-align: right;\n",
       "    }\n",
       "</style>\n",
       "<table border=\"1\" class=\"dataframe\">\n",
       "  <thead>\n",
       "    <tr style=\"text-align: right;\">\n",
       "      <th></th>\n",
       "      <th>0</th>\n",
       "    </tr>\n",
       "  </thead>\n",
       "  <tbody>\n",
       "    <tr>\n",
       "      <th>0</th>\n",
       "      <td>INT 오버플로 직접의 합계--&gt;2147450880</td>\n",
       "    </tr>\n",
       "  </tbody>\n",
       "</table>\n",
       "</div>"
      ],
      "text/plain": [
       "                              0\n",
       "0  INT 오버플로 직접의 합계-->2147450880"
      ]
     },
     "execution_count": 25,
     "metadata": {},
     "output_type": "execute_result"
    }
   ],
   "source": [
    "pd_1=pd.DataFrame(rows_1)\n",
    "pd_1"
   ]
  },
  {
   "cell_type": "markdown",
   "id": "12d3d954",
   "metadata": {},
   "source": [
    "### 현재 저장된 프로시저 이름과 내용 확인"
   ]
  },
  {
   "cell_type": "code",
   "execution_count": 26,
   "id": "e19fe18d",
   "metadata": {
    "ExecuteTime": {
     "end_time": "2023-06-03T09:23:38.510123Z",
     "start_time": "2023-06-03T09:23:38.502259Z"
    }
   },
   "outputs": [],
   "source": [
    "import pandas as pd\n",
    "import pymysql"
   ]
  },
  {
   "cell_type": "code",
   "execution_count": 27,
   "id": "43f15cc4",
   "metadata": {
    "ExecuteTime": {
     "end_time": "2023-06-03T09:23:39.398790Z",
     "start_time": "2023-06-03T09:23:39.385919Z"
    }
   },
   "outputs": [],
   "source": [
    "conn1=pymysql.connect(host='127.0.0.1',user='root',password='1234',db='sqldb',charset='utf8')"
   ]
  },
  {
   "cell_type": "code",
   "execution_count": 28,
   "id": "20337c64",
   "metadata": {
    "ExecuteTime": {
     "end_time": "2023-06-03T09:23:40.176035Z",
     "start_time": "2023-06-03T09:23:40.161658Z"
    }
   },
   "outputs": [],
   "source": [
    "cur_1=conn1.cursor()"
   ]
  },
  {
   "cell_type": "code",
   "execution_count": 29,
   "id": "72b99e66",
   "metadata": {
    "ExecuteTime": {
     "end_time": "2023-06-03T09:23:40.860442Z",
     "start_time": "2023-06-03T09:23:40.851881Z"
    }
   },
   "outputs": [],
   "source": [
    "sql=\"SELECT routine_name, routine_definition FROM INFORMATION_SCHEMA.ROUTINES WHERE routine_schema='sqldb' AND routine_type='PROCEDURE';\""
   ]
  },
  {
   "cell_type": "code",
   "execution_count": 30,
   "id": "d437a8ac",
   "metadata": {
    "ExecuteTime": {
     "end_time": "2023-06-03T09:23:41.611051Z",
     "start_time": "2023-06-03T09:23:41.595838Z"
    }
   },
   "outputs": [],
   "source": [
    "cur_1.execute(sql)\n",
    "rows_1=cur_1.fetchall()\n",
    "conn1.close()"
   ]
  },
  {
   "cell_type": "code",
   "execution_count": 31,
   "id": "4bdf7554",
   "metadata": {
    "ExecuteTime": {
     "end_time": "2023-06-03T09:23:42.318218Z",
     "start_time": "2023-06-03T09:23:42.296691Z"
    }
   },
   "outputs": [
    {
     "data": {
      "text/html": [
       "<div>\n",
       "<style scoped>\n",
       "    .dataframe tbody tr th:only-of-type {\n",
       "        vertical-align: middle;\n",
       "    }\n",
       "\n",
       "    .dataframe tbody tr th {\n",
       "        vertical-align: top;\n",
       "    }\n",
       "\n",
       "    .dataframe thead th {\n",
       "        text-align: right;\n",
       "    }\n",
       "</style>\n",
       "<table border=\"1\" class=\"dataframe\">\n",
       "  <thead>\n",
       "    <tr style=\"text-align: right;\">\n",
       "      <th></th>\n",
       "      <th>0</th>\n",
       "      <th>1</th>\n",
       "    </tr>\n",
       "  </thead>\n",
       "  <tbody>\n",
       "    <tr>\n",
       "      <th>0</th>\n",
       "      <td>caseProc</td>\n",
       "      <td>BEGIN\\n\\tDECLARE bYear INT;\\n    DECLARE tti C...</td>\n",
       "    </tr>\n",
       "    <tr>\n",
       "      <th>1</th>\n",
       "      <td>errorProc</td>\n",
       "      <td>BEGIN\\n    DECLARE i INT;\\n    DECLARE hap INT...</td>\n",
       "    </tr>\n",
       "    <tr>\n",
       "      <th>2</th>\n",
       "      <td>ifelseProc</td>\n",
       "      <td>BEGIN\\n\\tDECLARE bYear INT;\\n    SELECT birthY...</td>\n",
       "    </tr>\n",
       "    <tr>\n",
       "      <th>3</th>\n",
       "      <td>userProc</td>\n",
       "      <td>BEGIN\\n\\tSELECT *FROM userTbl;\\nEND</td>\n",
       "    </tr>\n",
       "    <tr>\n",
       "      <th>4</th>\n",
       "      <td>userProc1</td>\n",
       "      <td>BEGIN\\n\\tSELECT *FROM userTbl WHERE name=userN...</td>\n",
       "    </tr>\n",
       "    <tr>\n",
       "      <th>5</th>\n",
       "      <td>userProc2</td>\n",
       "      <td>BEGIN\\n\\tSELECT *FROM userTbl \\n    WHERE birt...</td>\n",
       "    </tr>\n",
       "    <tr>\n",
       "      <th>6</th>\n",
       "      <td>userProc3</td>\n",
       "      <td>BEGIN\\n\\tINSERT INTO testTBL VALUES(NULL,txtVa...</td>\n",
       "    </tr>\n",
       "    <tr>\n",
       "      <th>7</th>\n",
       "      <td>whileProc</td>\n",
       "      <td>BEGIN\\n\\tDECLARE str VARCHAR(100);\\n    DECLAR...</td>\n",
       "    </tr>\n",
       "  </tbody>\n",
       "</table>\n",
       "</div>"
      ],
      "text/plain": [
       "            0                                                  1\n",
       "0    caseProc  BEGIN\\n\\tDECLARE bYear INT;\\n    DECLARE tti C...\n",
       "1   errorProc  BEGIN\\n    DECLARE i INT;\\n    DECLARE hap INT...\n",
       "2  ifelseProc  BEGIN\\n\\tDECLARE bYear INT;\\n    SELECT birthY...\n",
       "3    userProc                BEGIN\\n\\tSELECT *FROM userTbl;\\nEND\n",
       "4   userProc1  BEGIN\\n\\tSELECT *FROM userTbl WHERE name=userN...\n",
       "5   userProc2  BEGIN\\n\\tSELECT *FROM userTbl \\n    WHERE birt...\n",
       "6   userProc3  BEGIN\\n\\tINSERT INTO testTBL VALUES(NULL,txtVa...\n",
       "7   whileProc  BEGIN\\n\\tDECLARE str VARCHAR(100);\\n    DECLAR..."
      ]
     },
     "execution_count": 31,
     "metadata": {},
     "output_type": "execute_result"
    }
   ],
   "source": [
    "pd_1=pd.DataFrame(rows_1)\n",
    "pd_1"
   ]
  },
  {
   "cell_type": "markdown",
   "id": "8bcf2d33",
   "metadata": {},
   "source": [
    "### 파라미터 확인"
   ]
  },
  {
   "cell_type": "code",
   "execution_count": 32,
   "id": "0acc6446",
   "metadata": {
    "ExecuteTime": {
     "end_time": "2023-06-03T09:27:15.445071Z",
     "start_time": "2023-06-03T09:27:15.429657Z"
    }
   },
   "outputs": [],
   "source": [
    "import pandas as pd\n",
    "import pymysql"
   ]
  },
  {
   "cell_type": "code",
   "execution_count": 33,
   "id": "93bd9548",
   "metadata": {
    "ExecuteTime": {
     "end_time": "2023-06-03T09:27:16.237849Z",
     "start_time": "2023-06-03T09:27:16.201054Z"
    }
   },
   "outputs": [],
   "source": [
    "conn1=pymysql.connect(host='127.0.0.1',user='root',password='1234',db='sqldb',charset='utf8')"
   ]
  },
  {
   "cell_type": "code",
   "execution_count": 34,
   "id": "70acdcca",
   "metadata": {
    "ExecuteTime": {
     "end_time": "2023-06-03T09:27:17.003135Z",
     "start_time": "2023-06-03T09:27:16.991995Z"
    }
   },
   "outputs": [],
   "source": [
    "cur_1=conn1.cursor()"
   ]
  },
  {
   "cell_type": "code",
   "execution_count": 35,
   "id": "02823515",
   "metadata": {
    "ExecuteTime": {
     "end_time": "2023-06-03T09:27:17.734205Z",
     "start_time": "2023-06-03T09:27:17.724652Z"
    }
   },
   "outputs": [],
   "source": [
    "sql=\"SELECT parameter_mode, parameter_name, dtd_identifier FROM INFORMATION_SCHEMA.PARAMETERS WHERE specific_name='userProc3';\""
   ]
  },
  {
   "cell_type": "code",
   "execution_count": 36,
   "id": "6a7c4827",
   "metadata": {
    "ExecuteTime": {
     "end_time": "2023-06-03T09:27:18.377242Z",
     "start_time": "2023-06-03T09:27:18.354954Z"
    }
   },
   "outputs": [],
   "source": [
    "cur_1.execute(sql)\n",
    "rows_1=cur_1.fetchall()\n",
    "conn1.close()"
   ]
  },
  {
   "cell_type": "code",
   "execution_count": 37,
   "id": "e690bccd",
   "metadata": {
    "ExecuteTime": {
     "end_time": "2023-06-03T09:27:19.156987Z",
     "start_time": "2023-06-03T09:27:19.143132Z"
    }
   },
   "outputs": [
    {
     "data": {
      "text/html": [
       "<div>\n",
       "<style scoped>\n",
       "    .dataframe tbody tr th:only-of-type {\n",
       "        vertical-align: middle;\n",
       "    }\n",
       "\n",
       "    .dataframe tbody tr th {\n",
       "        vertical-align: top;\n",
       "    }\n",
       "\n",
       "    .dataframe thead th {\n",
       "        text-align: right;\n",
       "    }\n",
       "</style>\n",
       "<table border=\"1\" class=\"dataframe\">\n",
       "  <thead>\n",
       "    <tr style=\"text-align: right;\">\n",
       "      <th></th>\n",
       "      <th>0</th>\n",
       "      <th>1</th>\n",
       "      <th>2</th>\n",
       "    </tr>\n",
       "  </thead>\n",
       "  <tbody>\n",
       "    <tr>\n",
       "      <th>0</th>\n",
       "      <td>IN</td>\n",
       "      <td>txtValue</td>\n",
       "      <td>char(10)</td>\n",
       "    </tr>\n",
       "    <tr>\n",
       "      <th>1</th>\n",
       "      <td>OUT</td>\n",
       "      <td>outValue</td>\n",
       "      <td>int</td>\n",
       "    </tr>\n",
       "  </tbody>\n",
       "</table>\n",
       "</div>"
      ],
      "text/plain": [
       "     0         1         2\n",
       "0   IN  txtValue  char(10)\n",
       "1  OUT  outValue       int"
      ]
     },
     "execution_count": 37,
     "metadata": {},
     "output_type": "execute_result"
    }
   ],
   "source": [
    "pd_1=pd.DataFrame(rows_1)\n",
    "pd_1"
   ]
  },
  {
   "cell_type": "markdown",
   "id": "0410d109",
   "metadata": {},
   "source": [
    "### SHOW CREATE PROCEDURE문으로 확인"
   ]
  },
  {
   "cell_type": "code",
   "execution_count": 38,
   "id": "dbc51c8e",
   "metadata": {
    "ExecuteTime": {
     "end_time": "2023-06-03T09:32:16.960893Z",
     "start_time": "2023-06-03T09:32:16.956136Z"
    }
   },
   "outputs": [],
   "source": [
    "import pandas as pd\n",
    "import pymysql"
   ]
  },
  {
   "cell_type": "code",
   "execution_count": 39,
   "id": "c2f1e058",
   "metadata": {
    "ExecuteTime": {
     "end_time": "2023-06-03T09:32:17.602536Z",
     "start_time": "2023-06-03T09:32:17.587274Z"
    }
   },
   "outputs": [],
   "source": [
    "conn1=pymysql.connect(host='127.0.0.1',user='root',password='1234',db='sqldb',charset='utf8')"
   ]
  },
  {
   "cell_type": "code",
   "execution_count": 40,
   "id": "9fbe2e9d",
   "metadata": {
    "ExecuteTime": {
     "end_time": "2023-06-03T09:32:18.322571Z",
     "start_time": "2023-06-03T09:32:18.305319Z"
    }
   },
   "outputs": [],
   "source": [
    "cur_1=conn1.cursor()"
   ]
  },
  {
   "cell_type": "code",
   "execution_count": 41,
   "id": "907e6892",
   "metadata": {
    "ExecuteTime": {
     "end_time": "2023-06-03T09:32:18.979279Z",
     "start_time": "2023-06-03T09:32:18.966172Z"
    }
   },
   "outputs": [],
   "source": [
    "sql=\"SHOW CREATE PROCEDURE sqldb.userProc3;\""
   ]
  },
  {
   "cell_type": "code",
   "execution_count": 42,
   "id": "9481ba37",
   "metadata": {
    "ExecuteTime": {
     "end_time": "2023-06-03T09:32:19.637018Z",
     "start_time": "2023-06-03T09:32:19.627398Z"
    }
   },
   "outputs": [],
   "source": [
    "cur_1.execute(sql)\n",
    "rows_1=cur_1.fetchall()\n",
    "conn1.close()"
   ]
  },
  {
   "cell_type": "code",
   "execution_count": 43,
   "id": "a3100050",
   "metadata": {
    "ExecuteTime": {
     "end_time": "2023-06-03T09:32:20.329904Z",
     "start_time": "2023-06-03T09:32:20.313299Z"
    }
   },
   "outputs": [
    {
     "data": {
      "text/html": [
       "<div>\n",
       "<style scoped>\n",
       "    .dataframe tbody tr th:only-of-type {\n",
       "        vertical-align: middle;\n",
       "    }\n",
       "\n",
       "    .dataframe tbody tr th {\n",
       "        vertical-align: top;\n",
       "    }\n",
       "\n",
       "    .dataframe thead th {\n",
       "        text-align: right;\n",
       "    }\n",
       "</style>\n",
       "<table border=\"1\" class=\"dataframe\">\n",
       "  <thead>\n",
       "    <tr style=\"text-align: right;\">\n",
       "      <th></th>\n",
       "      <th>0</th>\n",
       "      <th>1</th>\n",
       "      <th>2</th>\n",
       "      <th>3</th>\n",
       "      <th>4</th>\n",
       "      <th>5</th>\n",
       "    </tr>\n",
       "  </thead>\n",
       "  <tbody>\n",
       "    <tr>\n",
       "      <th>0</th>\n",
       "      <td>userProc3</td>\n",
       "      <td>STRICT_TRANS_TABLES,NO_ENGINE_SUBSTITUTION</td>\n",
       "      <td>CREATE DEFINER=`root`@`localhost` PROCEDURE `u...</td>\n",
       "      <td>utf8mb4</td>\n",
       "      <td>utf8mb4_0900_ai_ci</td>\n",
       "      <td>utf8mb4_0900_ai_ci</td>\n",
       "    </tr>\n",
       "  </tbody>\n",
       "</table>\n",
       "</div>"
      ],
      "text/plain": [
       "           0                                           1  \\\n",
       "0  userProc3  STRICT_TRANS_TABLES,NO_ENGINE_SUBSTITUTION   \n",
       "\n",
       "                                                   2        3  \\\n",
       "0  CREATE DEFINER=`root`@`localhost` PROCEDURE `u...  utf8mb4   \n",
       "\n",
       "                    4                   5  \n",
       "0  utf8mb4_0900_ai_ci  utf8mb4_0900_ai_ci  "
      ]
     },
     "execution_count": 43,
     "metadata": {},
     "output_type": "execute_result"
    }
   ],
   "source": [
    "pd_1=pd.DataFrame(rows_1)\n",
    "pd_1"
   ]
  },
  {
   "cell_type": "markdown",
   "id": "945c1377",
   "metadata": {},
   "source": [
    "### 직접 테이블 이름을 파라미터로 전달하는 방법"
   ]
  },
  {
   "cell_type": "markdown",
   "id": "3c55783a",
   "metadata": {},
   "source": [
    "에러"
   ]
  },
  {
   "cell_type": "markdown",
   "id": "de64bb89",
   "metadata": {},
   "source": [
    "### 동적 SQL "
   ]
  },
  {
   "cell_type": "code",
   "execution_count": 44,
   "id": "decf0405",
   "metadata": {
    "ExecuteTime": {
     "end_time": "2023-06-03T09:53:47.302874Z",
     "start_time": "2023-06-03T09:53:47.289661Z"
    }
   },
   "outputs": [],
   "source": [
    "import pandas as pd\n",
    "import pymysql"
   ]
  },
  {
   "cell_type": "code",
   "execution_count": 45,
   "id": "9d036d52",
   "metadata": {
    "ExecuteTime": {
     "end_time": "2023-06-03T09:53:48.020098Z",
     "start_time": "2023-06-03T09:53:48.001091Z"
    }
   },
   "outputs": [],
   "source": [
    "conn1=pymysql.connect(host='127.0.0.1',user='root',password='1234',db='sqldb',charset='utf8')"
   ]
  },
  {
   "cell_type": "code",
   "execution_count": 46,
   "id": "42d999cf",
   "metadata": {
    "ExecuteTime": {
     "end_time": "2023-06-03T09:53:48.755140Z",
     "start_time": "2023-06-03T09:53:48.748152Z"
    }
   },
   "outputs": [],
   "source": [
    "cur_1=conn1.cursor()"
   ]
  },
  {
   "cell_type": "code",
   "execution_count": 47,
   "id": "c0a374b9",
   "metadata": {
    "ExecuteTime": {
     "end_time": "2023-06-03T09:53:49.627909Z",
     "start_time": "2023-06-03T09:53:49.613558Z"
    }
   },
   "outputs": [],
   "source": [
    "sql=\"CALL nameProc();\""
   ]
  },
  {
   "cell_type": "code",
   "execution_count": 48,
   "id": "8463c23d",
   "metadata": {
    "ExecuteTime": {
     "end_time": "2023-06-03T09:53:50.315541Z",
     "start_time": "2023-06-03T09:53:50.299663Z"
    }
   },
   "outputs": [],
   "source": [
    "cur_1.execute(sql)\n",
    "rows_1=cur_1.fetchall()\n",
    "conn1.close()"
   ]
  },
  {
   "cell_type": "code",
   "execution_count": 49,
   "id": "4b3872ac",
   "metadata": {
    "ExecuteTime": {
     "end_time": "2023-06-03T09:53:52.810944Z",
     "start_time": "2023-06-03T09:53:52.782629Z"
    }
   },
   "outputs": [
    {
     "data": {
      "text/html": [
       "<div>\n",
       "<style scoped>\n",
       "    .dataframe tbody tr th:only-of-type {\n",
       "        vertical-align: middle;\n",
       "    }\n",
       "\n",
       "    .dataframe tbody tr th {\n",
       "        vertical-align: top;\n",
       "    }\n",
       "\n",
       "    .dataframe thead th {\n",
       "        text-align: right;\n",
       "    }\n",
       "</style>\n",
       "<table border=\"1\" class=\"dataframe\">\n",
       "  <thead>\n",
       "    <tr style=\"text-align: right;\">\n",
       "      <th></th>\n",
       "      <th>0</th>\n",
       "      <th>1</th>\n",
       "      <th>2</th>\n",
       "      <th>3</th>\n",
       "      <th>4</th>\n",
       "      <th>5</th>\n",
       "      <th>6</th>\n",
       "      <th>7</th>\n",
       "    </tr>\n",
       "  </thead>\n",
       "  <tbody>\n",
       "    <tr>\n",
       "      <th>0</th>\n",
       "      <td>BBK</td>\n",
       "      <td>바비킴</td>\n",
       "      <td>1973</td>\n",
       "      <td>서울</td>\n",
       "      <td>010</td>\n",
       "      <td>0000000</td>\n",
       "      <td>176</td>\n",
       "      <td>2013-05-05</td>\n",
       "    </tr>\n",
       "    <tr>\n",
       "      <th>1</th>\n",
       "      <td>EJW</td>\n",
       "      <td>은지원</td>\n",
       "      <td>1972</td>\n",
       "      <td>경북</td>\n",
       "      <td>011</td>\n",
       "      <td>8888888</td>\n",
       "      <td>174</td>\n",
       "      <td>2014-03-03</td>\n",
       "    </tr>\n",
       "    <tr>\n",
       "      <th>2</th>\n",
       "      <td>JKW</td>\n",
       "      <td>조관우</td>\n",
       "      <td>1965</td>\n",
       "      <td>경기</td>\n",
       "      <td>018</td>\n",
       "      <td>9999999</td>\n",
       "      <td>172</td>\n",
       "      <td>2010-10-10</td>\n",
       "    </tr>\n",
       "    <tr>\n",
       "      <th>3</th>\n",
       "      <td>JYP</td>\n",
       "      <td>조용필</td>\n",
       "      <td>1950</td>\n",
       "      <td>경기</td>\n",
       "      <td>011</td>\n",
       "      <td>4444444</td>\n",
       "      <td>166</td>\n",
       "      <td>2009-04-04</td>\n",
       "    </tr>\n",
       "    <tr>\n",
       "      <th>4</th>\n",
       "      <td>KBS</td>\n",
       "      <td>김범수</td>\n",
       "      <td>1979</td>\n",
       "      <td>경남</td>\n",
       "      <td>011</td>\n",
       "      <td>2222222</td>\n",
       "      <td>173</td>\n",
       "      <td>2012-04-04</td>\n",
       "    </tr>\n",
       "    <tr>\n",
       "      <th>5</th>\n",
       "      <td>KKH</td>\n",
       "      <td>김경호</td>\n",
       "      <td>1971</td>\n",
       "      <td>전남</td>\n",
       "      <td>019</td>\n",
       "      <td>3333333</td>\n",
       "      <td>177</td>\n",
       "      <td>2007-07-07</td>\n",
       "    </tr>\n",
       "    <tr>\n",
       "      <th>6</th>\n",
       "      <td>LJB</td>\n",
       "      <td>임재범</td>\n",
       "      <td>1963</td>\n",
       "      <td>서울</td>\n",
       "      <td>016</td>\n",
       "      <td>6666666</td>\n",
       "      <td>182</td>\n",
       "      <td>2009-09-09</td>\n",
       "    </tr>\n",
       "    <tr>\n",
       "      <th>7</th>\n",
       "      <td>LSG</td>\n",
       "      <td>이승기</td>\n",
       "      <td>1987</td>\n",
       "      <td>서울</td>\n",
       "      <td>011</td>\n",
       "      <td>1111111</td>\n",
       "      <td>182</td>\n",
       "      <td>2008-08-08</td>\n",
       "    </tr>\n",
       "    <tr>\n",
       "      <th>8</th>\n",
       "      <td>SSK</td>\n",
       "      <td>성시경</td>\n",
       "      <td>1979</td>\n",
       "      <td>서울</td>\n",
       "      <td>None</td>\n",
       "      <td>None</td>\n",
       "      <td>186</td>\n",
       "      <td>2013-12-12</td>\n",
       "    </tr>\n",
       "    <tr>\n",
       "      <th>9</th>\n",
       "      <td>YJS</td>\n",
       "      <td>윤종신</td>\n",
       "      <td>1969</td>\n",
       "      <td>경남</td>\n",
       "      <td>None</td>\n",
       "      <td>None</td>\n",
       "      <td>170</td>\n",
       "      <td>2005-05-05</td>\n",
       "    </tr>\n",
       "  </tbody>\n",
       "</table>\n",
       "</div>"
      ],
      "text/plain": [
       "     0    1     2   3     4        5    6           7\n",
       "0  BBK  바비킴  1973  서울   010  0000000  176  2013-05-05\n",
       "1  EJW  은지원  1972  경북   011  8888888  174  2014-03-03\n",
       "2  JKW  조관우  1965  경기   018  9999999  172  2010-10-10\n",
       "3  JYP  조용필  1950  경기   011  4444444  166  2009-04-04\n",
       "4  KBS  김범수  1979  경남   011  2222222  173  2012-04-04\n",
       "5  KKH  김경호  1971  전남   019  3333333  177  2007-07-07\n",
       "6  LJB  임재범  1963  서울   016  6666666  182  2009-09-09\n",
       "7  LSG  이승기  1987  서울   011  1111111  182  2008-08-08\n",
       "8  SSK  성시경  1979  서울  None     None  186  2013-12-12\n",
       "9  YJS  윤종신  1969  경남  None     None  170  2005-05-05"
      ]
     },
     "execution_count": 49,
     "metadata": {},
     "output_type": "execute_result"
    }
   ],
   "source": [
    "pd_1=pd.DataFrame(rows_1)\n",
    "pd_1"
   ]
  }
 ],
 "metadata": {
  "kernelspec": {
   "display_name": "Python 3 (ipykernel)",
   "language": "python",
   "name": "python3"
  },
  "language_info": {
   "codemirror_mode": {
    "name": "ipython",
    "version": 3
   },
   "file_extension": ".py",
   "mimetype": "text/x-python",
   "name": "python",
   "nbconvert_exporter": "python",
   "pygments_lexer": "ipython3",
   "version": "3.8.16"
  },
  "toc": {
   "base_numbering": 1,
   "nav_menu": {},
   "number_sections": true,
   "sideBar": true,
   "skip_h1_title": false,
   "title_cell": "Table of Contents",
   "title_sidebar": "Contents",
   "toc_cell": false,
   "toc_position": {},
   "toc_section_display": true,
   "toc_window_display": false
  }
 },
 "nbformat": 4,
 "nbformat_minor": 5
}
