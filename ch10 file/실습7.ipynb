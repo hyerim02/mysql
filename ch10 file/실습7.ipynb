{
 "cells": [
  {
   "cell_type": "markdown",
   "id": "a00fa6c5",
   "metadata": {},
   "source": [
    "#### 결과 확인"
   ]
  },
  {
   "cell_type": "code",
   "execution_count": 19,
   "id": "a84424c1",
   "metadata": {
    "ExecuteTime": {
     "end_time": "2023-06-30T05:25:13.867049Z",
     "start_time": "2023-06-30T05:25:13.850398Z"
    }
   },
   "outputs": [],
   "source": [
    "import pandas as pd\n",
    "import pymysql"
   ]
  },
  {
   "cell_type": "code",
   "execution_count": 20,
   "id": "67574fd6",
   "metadata": {
    "ExecuteTime": {
     "end_time": "2023-06-30T05:25:13.881795Z",
     "start_time": "2023-06-30T05:25:13.869632Z"
    }
   },
   "outputs": [],
   "source": [
    "conn1=pymysql.connect(host='127.0.0.1',user='root',password='1234',db='triggerDB',charset='utf8')"
   ]
  },
  {
   "cell_type": "code",
   "execution_count": 21,
   "id": "dff8ab17",
   "metadata": {
    "ExecuteTime": {
     "end_time": "2023-06-30T05:25:13.896838Z",
     "start_time": "2023-06-30T05:25:13.884790Z"
    }
   },
   "outputs": [],
   "source": [
    "cur_1=conn1.cursor()"
   ]
  },
  {
   "cell_type": "code",
   "execution_count": 22,
   "id": "ca9f5580",
   "metadata": {
    "ExecuteTime": {
     "end_time": "2023-06-30T05:25:13.912280Z",
     "start_time": "2023-06-30T05:25:13.900635Z"
    }
   },
   "outputs": [],
   "source": [
    "sql=\"SELECT * FROM orderTbl;\""
   ]
  },
  {
   "cell_type": "code",
   "execution_count": 23,
   "id": "2114797d",
   "metadata": {
    "ExecuteTime": {
     "end_time": "2023-06-30T05:25:13.927389Z",
     "start_time": "2023-06-30T05:25:13.915464Z"
    }
   },
   "outputs": [],
   "source": [
    "cur_1.execute(sql)\n",
    "rows_1=cur_1.fetchall()\n",
    "conn1.close()"
   ]
  },
  {
   "cell_type": "code",
   "execution_count": 24,
   "id": "9bcc19c9",
   "metadata": {
    "ExecuteTime": {
     "end_time": "2023-06-30T05:25:13.958275Z",
     "start_time": "2023-06-30T05:25:13.930035Z"
    }
   },
   "outputs": [
    {
     "data": {
      "text/html": [
       "<div>\n",
       "<style scoped>\n",
       "    .dataframe tbody tr th:only-of-type {\n",
       "        vertical-align: middle;\n",
       "    }\n",
       "\n",
       "    .dataframe tbody tr th {\n",
       "        vertical-align: top;\n",
       "    }\n",
       "\n",
       "    .dataframe thead th {\n",
       "        text-align: right;\n",
       "    }\n",
       "</style>\n",
       "<table border=\"1\" class=\"dataframe\">\n",
       "  <thead>\n",
       "    <tr style=\"text-align: right;\">\n",
       "      <th></th>\n",
       "      <th>0</th>\n",
       "      <th>1</th>\n",
       "      <th>2</th>\n",
       "      <th>3</th>\n",
       "    </tr>\n",
       "  </thead>\n",
       "  <tbody>\n",
       "    <tr>\n",
       "      <th>0</th>\n",
       "      <td>1</td>\n",
       "      <td>JOHN</td>\n",
       "      <td>배</td>\n",
       "      <td>5</td>\n",
       "    </tr>\n",
       "  </tbody>\n",
       "</table>\n",
       "</div>"
      ],
      "text/plain": [
       "   0     1  2  3\n",
       "0  1  JOHN  배  5"
      ]
     },
     "execution_count": 24,
     "metadata": {},
     "output_type": "execute_result"
    }
   ],
   "source": [
    "pd_1=pd.DataFrame(rows_1)\n",
    "pd_1"
   ]
  },
  {
   "cell_type": "markdown",
   "id": "358ed60e",
   "metadata": {},
   "source": [
    "#### 결과 확인"
   ]
  },
  {
   "cell_type": "code",
   "execution_count": 25,
   "id": "83f3f86a",
   "metadata": {
    "ExecuteTime": {
     "end_time": "2023-06-30T05:25:13.974040Z",
     "start_time": "2023-06-30T05:25:13.961579Z"
    }
   },
   "outputs": [],
   "source": [
    "import pandas as pd\n",
    "import pymysql"
   ]
  },
  {
   "cell_type": "code",
   "execution_count": 26,
   "id": "3923085c",
   "metadata": {
    "ExecuteTime": {
     "end_time": "2023-06-30T05:25:13.989201Z",
     "start_time": "2023-06-30T05:25:13.976447Z"
    }
   },
   "outputs": [],
   "source": [
    "conn1=pymysql.connect(host='127.0.0.1',user='root',password='1234',db='triggerDB',charset='utf8')"
   ]
  },
  {
   "cell_type": "code",
   "execution_count": 27,
   "id": "bd3294cb",
   "metadata": {
    "ExecuteTime": {
     "end_time": "2023-06-30T05:25:14.004215Z",
     "start_time": "2023-06-30T05:25:13.991341Z"
    }
   },
   "outputs": [],
   "source": [
    "cur_1=conn1.cursor()"
   ]
  },
  {
   "cell_type": "code",
   "execution_count": 28,
   "id": "6811ad83",
   "metadata": {
    "ExecuteTime": {
     "end_time": "2023-06-30T05:25:14.019091Z",
     "start_time": "2023-06-30T05:25:14.008119Z"
    }
   },
   "outputs": [],
   "source": [
    "sql=\"SELECT * FROM prodTbl;\""
   ]
  },
  {
   "cell_type": "code",
   "execution_count": 29,
   "id": "3aae6656",
   "metadata": {
    "ExecuteTime": {
     "end_time": "2023-06-30T05:25:14.034415Z",
     "start_time": "2023-06-30T05:25:14.020713Z"
    }
   },
   "outputs": [],
   "source": [
    "cur_1.execute(sql)\n",
    "rows_1=cur_1.fetchall()\n",
    "conn1.close()"
   ]
  },
  {
   "cell_type": "code",
   "execution_count": 30,
   "id": "cad87345",
   "metadata": {
    "ExecuteTime": {
     "end_time": "2023-06-30T05:25:14.049564Z",
     "start_time": "2023-06-30T05:25:14.035936Z"
    }
   },
   "outputs": [
    {
     "data": {
      "text/html": [
       "<div>\n",
       "<style scoped>\n",
       "    .dataframe tbody tr th:only-of-type {\n",
       "        vertical-align: middle;\n",
       "    }\n",
       "\n",
       "    .dataframe tbody tr th {\n",
       "        vertical-align: top;\n",
       "    }\n",
       "\n",
       "    .dataframe thead th {\n",
       "        text-align: right;\n",
       "    }\n",
       "</style>\n",
       "<table border=\"1\" class=\"dataframe\">\n",
       "  <thead>\n",
       "    <tr style=\"text-align: right;\">\n",
       "      <th></th>\n",
       "      <th>0</th>\n",
       "      <th>1</th>\n",
       "    </tr>\n",
       "  </thead>\n",
       "  <tbody>\n",
       "    <tr>\n",
       "      <th>0</th>\n",
       "      <td>사과</td>\n",
       "      <td>100</td>\n",
       "    </tr>\n",
       "    <tr>\n",
       "      <th>1</th>\n",
       "      <td>배</td>\n",
       "      <td>95</td>\n",
       "    </tr>\n",
       "    <tr>\n",
       "      <th>2</th>\n",
       "      <td>귤</td>\n",
       "      <td>100</td>\n",
       "    </tr>\n",
       "  </tbody>\n",
       "</table>\n",
       "</div>"
      ],
      "text/plain": [
       "    0    1\n",
       "0  사과  100\n",
       "1   배   95\n",
       "2   귤  100"
      ]
     },
     "execution_count": 30,
     "metadata": {},
     "output_type": "execute_result"
    }
   ],
   "source": [
    "pd_1=pd.DataFrame(rows_1)\n",
    "pd_1"
   ]
  },
  {
   "cell_type": "markdown",
   "id": "6115290d",
   "metadata": {},
   "source": [
    "#### 결과 확인"
   ]
  },
  {
   "cell_type": "code",
   "execution_count": 31,
   "id": "eeede797",
   "metadata": {
    "ExecuteTime": {
     "end_time": "2023-06-30T05:25:14.064711Z",
     "start_time": "2023-06-30T05:25:14.051965Z"
    }
   },
   "outputs": [],
   "source": [
    "import pandas as pd\n",
    "import pymysql"
   ]
  },
  {
   "cell_type": "code",
   "execution_count": 32,
   "id": "3266c898",
   "metadata": {
    "ExecuteTime": {
     "end_time": "2023-06-30T05:25:14.080399Z",
     "start_time": "2023-06-30T05:25:14.067133Z"
    }
   },
   "outputs": [],
   "source": [
    "conn1=pymysql.connect(host='127.0.0.1',user='root',password='1234',db='triggerDB',charset='utf8')"
   ]
  },
  {
   "cell_type": "code",
   "execution_count": 33,
   "id": "e5cdb0a0",
   "metadata": {
    "ExecuteTime": {
     "end_time": "2023-06-30T05:25:14.095457Z",
     "start_time": "2023-06-30T05:25:14.082620Z"
    }
   },
   "outputs": [],
   "source": [
    "cur_1=conn1.cursor()"
   ]
  },
  {
   "cell_type": "code",
   "execution_count": 34,
   "id": "7d087eb3",
   "metadata": {
    "ExecuteTime": {
     "end_time": "2023-06-30T05:25:14.110818Z",
     "start_time": "2023-06-30T05:25:14.098954Z"
    }
   },
   "outputs": [],
   "source": [
    "sql=\"SELECT * FROM deliverTbl;\""
   ]
  },
  {
   "cell_type": "code",
   "execution_count": 35,
   "id": "75b92cd7",
   "metadata": {
    "ExecuteTime": {
     "end_time": "2023-06-30T05:25:14.125938Z",
     "start_time": "2023-06-30T05:25:14.113285Z"
    }
   },
   "outputs": [],
   "source": [
    "cur_1.execute(sql)\n",
    "rows_1=cur_1.fetchall()\n",
    "conn1.close()"
   ]
  },
  {
   "cell_type": "code",
   "execution_count": 36,
   "id": "6834a6ae",
   "metadata": {
    "ExecuteTime": {
     "end_time": "2023-06-30T05:25:14.141697Z",
     "start_time": "2023-06-30T05:25:14.128186Z"
    }
   },
   "outputs": [
    {
     "data": {
      "text/html": [
       "<div>\n",
       "<style scoped>\n",
       "    .dataframe tbody tr th:only-of-type {\n",
       "        vertical-align: middle;\n",
       "    }\n",
       "\n",
       "    .dataframe tbody tr th {\n",
       "        vertical-align: top;\n",
       "    }\n",
       "\n",
       "    .dataframe thead th {\n",
       "        text-align: right;\n",
       "    }\n",
       "</style>\n",
       "<table border=\"1\" class=\"dataframe\">\n",
       "  <thead>\n",
       "    <tr style=\"text-align: right;\">\n",
       "      <th></th>\n",
       "      <th>0</th>\n",
       "      <th>1</th>\n",
       "      <th>2</th>\n",
       "    </tr>\n",
       "  </thead>\n",
       "  <tbody>\n",
       "    <tr>\n",
       "      <th>0</th>\n",
       "      <td>1</td>\n",
       "      <td>배</td>\n",
       "      <td>5</td>\n",
       "    </tr>\n",
       "  </tbody>\n",
       "</table>\n",
       "</div>"
      ],
      "text/plain": [
       "   0  1  2\n",
       "0  1  배  5"
      ]
     },
     "execution_count": 36,
     "metadata": {},
     "output_type": "execute_result"
    }
   ],
   "source": [
    "pd_1=pd.DataFrame(rows_1)\n",
    "pd_1"
   ]
  }
 ],
 "metadata": {
  "kernelspec": {
   "display_name": "Python 3 (ipykernel)",
   "language": "python",
   "name": "python3"
  },
  "language_info": {
   "codemirror_mode": {
    "name": "ipython",
    "version": 3
   },
   "file_extension": ".py",
   "mimetype": "text/x-python",
   "name": "python",
   "nbconvert_exporter": "python",
   "pygments_lexer": "ipython3",
   "version": "3.8.16"
  },
  "toc": {
   "base_numbering": 1,
   "nav_menu": {},
   "number_sections": true,
   "sideBar": true,
   "skip_h1_title": false,
   "title_cell": "Table of Contents",
   "title_sidebar": "Contents",
   "toc_cell": false,
   "toc_position": {},
   "toc_section_display": true,
   "toc_window_display": false
  }
 },
 "nbformat": 4,
 "nbformat_minor": 5
}
