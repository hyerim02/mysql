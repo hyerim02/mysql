{
 "cells": [
  {
   "cell_type": "markdown",
   "id": "a00fa6c5",
   "metadata": {},
   "source": [
    "#### 결과 확인"
   ]
  },
  {
   "cell_type": "code",
   "execution_count": 1,
   "id": "a84424c1",
   "metadata": {
    "ExecuteTime": {
     "end_time": "2023-06-30T03:21:29.496494Z",
     "start_time": "2023-06-30T03:21:28.742947Z"
    }
   },
   "outputs": [],
   "source": [
    "import pandas as pd\n",
    "import pymysql"
   ]
  },
  {
   "cell_type": "code",
   "execution_count": 2,
   "id": "67574fd6",
   "metadata": {
    "ExecuteTime": {
     "end_time": "2023-06-30T03:21:29.803561Z",
     "start_time": "2023-06-30T03:21:29.788463Z"
    }
   },
   "outputs": [],
   "source": [
    "conn1=pymysql.connect(host='127.0.0.1',user='root',password='1234',db='sqldb',charset='utf8')"
   ]
  },
  {
   "cell_type": "code",
   "execution_count": 3,
   "id": "dff8ab17",
   "metadata": {
    "ExecuteTime": {
     "end_time": "2023-06-30T03:21:30.695496Z",
     "start_time": "2023-06-30T03:21:30.676677Z"
    }
   },
   "outputs": [],
   "source": [
    "cur_1=conn1.cursor()"
   ]
  },
  {
   "cell_type": "code",
   "execution_count": 4,
   "id": "ca9f5580",
   "metadata": {
    "ExecuteTime": {
     "end_time": "2023-06-30T03:21:31.888655Z",
     "start_time": "2023-06-30T03:21:31.870957Z"
    }
   },
   "outputs": [],
   "source": [
    "sql=\"SELECT * FROM backup_userTBL;\""
   ]
  },
  {
   "cell_type": "code",
   "execution_count": 5,
   "id": "2114797d",
   "metadata": {
    "ExecuteTime": {
     "end_time": "2023-06-30T03:21:32.546401Z",
     "start_time": "2023-06-30T03:21:32.533015Z"
    }
   },
   "outputs": [],
   "source": [
    "cur_1.execute(sql)\n",
    "rows_1=cur_1.fetchall()\n",
    "conn1.close()"
   ]
  },
  {
   "cell_type": "code",
   "execution_count": 6,
   "id": "9bcc19c9",
   "metadata": {
    "ExecuteTime": {
     "end_time": "2023-06-30T03:21:34.710739Z",
     "start_time": "2023-06-30T03:21:34.671092Z"
    }
   },
   "outputs": [
    {
     "data": {
      "text/html": [
       "<div>\n",
       "<style scoped>\n",
       "    .dataframe tbody tr th:only-of-type {\n",
       "        vertical-align: middle;\n",
       "    }\n",
       "\n",
       "    .dataframe tbody tr th {\n",
       "        vertical-align: top;\n",
       "    }\n",
       "\n",
       "    .dataframe thead th {\n",
       "        text-align: right;\n",
       "    }\n",
       "</style>\n",
       "<table border=\"1\" class=\"dataframe\">\n",
       "  <thead>\n",
       "    <tr style=\"text-align: right;\">\n",
       "      <th></th>\n",
       "      <th>0</th>\n",
       "      <th>1</th>\n",
       "      <th>2</th>\n",
       "      <th>3</th>\n",
       "      <th>4</th>\n",
       "      <th>5</th>\n",
       "      <th>6</th>\n",
       "      <th>7</th>\n",
       "      <th>8</th>\n",
       "      <th>9</th>\n",
       "      <th>10</th>\n",
       "    </tr>\n",
       "  </thead>\n",
       "  <tbody>\n",
       "    <tr>\n",
       "      <th>0</th>\n",
       "      <td>JKW</td>\n",
       "      <td>조관우</td>\n",
       "      <td>1965</td>\n",
       "      <td>경기</td>\n",
       "      <td>018</td>\n",
       "      <td>9999999</td>\n",
       "      <td>172</td>\n",
       "      <td>2010-10-10</td>\n",
       "      <td>수정</td>\n",
       "      <td>2023-06-30</td>\n",
       "      <td>root@localhost</td>\n",
       "    </tr>\n",
       "    <tr>\n",
       "      <th>1</th>\n",
       "      <td>KKH</td>\n",
       "      <td>김경호</td>\n",
       "      <td>1971</td>\n",
       "      <td>전남</td>\n",
       "      <td>019</td>\n",
       "      <td>3333333</td>\n",
       "      <td>177</td>\n",
       "      <td>2007-07-07</td>\n",
       "      <td>삭제</td>\n",
       "      <td>2023-06-30</td>\n",
       "      <td>root@localhost</td>\n",
       "    </tr>\n",
       "    <tr>\n",
       "      <th>2</th>\n",
       "      <td>LJB</td>\n",
       "      <td>임재범</td>\n",
       "      <td>1963</td>\n",
       "      <td>서울</td>\n",
       "      <td>016</td>\n",
       "      <td>6666666</td>\n",
       "      <td>182</td>\n",
       "      <td>2009-09-09</td>\n",
       "      <td>삭제</td>\n",
       "      <td>2023-06-30</td>\n",
       "      <td>root@localhost</td>\n",
       "    </tr>\n",
       "    <tr>\n",
       "      <th>3</th>\n",
       "      <td>LSG</td>\n",
       "      <td>이승기</td>\n",
       "      <td>1987</td>\n",
       "      <td>서울</td>\n",
       "      <td>011</td>\n",
       "      <td>1111111</td>\n",
       "      <td>182</td>\n",
       "      <td>2008-08-08</td>\n",
       "      <td>삭제</td>\n",
       "      <td>2023-06-30</td>\n",
       "      <td>root@localhost</td>\n",
       "    </tr>\n",
       "    <tr>\n",
       "      <th>4</th>\n",
       "      <td>SSK</td>\n",
       "      <td>성시경</td>\n",
       "      <td>1979</td>\n",
       "      <td>서울</td>\n",
       "      <td>None</td>\n",
       "      <td>None</td>\n",
       "      <td>186</td>\n",
       "      <td>2013-12-12</td>\n",
       "      <td>삭제</td>\n",
       "      <td>2023-06-30</td>\n",
       "      <td>root@localhost</td>\n",
       "    </tr>\n",
       "  </tbody>\n",
       "</table>\n",
       "</div>"
      ],
      "text/plain": [
       "    0    1     2   3     4        5    6           7   8           9   \\\n",
       "0  JKW  조관우  1965  경기   018  9999999  172  2010-10-10  수정  2023-06-30   \n",
       "1  KKH  김경호  1971  전남   019  3333333  177  2007-07-07  삭제  2023-06-30   \n",
       "2  LJB  임재범  1963  서울   016  6666666  182  2009-09-09  삭제  2023-06-30   \n",
       "3  LSG  이승기  1987  서울   011  1111111  182  2008-08-08  삭제  2023-06-30   \n",
       "4  SSK  성시경  1979  서울  None     None  186  2013-12-12  삭제  2023-06-30   \n",
       "\n",
       "               10  \n",
       "0  root@localhost  \n",
       "1  root@localhost  \n",
       "2  root@localhost  \n",
       "3  root@localhost  \n",
       "4  root@localhost  "
      ]
     },
     "execution_count": 6,
     "metadata": {},
     "output_type": "execute_result"
    }
   ],
   "source": [
    "pd_1=pd.DataFrame(rows_1)\n",
    "pd_1"
   ]
  },
  {
   "cell_type": "markdown",
   "id": "ebb07c78",
   "metadata": {},
   "source": [
    "#### 경고"
   ]
  },
  {
   "attachments": {
    "image.png": {
     "image/png": "[encoded data removed]"
    }
   },
   "cell_type": "markdown",
   "id": "e8a2071b",
   "metadata": {},
   "source": [
    "![image.png](attachment:image.png)"
   ]
  }
 ],
 "metadata": {
  "kernelspec": {
   "display_name": "Python 3 (ipykernel)",
   "language": "python",
   "name": "python3"
  },
  "language_info": {
   "codemirror_mode": {
    "name": "ipython",
    "version": 3
   },
   "file_extension": ".py",
   "mimetype": "text/x-python",
   "name": "python",
   "nbconvert_exporter": "python",
   "pygments_lexer": "ipython3",
   "version": "3.8.16"
  },
  "toc": {
   "base_numbering": 1,
   "nav_menu": {},
   "number_sections": true,
   "sideBar": true,
   "skip_h1_title": false,
   "title_cell": "Table of Contents",
   "title_sidebar": "Contents",
   "toc_cell": false,
   "toc_position": {},
   "toc_section_display": true,
   "toc_window_display": false
  }
 },
 "nbformat": 4,
 "nbformat_minor": 5
}
