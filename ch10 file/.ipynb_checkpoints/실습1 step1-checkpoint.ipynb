{
 "cells": [
  {
   "cell_type": "code",
   "execution_count": 1,
   "id": "a84424c1",
   "metadata": {
    "ExecuteTime": {
     "end_time": "2023-04-01T03:08:26.870714Z",
     "start_time": "2023-04-01T03:08:26.268621Z"
    }
   },
   "outputs": [],
   "source": [
    "import pandas as pd\n",
    "import pymysql"
   ]
  },
  {
   "cell_type": "code",
   "execution_count": 2,
   "id": "67574fd6",
   "metadata": {
    "ExecuteTime": {
     "end_time": "2023-04-01T03:08:26.886618Z",
     "start_time": "2023-04-01T03:08:26.873081Z"
    }
   },
   "outputs": [],
   "source": [
    "conn1=pymysql.connect(host='127.0.0.1',user='root',password='1234',db='sqldb',charset='utf8')"
   ]
  },
  {
   "cell_type": "code",
   "execution_count": 3,
   "id": "dff8ab17",
   "metadata": {
    "ExecuteTime": {
     "end_time": "2023-04-01T03:08:26.902080Z",
     "start_time": "2023-04-01T03:08:26.888671Z"
    }
   },
   "outputs": [],
   "source": [
    "cur_1=conn1.cursor()"
   ]
  },
  {
   "cell_type": "code",
   "execution_count": 4,
   "id": "ca9f5580",
   "metadata": {
    "ExecuteTime": {
     "end_time": "2023-04-01T03:08:26.917690Z",
     "start_time": "2023-04-01T03:08:26.905353Z"
    }
   },
   "outputs": [],
   "source": [
    "sql=\"CALL userProc1('조관우');\""
   ]
  },
  {
   "cell_type": "code",
   "execution_count": 5,
   "id": "2114797d",
   "metadata": {
    "ExecuteTime": {
     "end_time": "2023-04-01T03:08:26.933009Z",
     "start_time": "2023-04-01T03:08:26.920271Z"
    }
   },
   "outputs": [],
   "source": [
    "cur_1.execute(sql)\n",
    "rows_1=cur_1.fetchall()\n",
    "conn1.close()"
   ]
  },
  {
   "cell_type": "code",
   "execution_count": 6,
   "id": "9bcc19c9",
   "metadata": {
    "ExecuteTime": {
     "end_time": "2023-04-01T03:08:26.964557Z",
     "start_time": "2023-04-01T03:08:26.935602Z"
    }
   },
   "outputs": [
    {
     "data": {
      "text/html": [
       "<div>\n",
       "<style scoped>\n",
       "    .dataframe tbody tr th:only-of-type {\n",
       "        vertical-align: middle;\n",
       "    }\n",
       "\n",
       "    .dataframe tbody tr th {\n",
       "        vertical-align: top;\n",
       "    }\n",
       "\n",
       "    .dataframe thead th {\n",
       "        text-align: right;\n",
       "    }\n",
       "</style>\n",
       "<table border=\"1\" class=\"dataframe\">\n",
       "  <thead>\n",
       "    <tr style=\"text-align: right;\">\n",
       "      <th></th>\n",
       "      <th>0</th>\n",
       "      <th>1</th>\n",
       "      <th>2</th>\n",
       "      <th>3</th>\n",
       "      <th>4</th>\n",
       "      <th>5</th>\n",
       "      <th>6</th>\n",
       "      <th>7</th>\n",
       "    </tr>\n",
       "  </thead>\n",
       "  <tbody>\n",
       "    <tr>\n",
       "      <th>0</th>\n",
       "      <td>JKW</td>\n",
       "      <td>조관우</td>\n",
       "      <td>1965</td>\n",
       "      <td>경기</td>\n",
       "      <td>018</td>\n",
       "      <td>9999999</td>\n",
       "      <td>172</td>\n",
       "      <td>2010-10-10</td>\n",
       "    </tr>\n",
       "  </tbody>\n",
       "</table>\n",
       "</div>"
      ],
      "text/plain": [
       "     0    1     2   3    4        5    6           7\n",
       "0  JKW  조관우  1965  경기  018  9999999  172  2010-10-10"
      ]
     },
     "execution_count": 6,
     "metadata": {},
     "output_type": "execute_result"
    }
   ],
   "source": [
    "pd_1=pd.DataFrame(rows_1)\n",
    "pd_1"
   ]
  },
  {
   "cell_type": "code",
   "execution_count": 7,
   "id": "b32c5758",
   "metadata": {
    "ExecuteTime": {
     "end_time": "2023-04-01T03:08:26.980447Z",
     "start_time": "2023-04-01T03:08:26.966755Z"
    }
   },
   "outputs": [],
   "source": [
    "import pandas as pd\n",
    "import pymysql"
   ]
  },
  {
   "cell_type": "code",
   "execution_count": 8,
   "id": "5c97adbf",
   "metadata": {
    "ExecuteTime": {
     "end_time": "2023-04-01T03:08:27.026702Z",
     "start_time": "2023-04-01T03:08:26.987297Z"
    }
   },
   "outputs": [],
   "source": [
    "conn1=pymysql.connect(host='127.0.0.1',user='root',password='1234',db='sqldb',charset='utf8')"
   ]
  },
  {
   "cell_type": "code",
   "execution_count": 9,
   "id": "38ee473b",
   "metadata": {
    "ExecuteTime": {
     "end_time": "2023-04-01T03:08:27.042262Z",
     "start_time": "2023-04-01T03:08:27.032485Z"
    }
   },
   "outputs": [],
   "source": [
    "cur_1=conn1.cursor()"
   ]
  },
  {
   "cell_type": "code",
   "execution_count": 10,
   "id": "591fa8d7",
   "metadata": {
    "ExecuteTime": {
     "end_time": "2023-04-01T03:08:27.057596Z",
     "start_time": "2023-04-01T03:08:27.047908Z"
    }
   },
   "outputs": [],
   "source": [
    "sql=\"CALL userProc2(1970,178);\""
   ]
  },
  {
   "cell_type": "code",
   "execution_count": 11,
   "id": "592b9845",
   "metadata": {
    "ExecuteTime": {
     "end_time": "2023-04-01T03:08:27.073244Z",
     "start_time": "2023-04-01T03:08:27.060141Z"
    }
   },
   "outputs": [],
   "source": [
    "cur_1.execute(sql)\n",
    "rows_1=cur_1.fetchall()\n",
    "conn1.close()"
   ]
  },
  {
   "cell_type": "code",
   "execution_count": 12,
   "id": "311605ec",
   "metadata": {
    "ExecuteTime": {
     "end_time": "2023-04-01T03:08:27.088794Z",
     "start_time": "2023-04-01T03:08:27.076276Z"
    }
   },
   "outputs": [
    {
     "data": {
      "text/html": [
       "<div>\n",
       "<style scoped>\n",
       "    .dataframe tbody tr th:only-of-type {\n",
       "        vertical-align: middle;\n",
       "    }\n",
       "\n",
       "    .dataframe tbody tr th {\n",
       "        vertical-align: top;\n",
       "    }\n",
       "\n",
       "    .dataframe thead th {\n",
       "        text-align: right;\n",
       "    }\n",
       "</style>\n",
       "<table border=\"1\" class=\"dataframe\">\n",
       "  <thead>\n",
       "    <tr style=\"text-align: right;\">\n",
       "      <th></th>\n",
       "      <th>0</th>\n",
       "      <th>1</th>\n",
       "      <th>2</th>\n",
       "      <th>3</th>\n",
       "      <th>4</th>\n",
       "      <th>5</th>\n",
       "      <th>6</th>\n",
       "      <th>7</th>\n",
       "    </tr>\n",
       "  </thead>\n",
       "  <tbody>\n",
       "    <tr>\n",
       "      <th>0</th>\n",
       "      <td>LSG</td>\n",
       "      <td>이승기</td>\n",
       "      <td>1987</td>\n",
       "      <td>서울</td>\n",
       "      <td>011</td>\n",
       "      <td>1111111</td>\n",
       "      <td>182</td>\n",
       "      <td>2008-08-08</td>\n",
       "    </tr>\n",
       "    <tr>\n",
       "      <th>1</th>\n",
       "      <td>SSK</td>\n",
       "      <td>성시경</td>\n",
       "      <td>1979</td>\n",
       "      <td>서울</td>\n",
       "      <td>None</td>\n",
       "      <td>None</td>\n",
       "      <td>186</td>\n",
       "      <td>2013-12-12</td>\n",
       "    </tr>\n",
       "  </tbody>\n",
       "</table>\n",
       "</div>"
      ],
      "text/plain": [
       "     0    1     2   3     4        5    6           7\n",
       "0  LSG  이승기  1987  서울   011  1111111  182  2008-08-08\n",
       "1  SSK  성시경  1979  서울  None     None  186  2013-12-12"
      ]
     },
     "execution_count": 12,
     "metadata": {},
     "output_type": "execute_result"
    }
   ],
   "source": [
    "pd_1=pd.DataFrame(rows_1)\n",
    "pd_1"
   ]
  },
  {
   "cell_type": "code",
   "execution_count": 27,
   "id": "b529264a",
   "metadata": {
    "ExecuteTime": {
     "end_time": "2023-04-01T03:49:54.081026Z",
     "start_time": "2023-04-01T03:49:54.061073Z"
    }
   },
   "outputs": [],
   "source": [
    "import pandas as pd\n",
    "import pymysql"
   ]
  },
  {
   "cell_type": "code",
   "execution_count": 28,
   "id": "a1e61926",
   "metadata": {
    "ExecuteTime": {
     "end_time": "2023-04-01T03:49:54.550202Z",
     "start_time": "2023-04-01T03:49:54.535433Z"
    }
   },
   "outputs": [],
   "source": [
    "conn1=pymysql.connect(host='127.0.0.1',user='root',password='1234',db='sqldb',charset='utf8')"
   ]
  },
  {
   "cell_type": "code",
   "execution_count": 29,
   "id": "5140c0d4",
   "metadata": {
    "ExecuteTime": {
     "end_time": "2023-04-01T03:49:54.941393Z",
     "start_time": "2023-04-01T03:49:54.934047Z"
    }
   },
   "outputs": [],
   "source": [
    "cur_1=conn1.cursor()"
   ]
  },
  {
   "cell_type": "code",
   "execution_count": 30,
   "id": "b15ca8a5",
   "metadata": {
    "ExecuteTime": {
     "end_time": "2023-04-01T03:49:56.078937Z",
     "start_time": "2023-04-01T03:49:56.060592Z"
    }
   },
   "outputs": [],
   "source": [
    "sql=\"CALL userProc3('테스트값',@myValue);\"\n",
    "sql2=\"SELECT CONCAT('현재 입력된 ID 값 ==>',@myValue);\""
   ]
  },
  {
   "cell_type": "code",
   "execution_count": 31,
   "id": "d074880f",
   "metadata": {
    "ExecuteTime": {
     "end_time": "2023-04-01T03:49:56.903219Z",
     "start_time": "2023-04-01T03:49:56.890348Z"
    }
   },
   "outputs": [],
   "source": [
    "cur_1.execute(sql)\n",
    "cur_1.execute(sql2)\n",
    "rows_1=cur_1.fetchall()\n",
    "conn1.close()"
   ]
  },
  {
   "cell_type": "code",
   "execution_count": 32,
   "id": "efa0c299",
   "metadata": {
    "ExecuteTime": {
     "end_time": "2023-04-01T03:49:57.839395Z",
     "start_time": "2023-04-01T03:49:57.821768Z"
    }
   },
   "outputs": [
    {
     "data": {
      "text/html": [
       "<div>\n",
       "<style scoped>\n",
       "    .dataframe tbody tr th:only-of-type {\n",
       "        vertical-align: middle;\n",
       "    }\n",
       "\n",
       "    .dataframe tbody tr th {\n",
       "        vertical-align: top;\n",
       "    }\n",
       "\n",
       "    .dataframe thead th {\n",
       "        text-align: right;\n",
       "    }\n",
       "</style>\n",
       "<table border=\"1\" class=\"dataframe\">\n",
       "  <thead>\n",
       "    <tr style=\"text-align: right;\">\n",
       "      <th></th>\n",
       "      <th>0</th>\n",
       "    </tr>\n",
       "  </thead>\n",
       "  <tbody>\n",
       "    <tr>\n",
       "      <th>0</th>\n",
       "      <td>현재 입력된 ID 값 ==&gt;2</td>\n",
       "    </tr>\n",
       "  </tbody>\n",
       "</table>\n",
       "</div>"
      ],
      "text/plain": [
       "                  0\n",
       "0  현재 입력된 ID 값 ==>2"
      ]
     },
     "execution_count": 32,
     "metadata": {},
     "output_type": "execute_result"
    }
   ],
   "source": [
    "pd_1=pd.DataFrame(rows_1)\n",
    "pd_1"
   ]
  }
 ],
 "metadata": {
  "kernelspec": {
   "display_name": "Python 3 (ipykernel)",
   "language": "python",
   "name": "python3"
  },
  "language_info": {
   "codemirror_mode": {
    "name": "ipython",
    "version": 3
   },
   "file_extension": ".py",
   "mimetype": "text/x-python",
   "name": "python",
   "nbconvert_exporter": "python",
   "pygments_lexer": "ipython3",
   "version": "3.8.16"
  },
  "toc": {
   "base_numbering": 1,
   "nav_menu": {},
   "number_sections": true,
   "sideBar": true,
   "skip_h1_title": false,
   "title_cell": "Table of Contents",
   "title_sidebar": "Contents",
   "toc_cell": false,
   "toc_position": {},
   "toc_section_display": true,
   "toc_window_display": false
  }
 },
 "nbformat": 4,
 "nbformat_minor": 5
}
