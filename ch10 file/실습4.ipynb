{
 "cells": [
  {
   "cell_type": "markdown",
   "id": "a00fa6c5",
   "metadata": {},
   "source": [
    "#### 삽입"
   ]
  },
  {
   "cell_type": "code",
   "execution_count": 42,
   "id": "a84424c1",
   "metadata": {
    "ExecuteTime": {
     "end_time": "2023-06-29T17:14:58.118139Z",
     "start_time": "2023-06-29T17:14:58.105959Z"
    }
   },
   "outputs": [],
   "source": [
    "import pandas as pd\n",
    "import pymysql"
   ]
  },
  {
   "cell_type": "code",
   "execution_count": 43,
   "id": "67574fd6",
   "metadata": {
    "ExecuteTime": {
     "end_time": "2023-06-29T17:14:58.133729Z",
     "start_time": "2023-06-29T17:14:58.122992Z"
    }
   },
   "outputs": [],
   "source": [
    "conn1=pymysql.connect(host='127.0.0.1',user='root',password='1234',db='testdb',charset='utf8')"
   ]
  },
  {
   "cell_type": "code",
   "execution_count": 44,
   "id": "dff8ab17",
   "metadata": {
    "ExecuteTime": {
     "end_time": "2023-06-29T17:14:58.148760Z",
     "start_time": "2023-06-29T17:14:58.136814Z"
    }
   },
   "outputs": [],
   "source": [
    "cur_1=conn1.cursor()"
   ]
  },
  {
   "cell_type": "code",
   "execution_count": 45,
   "id": "ca9f5580",
   "metadata": {
    "ExecuteTime": {
     "end_time": "2023-06-29T17:14:58.164564Z",
     "start_time": "2023-06-29T17:14:58.153796Z"
    }
   },
   "outputs": [],
   "source": [
    "sql=\"INSERT INTO testTbl VALUES(4, '마마무');\"\n",
    "sql2=\"SELECT @msg;\""
   ]
  },
  {
   "cell_type": "code",
   "execution_count": 46,
   "id": "2114797d",
   "metadata": {
    "ExecuteTime": {
     "end_time": "2023-06-29T17:14:58.179295Z",
     "start_time": "2023-06-29T17:14:58.167953Z"
    }
   },
   "outputs": [],
   "source": [
    "cur_1.execute(sql)\n",
    "cur_1.execute(sql2)\n",
    "rows_1=cur_1.fetchall()\n",
    "conn1.close()"
   ]
  },
  {
   "cell_type": "code",
   "execution_count": 47,
   "id": "9bcc19c9",
   "metadata": {
    "ExecuteTime": {
     "end_time": "2023-06-29T17:14:58.194740Z",
     "start_time": "2023-06-29T17:14:58.182511Z"
    }
   },
   "outputs": [
    {
     "data": {
      "text/html": [
       "<div>\n",
       "<style scoped>\n",
       "    .dataframe tbody tr th:only-of-type {\n",
       "        vertical-align: middle;\n",
       "    }\n",
       "\n",
       "    .dataframe tbody tr th {\n",
       "        vertical-align: top;\n",
       "    }\n",
       "\n",
       "    .dataframe thead th {\n",
       "        text-align: right;\n",
       "    }\n",
       "</style>\n",
       "<table border=\"1\" class=\"dataframe\">\n",
       "  <thead>\n",
       "    <tr style=\"text-align: right;\">\n",
       "      <th></th>\n",
       "      <th>0</th>\n",
       "    </tr>\n",
       "  </thead>\n",
       "  <tbody>\n",
       "    <tr>\n",
       "      <th>0</th>\n",
       "      <td>None</td>\n",
       "    </tr>\n",
       "  </tbody>\n",
       "</table>\n",
       "</div>"
      ],
      "text/plain": [
       "      0\n",
       "0  None"
      ]
     },
     "execution_count": 47,
     "metadata": {},
     "output_type": "execute_result"
    }
   ],
   "source": [
    "pd_1=pd.DataFrame(rows_1)\n",
    "pd_1"
   ]
  },
  {
   "cell_type": "markdown",
   "id": "ebb07c78",
   "metadata": {},
   "source": [
    "#### 수정"
   ]
  },
  {
   "cell_type": "code",
   "execution_count": 48,
   "id": "7100da87",
   "metadata": {
    "ExecuteTime": {
     "end_time": "2023-06-29T17:14:58.210362Z",
     "start_time": "2023-06-29T17:14:58.196779Z"
    }
   },
   "outputs": [],
   "source": [
    "import pandas as pd\n",
    "import pymysql"
   ]
  },
  {
   "cell_type": "code",
   "execution_count": 49,
   "id": "3fd9d8fe",
   "metadata": {
    "ExecuteTime": {
     "end_time": "2023-06-29T17:14:58.225353Z",
     "start_time": "2023-06-29T17:14:58.213907Z"
    }
   },
   "outputs": [],
   "source": [
    "conn1=pymysql.connect(host='127.0.0.1',user='root',password='1234',db='testdb',charset='utf8')"
   ]
  },
  {
   "cell_type": "code",
   "execution_count": 50,
   "id": "5afcd01d",
   "metadata": {
    "ExecuteTime": {
     "end_time": "2023-06-29T17:14:58.240524Z",
     "start_time": "2023-06-29T17:14:58.228345Z"
    }
   },
   "outputs": [],
   "source": [
    "cur_1=conn1.cursor()"
   ]
  },
  {
   "cell_type": "code",
   "execution_count": 51,
   "id": "248dd4a3",
   "metadata": {
    "ExecuteTime": {
     "end_time": "2023-06-29T17:14:58.256240Z",
     "start_time": "2023-06-29T17:14:58.246145Z"
    }
   },
   "outputs": [],
   "source": [
    "sql=\"UPDATE testTbl SET txt = '블핑' WHERE id = 3;\"\n",
    "sql2=\"SELECT @msg;\""
   ]
  },
  {
   "cell_type": "code",
   "execution_count": 52,
   "id": "3bf6f9c8",
   "metadata": {
    "ExecuteTime": {
     "end_time": "2023-06-29T17:14:58.271074Z",
     "start_time": "2023-06-29T17:14:58.258313Z"
    }
   },
   "outputs": [],
   "source": [
    "cur_1.execute(sql)\n",
    "cur_1.execute(sql2)\n",
    "rows_1=cur_1.fetchall()\n",
    "conn1.close()"
   ]
  },
  {
   "cell_type": "code",
   "execution_count": 53,
   "id": "6c530cbf",
   "metadata": {
    "ExecuteTime": {
     "end_time": "2023-06-29T17:14:58.286321Z",
     "start_time": "2023-06-29T17:14:58.274167Z"
    }
   },
   "outputs": [
    {
     "data": {
      "text/html": [
       "<div>\n",
       "<style scoped>\n",
       "    .dataframe tbody tr th:only-of-type {\n",
       "        vertical-align: middle;\n",
       "    }\n",
       "\n",
       "    .dataframe tbody tr th {\n",
       "        vertical-align: top;\n",
       "    }\n",
       "\n",
       "    .dataframe thead th {\n",
       "        text-align: right;\n",
       "    }\n",
       "</style>\n",
       "<table border=\"1\" class=\"dataframe\">\n",
       "  <thead>\n",
       "    <tr style=\"text-align: right;\">\n",
       "      <th></th>\n",
       "      <th>0</th>\n",
       "    </tr>\n",
       "  </thead>\n",
       "  <tbody>\n",
       "    <tr>\n",
       "      <th>0</th>\n",
       "      <td>None</td>\n",
       "    </tr>\n",
       "  </tbody>\n",
       "</table>\n",
       "</div>"
      ],
      "text/plain": [
       "      0\n",
       "0  None"
      ]
     },
     "execution_count": 53,
     "metadata": {},
     "output_type": "execute_result"
    }
   ],
   "source": [
    "pd_1=pd.DataFrame(rows_1)\n",
    "pd_1"
   ]
  },
  {
   "cell_type": "markdown",
   "id": "5cb638d5",
   "metadata": {},
   "source": [
    "#### 삭제"
   ]
  },
  {
   "cell_type": "code",
   "execution_count": 54,
   "id": "d25f2f59",
   "metadata": {
    "ExecuteTime": {
     "end_time": "2023-06-29T17:14:58.301358Z",
     "start_time": "2023-06-29T17:14:58.289317Z"
    }
   },
   "outputs": [],
   "source": [
    "import pandas as pd\n",
    "import pymysql"
   ]
  },
  {
   "cell_type": "code",
   "execution_count": 55,
   "id": "bed7a971",
   "metadata": {
    "ExecuteTime": {
     "end_time": "2023-06-29T17:14:58.317165Z",
     "start_time": "2023-06-29T17:14:58.305188Z"
    }
   },
   "outputs": [],
   "source": [
    "conn1=pymysql.connect(host='127.0.0.1',user='root',password='1234',db='testdb',charset='utf8')"
   ]
  },
  {
   "cell_type": "code",
   "execution_count": 56,
   "id": "8b127818",
   "metadata": {
    "ExecuteTime": {
     "end_time": "2023-06-29T17:14:58.332632Z",
     "start_time": "2023-06-29T17:14:58.320577Z"
    }
   },
   "outputs": [],
   "source": [
    "cur_1=conn1.cursor()"
   ]
  },
  {
   "cell_type": "code",
   "execution_count": 57,
   "id": "7e434596",
   "metadata": {
    "ExecuteTime": {
     "end_time": "2023-06-29T17:14:58.364431Z",
     "start_time": "2023-06-29T17:14:58.345229Z"
    }
   },
   "outputs": [],
   "source": [
    "sql=\"DELETE FROM testTbl WHERE id = 4;\"\n",
    "sql2=\"SELECT @msg;\""
   ]
  },
  {
   "cell_type": "code",
   "execution_count": 58,
   "id": "cd208bee",
   "metadata": {
    "ExecuteTime": {
     "end_time": "2023-06-29T17:14:58.379282Z",
     "start_time": "2023-06-29T17:14:58.367827Z"
    }
   },
   "outputs": [],
   "source": [
    "cur_1.execute(sql)\n",
    "cur_1.execute(sql2)\n",
    "rows_1=cur_1.fetchall()\n",
    "conn1.close()"
   ]
  },
  {
   "cell_type": "code",
   "execution_count": 59,
   "id": "e093e978",
   "metadata": {
    "ExecuteTime": {
     "end_time": "2023-06-29T17:14:58.393930Z",
     "start_time": "2023-06-29T17:14:58.381377Z"
    }
   },
   "outputs": [
    {
     "data": {
      "text/html": [
       "<div>\n",
       "<style scoped>\n",
       "    .dataframe tbody tr th:only-of-type {\n",
       "        vertical-align: middle;\n",
       "    }\n",
       "\n",
       "    .dataframe tbody tr th {\n",
       "        vertical-align: top;\n",
       "    }\n",
       "\n",
       "    .dataframe thead th {\n",
       "        text-align: right;\n",
       "    }\n",
       "</style>\n",
       "<table border=\"1\" class=\"dataframe\">\n",
       "  <thead>\n",
       "    <tr style=\"text-align: right;\">\n",
       "      <th></th>\n",
       "      <th>0</th>\n",
       "    </tr>\n",
       "  </thead>\n",
       "  <tbody>\n",
       "    <tr>\n",
       "      <th>0</th>\n",
       "      <td>가수 그룹이 삭제됨</td>\n",
       "    </tr>\n",
       "  </tbody>\n",
       "</table>\n",
       "</div>"
      ],
      "text/plain": [
       "            0\n",
       "0  가수 그룹이 삭제됨"
      ]
     },
     "execution_count": 59,
     "metadata": {},
     "output_type": "execute_result"
    }
   ],
   "source": [
    "pd_1=pd.DataFrame(rows_1)\n",
    "pd_1"
   ]
  }
 ],
 "metadata": {
  "kernelspec": {
   "display_name": "Python 3 (ipykernel)",
   "language": "python",
   "name": "python3"
  },
  "language_info": {
   "codemirror_mode": {
    "name": "ipython",
    "version": 3
   },
   "file_extension": ".py",
   "mimetype": "text/x-python",
   "name": "python",
   "nbconvert_exporter": "python",
   "pygments_lexer": "ipython3",
   "version": "3.8.16"
  },
  "toc": {
   "base_numbering": 1,
   "nav_menu": {},
   "number_sections": true,
   "sideBar": true,
   "skip_h1_title": false,
   "title_cell": "Table of Contents",
   "title_sidebar": "Contents",
   "toc_cell": false,
   "toc_position": {},
   "toc_section_display": true,
   "toc_window_display": false
  }
 },
 "nbformat": 4,
 "nbformat_minor": 5
}
