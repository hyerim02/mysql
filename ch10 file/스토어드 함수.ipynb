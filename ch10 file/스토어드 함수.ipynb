{
 "cells": [
  {
   "cell_type": "markdown",
   "id": "e873a169",
   "metadata": {},
   "source": [
    "## 예시 2개의 숫자의 합"
   ]
  },
  {
   "cell_type": "code",
   "execution_count": 1,
   "id": "a84424c1",
   "metadata": {
    "ExecuteTime": {
     "end_time": "2023-06-04T11:39:07.321277Z",
     "start_time": "2023-06-04T11:39:06.395994Z"
    }
   },
   "outputs": [],
   "source": [
    "import pandas as pd\n",
    "import pymysql"
   ]
  },
  {
   "cell_type": "code",
   "execution_count": 2,
   "id": "67574fd6",
   "metadata": {
    "ExecuteTime": {
     "end_time": "2023-06-04T11:39:07.336649Z",
     "start_time": "2023-06-04T11:39:07.324146Z"
    }
   },
   "outputs": [],
   "source": [
    "conn1=pymysql.connect(host='127.0.0.1',user='root',password='1234',db='sqldb',charset='utf8')"
   ]
  },
  {
   "cell_type": "code",
   "execution_count": 3,
   "id": "dff8ab17",
   "metadata": {
    "ExecuteTime": {
     "end_time": "2023-06-04T11:39:07.351569Z",
     "start_time": "2023-06-04T11:39:07.338521Z"
    }
   },
   "outputs": [],
   "source": [
    "cur_1=conn1.cursor()"
   ]
  },
  {
   "cell_type": "code",
   "execution_count": 4,
   "id": "ca9f5580",
   "metadata": {
    "ExecuteTime": {
     "end_time": "2023-06-04T11:39:07.366714Z",
     "start_time": "2023-06-04T11:39:07.355199Z"
    }
   },
   "outputs": [],
   "source": [
    "sql=\"SELECT userFunc(100,200);\""
   ]
  },
  {
   "cell_type": "code",
   "execution_count": 5,
   "id": "2114797d",
   "metadata": {
    "ExecuteTime": {
     "end_time": "2023-06-04T11:39:07.381495Z",
     "start_time": "2023-06-04T11:39:07.368889Z"
    }
   },
   "outputs": [],
   "source": [
    "cur_1.execute(sql)\n",
    "rows_1=cur_1.fetchall()\n",
    "conn1.close()"
   ]
  },
  {
   "cell_type": "code",
   "execution_count": 6,
   "id": "9bcc19c9",
   "metadata": {
    "ExecuteTime": {
     "end_time": "2023-06-04T11:39:07.411859Z",
     "start_time": "2023-06-04T11:39:07.384085Z"
    }
   },
   "outputs": [
    {
     "data": {
      "text/html": [
       "<div>\n",
       "<style scoped>\n",
       "    .dataframe tbody tr th:only-of-type {\n",
       "        vertical-align: middle;\n",
       "    }\n",
       "\n",
       "    .dataframe tbody tr th {\n",
       "        vertical-align: top;\n",
       "    }\n",
       "\n",
       "    .dataframe thead th {\n",
       "        text-align: right;\n",
       "    }\n",
       "</style>\n",
       "<table border=\"1\" class=\"dataframe\">\n",
       "  <thead>\n",
       "    <tr style=\"text-align: right;\">\n",
       "      <th></th>\n",
       "      <th>0</th>\n",
       "    </tr>\n",
       "  </thead>\n",
       "  <tbody>\n",
       "    <tr>\n",
       "      <th>0</th>\n",
       "      <td>300</td>\n",
       "    </tr>\n",
       "  </tbody>\n",
       "</table>\n",
       "</div>"
      ],
      "text/plain": [
       "     0\n",
       "0  300"
      ]
     },
     "execution_count": 6,
     "metadata": {},
     "output_type": "execute_result"
    }
   ],
   "source": [
    "pd_1=pd.DataFrame(rows_1)\n",
    "pd_1"
   ]
  },
  {
   "cell_type": "markdown",
   "id": "7db6da6a",
   "metadata": {},
   "source": [
    "## 출생년도-->나이 출력되는 함수"
   ]
  },
  {
   "cell_type": "code",
   "execution_count": 7,
   "id": "cc6b040b",
   "metadata": {
    "ExecuteTime": {
     "end_time": "2023-06-04T11:39:07.426594Z",
     "start_time": "2023-06-04T11:39:07.414873Z"
    }
   },
   "outputs": [],
   "source": [
    "import pandas as pd\n",
    "import pymysql"
   ]
  },
  {
   "cell_type": "code",
   "execution_count": 8,
   "id": "80e3d390",
   "metadata": {
    "ExecuteTime": {
     "end_time": "2023-06-04T11:39:07.441489Z",
     "start_time": "2023-06-04T11:39:07.429642Z"
    }
   },
   "outputs": [],
   "source": [
    "conn1=pymysql.connect(host='127.0.0.1',user='root',password='1234',db='sqldb',charset='utf8')"
   ]
  },
  {
   "cell_type": "code",
   "execution_count": 9,
   "id": "ff23ba2f",
   "metadata": {
    "ExecuteTime": {
     "end_time": "2023-06-04T11:39:07.456809Z",
     "start_time": "2023-06-04T11:39:07.444145Z"
    }
   },
   "outputs": [],
   "source": [
    "cur_1=conn1.cursor()"
   ]
  },
  {
   "cell_type": "code",
   "execution_count": 10,
   "id": "ce5df28d",
   "metadata": {
    "ExecuteTime": {
     "end_time": "2023-06-04T11:39:07.471778Z",
     "start_time": "2023-06-04T11:39:07.462717Z"
    }
   },
   "outputs": [],
   "source": [
    "sql=\"SELECT getAgeFunc(1998);\""
   ]
  },
  {
   "cell_type": "code",
   "execution_count": 11,
   "id": "26b1673a",
   "metadata": {
    "ExecuteTime": {
     "end_time": "2023-06-04T11:39:07.487623Z",
     "start_time": "2023-06-04T11:39:07.474282Z"
    }
   },
   "outputs": [],
   "source": [
    "cur_1.execute(sql)\n",
    "rows_1=cur_1.fetchall()\n",
    "conn1.close()"
   ]
  },
  {
   "cell_type": "code",
   "execution_count": 12,
   "id": "1d670edf",
   "metadata": {
    "ExecuteTime": {
     "end_time": "2023-06-04T11:39:07.503295Z",
     "start_time": "2023-06-04T11:39:07.490623Z"
    }
   },
   "outputs": [
    {
     "data": {
      "text/html": [
       "<div>\n",
       "<style scoped>\n",
       "    .dataframe tbody tr th:only-of-type {\n",
       "        vertical-align: middle;\n",
       "    }\n",
       "\n",
       "    .dataframe tbody tr th {\n",
       "        vertical-align: top;\n",
       "    }\n",
       "\n",
       "    .dataframe thead th {\n",
       "        text-align: right;\n",
       "    }\n",
       "</style>\n",
       "<table border=\"1\" class=\"dataframe\">\n",
       "  <thead>\n",
       "    <tr style=\"text-align: right;\">\n",
       "      <th></th>\n",
       "      <th>0</th>\n",
       "    </tr>\n",
       "  </thead>\n",
       "  <tbody>\n",
       "    <tr>\n",
       "      <th>0</th>\n",
       "      <td>25</td>\n",
       "    </tr>\n",
       "  </tbody>\n",
       "</table>\n",
       "</div>"
      ],
      "text/plain": [
       "    0\n",
       "0  25"
      ]
     },
     "execution_count": 12,
     "metadata": {},
     "output_type": "execute_result"
    }
   ],
   "source": [
    "pd_1=pd.DataFrame(rows_1)\n",
    "pd_1"
   ]
  },
  {
   "cell_type": "code",
   "execution_count": 19,
   "id": "b529264a",
   "metadata": {
    "ExecuteTime": {
     "end_time": "2023-06-04T11:39:07.624566Z",
     "start_time": "2023-06-04T11:39:07.611172Z"
    }
   },
   "outputs": [],
   "source": [
    "import pandas as pd\n",
    "import pymysql"
   ]
  },
  {
   "cell_type": "code",
   "execution_count": 20,
   "id": "a1e61926",
   "metadata": {
    "ExecuteTime": {
     "end_time": "2023-06-04T11:39:07.639917Z",
     "start_time": "2023-06-04T11:39:07.627460Z"
    }
   },
   "outputs": [],
   "source": [
    "conn1=pymysql.connect(host='127.0.0.1',user='root',password='1234',db='sqldb',charset='utf8')"
   ]
  },
  {
   "cell_type": "code",
   "execution_count": 21,
   "id": "5140c0d4",
   "metadata": {
    "ExecuteTime": {
     "end_time": "2023-06-04T11:39:07.655673Z",
     "start_time": "2023-06-04T11:39:07.641581Z"
    }
   },
   "outputs": [],
   "source": [
    "cur_1=conn1.cursor()"
   ]
  },
  {
   "cell_type": "code",
   "execution_count": 22,
   "id": "b15ca8a5",
   "metadata": {
    "ExecuteTime": {
     "end_time": "2023-06-04T11:39:07.671215Z",
     "start_time": "2023-06-04T11:39:07.658942Z"
    }
   },
   "outputs": [],
   "source": [
    "sql=\"SELECT getAgeFunc(1998) INTO @age1998;\"\n",
    "sql1='SELECT getAgeFunc(2003) INTO @age2003;'\n",
    "sql2=\"SELECT CONCAT('여동생과의 나이차==>',(@age1998-@age2003));\""
   ]
  },
  {
   "cell_type": "code",
   "execution_count": 23,
   "id": "d074880f",
   "metadata": {
    "ExecuteTime": {
     "end_time": "2023-06-04T11:39:07.686240Z",
     "start_time": "2023-06-04T11:39:07.674352Z"
    }
   },
   "outputs": [],
   "source": [
    "cur_1.execute(sql)\n",
    "cur_1.execute(sql1)\n",
    "cur_1.execute(sql2)\n",
    "rows_1=cur_1.fetchall()\n",
    "conn1.close()"
   ]
  },
  {
   "cell_type": "code",
   "execution_count": 24,
   "id": "efa0c299",
   "metadata": {
    "ExecuteTime": {
     "end_time": "2023-06-04T11:39:07.701731Z",
     "start_time": "2023-06-04T11:39:07.689473Z"
    }
   },
   "outputs": [
    {
     "data": {
      "text/html": [
       "<div>\n",
       "<style scoped>\n",
       "    .dataframe tbody tr th:only-of-type {\n",
       "        vertical-align: middle;\n",
       "    }\n",
       "\n",
       "    .dataframe tbody tr th {\n",
       "        vertical-align: top;\n",
       "    }\n",
       "\n",
       "    .dataframe thead th {\n",
       "        text-align: right;\n",
       "    }\n",
       "</style>\n",
       "<table border=\"1\" class=\"dataframe\">\n",
       "  <thead>\n",
       "    <tr style=\"text-align: right;\">\n",
       "      <th></th>\n",
       "      <th>0</th>\n",
       "    </tr>\n",
       "  </thead>\n",
       "  <tbody>\n",
       "    <tr>\n",
       "      <th>0</th>\n",
       "      <td>여동생과의 나이차==&gt;5</td>\n",
       "    </tr>\n",
       "  </tbody>\n",
       "</table>\n",
       "</div>"
      ],
      "text/plain": [
       "               0\n",
       "0  여동생과의 나이차==>5"
      ]
     },
     "execution_count": 24,
     "metadata": {},
     "output_type": "execute_result"
    }
   ],
   "source": [
    "pd_1=pd.DataFrame(rows_1)\n",
    "pd_1"
   ]
  }
 ],
 "metadata": {
  "kernelspec": {
   "display_name": "Python 3 (ipykernel)",
   "language": "python",
   "name": "python3"
  },
  "language_info": {
   "codemirror_mode": {
    "name": "ipython",
    "version": 3
   },
   "file_extension": ".py",
   "mimetype": "text/x-python",
   "name": "python",
   "nbconvert_exporter": "python",
   "pygments_lexer": "ipython3",
   "version": "3.8.16"
  },
  "toc": {
   "base_numbering": 1,
   "nav_menu": {},
   "number_sections": true,
   "sideBar": true,
   "skip_h1_title": false,
   "title_cell": "Table of Contents",
   "title_sidebar": "Contents",
   "toc_cell": false,
   "toc_position": {},
   "toc_section_display": true,
   "toc_window_display": false
  }
 },
 "nbformat": 4,
 "nbformat_minor": 5
}
