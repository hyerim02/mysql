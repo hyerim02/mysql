{
 "cells": [
  {
   "cell_type": "markdown",
   "metadata": {},
   "source": [
    "### join  \n",
    "전체 회원의 구매 기록"
   ]
  },
  {
   "cell_type": "code",
   "execution_count": 1,
   "metadata": {
    "ExecuteTime": {
     "end_time": "2022-10-24T08:34:44.640642Z",
     "start_time": "2022-10-24T08:34:41.423139Z"
    }
   },
   "outputs": [],
   "source": [
    "import pandas as pd\n",
    "import pymysql"
   ]
  },
  {
   "cell_type": "code",
   "execution_count": 2,
   "metadata": {
    "ExecuteTime": {
     "end_time": "2022-10-24T08:34:44.670692Z",
     "start_time": "2022-10-24T08:34:44.642526Z"
    }
   },
   "outputs": [],
   "source": [
    "conn1=pymysql.connect(host='127.0.0.1',user='root',password='1234',db='sqldb',charset='utf8')"
   ]
  },
  {
   "cell_type": "code",
   "execution_count": 3,
   "metadata": {
    "ExecuteTime": {
     "end_time": "2022-10-24T08:34:44.685777Z",
     "start_time": "2022-10-24T08:34:44.672687Z"
    }
   },
   "outputs": [],
   "source": [
    "cur_1=conn1.cursor()"
   ]
  },
  {
   "cell_type": "code",
   "execution_count": 4,
   "metadata": {
    "ExecuteTime": {
     "end_time": "2022-10-24T08:34:44.700970Z",
     "start_time": "2022-10-24T08:34:44.693740Z"
    }
   },
   "outputs": [],
   "source": [
    "sql='''SELECT U.userID,U.name,B.prodName,U.addr,CONCAT(U.mobile1,U.mobile2) AS '연락처' FROM usertbl U\n",
    "\tLEFT OUTER JOIN buytbl B\n",
    "    ON U.userID=B.userID\n",
    "ORDER BY U.userID; '''"
   ]
  },
  {
   "cell_type": "code",
   "execution_count": 5,
   "metadata": {
    "ExecuteTime": {
     "end_time": "2022-10-24T08:34:44.716262Z",
     "start_time": "2022-10-24T08:34:44.704770Z"
    }
   },
   "outputs": [],
   "source": [
    "cur_1.execute(sql)\n",
    "rows_1=cur_1.fetchall()\n",
    "conn1.close()"
   ]
  },
  {
   "cell_type": "code",
   "execution_count": 6,
   "metadata": {
    "ExecuteTime": {
     "end_time": "2022-10-24T08:34:44.761016Z",
     "start_time": "2022-10-24T08:34:44.718225Z"
    }
   },
   "outputs": [
    {
     "data": {
      "text/html": [
       "<div>\n",
       "<style scoped>\n",
       "    .dataframe tbody tr th:only-of-type {\n",
       "        vertical-align: middle;\n",
       "    }\n",
       "\n",
       "    .dataframe tbody tr th {\n",
       "        vertical-align: top;\n",
       "    }\n",
       "\n",
       "    .dataframe thead th {\n",
       "        text-align: right;\n",
       "    }\n",
       "</style>\n",
       "<table border=\"1\" class=\"dataframe\">\n",
       "  <thead>\n",
       "    <tr style=\"text-align: right;\">\n",
       "      <th></th>\n",
       "      <th>0</th>\n",
       "      <th>1</th>\n",
       "      <th>2</th>\n",
       "      <th>3</th>\n",
       "      <th>4</th>\n",
       "    </tr>\n",
       "  </thead>\n",
       "  <tbody>\n",
       "    <tr>\n",
       "      <th>0</th>\n",
       "      <td>BBK</td>\n",
       "      <td>바비킴</td>\n",
       "      <td>모니터</td>\n",
       "      <td>서울</td>\n",
       "      <td>0100000000</td>\n",
       "    </tr>\n",
       "    <tr>\n",
       "      <th>1</th>\n",
       "      <td>BBK</td>\n",
       "      <td>바비킴</td>\n",
       "      <td>메모리</td>\n",
       "      <td>서울</td>\n",
       "      <td>0100000000</td>\n",
       "    </tr>\n",
       "    <tr>\n",
       "      <th>2</th>\n",
       "      <td>BBK</td>\n",
       "      <td>바비킴</td>\n",
       "      <td>운동화</td>\n",
       "      <td>서울</td>\n",
       "      <td>0100000000</td>\n",
       "    </tr>\n",
       "    <tr>\n",
       "      <th>3</th>\n",
       "      <td>BBK</td>\n",
       "      <td>바비킴</td>\n",
       "      <td>운동화</td>\n",
       "      <td>서울</td>\n",
       "      <td>0100000000</td>\n",
       "    </tr>\n",
       "    <tr>\n",
       "      <th>4</th>\n",
       "      <td>BBK</td>\n",
       "      <td>바비킴</td>\n",
       "      <td>운동화</td>\n",
       "      <td>서울</td>\n",
       "      <td>0100000000</td>\n",
       "    </tr>\n",
       "  </tbody>\n",
       "</table>\n",
       "</div>"
      ],
      "text/plain": [
       "     0    1    2   3           4\n",
       "0  BBK  바비킴  모니터  서울  0100000000\n",
       "1  BBK  바비킴  메모리  서울  0100000000\n",
       "2  BBK  바비킴  운동화  서울  0100000000\n",
       "3  BBK  바비킴  운동화  서울  0100000000\n",
       "4  BBK  바비킴  운동화  서울  0100000000"
      ]
     },
     "execution_count": 6,
     "metadata": {},
     "output_type": "execute_result"
    }
   ],
   "source": [
    "pd_1=pd.DataFrame(rows_1)\n",
    "pd_1.head()"
   ]
  },
  {
   "cell_type": "markdown",
   "metadata": {},
   "source": [
    "### 유령 회원의 목록"
   ]
  },
  {
   "cell_type": "code",
   "execution_count": 7,
   "metadata": {
    "ExecuteTime": {
     "end_time": "2022-10-24T08:34:44.776165Z",
     "start_time": "2022-10-24T08:34:44.764023Z"
    }
   },
   "outputs": [],
   "source": [
    "import pandas as pd\n",
    "import pymysql"
   ]
  },
  {
   "cell_type": "code",
   "execution_count": 8,
   "metadata": {
    "ExecuteTime": {
     "end_time": "2022-10-24T08:34:44.791009Z",
     "start_time": "2022-10-24T08:34:44.779076Z"
    }
   },
   "outputs": [],
   "source": [
    "conn1=pymysql.connect(host='127.0.0.1',user='root',password='1234',db='sqldb',charset='utf8')"
   ]
  },
  {
   "cell_type": "code",
   "execution_count": 9,
   "metadata": {
    "ExecuteTime": {
     "end_time": "2022-10-24T08:34:44.806032Z",
     "start_time": "2022-10-24T08:34:44.793003Z"
    }
   },
   "outputs": [],
   "source": [
    "cur_1=conn1.cursor()"
   ]
  },
  {
   "cell_type": "code",
   "execution_count": 10,
   "metadata": {
    "ExecuteTime": {
     "end_time": "2022-10-24T08:34:44.820937Z",
     "start_time": "2022-10-24T08:34:44.809323Z"
    }
   },
   "outputs": [],
   "source": [
    "sql='''SELECT U.userID,U.name,B.prodName,U.addr,CONCAT(U.mobile1,U.mobile2) AS '연락처' FROM usertbl U\n",
    "\tLEFT OUTER JOIN buytbl B\n",
    "    ON U.userID=B.userID\n",
    "    WHERE B.prodName IS NULL\n",
    "ORDER BY U.userID; '''"
   ]
  },
  {
   "cell_type": "code",
   "execution_count": 11,
   "metadata": {
    "ExecuteTime": {
     "end_time": "2022-10-24T08:34:44.836887Z",
     "start_time": "2022-10-24T08:34:44.822926Z"
    }
   },
   "outputs": [],
   "source": [
    "cur_1.execute(sql)\n",
    "rows_1=cur_1.fetchall()\n",
    "conn1.close()"
   ]
  },
  {
   "cell_type": "code",
   "execution_count": 12,
   "metadata": {
    "ExecuteTime": {
     "end_time": "2022-10-24T08:34:44.852010Z",
     "start_time": "2022-10-24T08:34:44.838880Z"
    }
   },
   "outputs": [
    {
     "data": {
      "text/html": [
       "<div>\n",
       "<style scoped>\n",
       "    .dataframe tbody tr th:only-of-type {\n",
       "        vertical-align: middle;\n",
       "    }\n",
       "\n",
       "    .dataframe tbody tr th {\n",
       "        vertical-align: top;\n",
       "    }\n",
       "\n",
       "    .dataframe thead th {\n",
       "        text-align: right;\n",
       "    }\n",
       "</style>\n",
       "<table border=\"1\" class=\"dataframe\">\n",
       "  <thead>\n",
       "    <tr style=\"text-align: right;\">\n",
       "      <th></th>\n",
       "      <th>0</th>\n",
       "      <th>1</th>\n",
       "      <th>2</th>\n",
       "      <th>3</th>\n",
       "      <th>4</th>\n",
       "    </tr>\n",
       "  </thead>\n",
       "  <tbody>\n",
       "    <tr>\n",
       "      <th>0</th>\n",
       "      <td>JKW</td>\n",
       "      <td>조관우</td>\n",
       "      <td>None</td>\n",
       "      <td>경기</td>\n",
       "      <td>0189999999</td>\n",
       "    </tr>\n",
       "    <tr>\n",
       "      <th>1</th>\n",
       "      <td>KKH</td>\n",
       "      <td>김경호</td>\n",
       "      <td>None</td>\n",
       "      <td>전남</td>\n",
       "      <td>0193333333</td>\n",
       "    </tr>\n",
       "    <tr>\n",
       "      <th>2</th>\n",
       "      <td>LJB</td>\n",
       "      <td>임재범</td>\n",
       "      <td>None</td>\n",
       "      <td>서울</td>\n",
       "      <td>0166666666</td>\n",
       "    </tr>\n",
       "    <tr>\n",
       "      <th>3</th>\n",
       "      <td>LSG</td>\n",
       "      <td>이승기</td>\n",
       "      <td>None</td>\n",
       "      <td>서울</td>\n",
       "      <td>0111111111</td>\n",
       "    </tr>\n",
       "    <tr>\n",
       "      <th>4</th>\n",
       "      <td>YJS</td>\n",
       "      <td>윤종신</td>\n",
       "      <td>None</td>\n",
       "      <td>경남</td>\n",
       "      <td>None</td>\n",
       "    </tr>\n",
       "  </tbody>\n",
       "</table>\n",
       "</div>"
      ],
      "text/plain": [
       "     0    1     2   3           4\n",
       "0  JKW  조관우  None  경기  0189999999\n",
       "1  KKH  김경호  None  전남  0193333333\n",
       "2  LJB  임재범  None  서울  0166666666\n",
       "3  LSG  이승기  None  서울  0111111111\n",
       "4  YJS  윤종신  None  경남        None"
      ]
     },
     "execution_count": 12,
     "metadata": {},
     "output_type": "execute_result"
    }
   ],
   "source": [
    "pd_1=pd.DataFrame(rows_1)\n",
    "pd_1.head()"
   ]
  },
  {
   "cell_type": "markdown",
   "metadata": {},
   "source": [
    "### 실습5"
   ]
  },
  {
   "cell_type": "code",
   "execution_count": 13,
   "metadata": {
    "ExecuteTime": {
     "end_time": "2022-10-24T08:34:44.866806Z",
     "start_time": "2022-10-24T08:34:44.856503Z"
    }
   },
   "outputs": [],
   "source": [
    "import pandas as pd\n",
    "import pymysql"
   ]
  },
  {
   "cell_type": "code",
   "execution_count": 14,
   "metadata": {
    "ExecuteTime": {
     "end_time": "2022-10-24T08:34:44.881862Z",
     "start_time": "2022-10-24T08:34:44.868951Z"
    }
   },
   "outputs": [],
   "source": [
    "conn1=pymysql.connect(host='127.0.0.1',user='root',password='1234',db='sqldb',charset='utf8')"
   ]
  },
  {
   "cell_type": "code",
   "execution_count": 15,
   "metadata": {
    "ExecuteTime": {
     "end_time": "2022-10-24T08:34:44.896754Z",
     "start_time": "2022-10-24T08:34:44.882763Z"
    }
   },
   "outputs": [],
   "source": [
    "cur_1=conn1.cursor()"
   ]
  },
  {
   "cell_type": "code",
   "execution_count": 16,
   "metadata": {
    "ExecuteTime": {
     "end_time": "2022-10-24T08:34:44.911936Z",
     "start_time": "2022-10-24T08:34:44.898263Z"
    }
   },
   "outputs": [],
   "source": [
    "sql='''SELECT S.stdName,S.addr,C.clubName,C.roomNo FROM stdtbl S\n",
    "\tLEFT OUTER JOIN stdclubtbl SC\n",
    "    ON S.stdName=SC.stdName\n",
    "    LEFT OUTER JOIN clubtbl C \n",
    "    ON SC.clubName=C.clubName\n",
    "    ORDER BY S.stdName;'''"
   ]
  },
  {
   "cell_type": "code",
   "execution_count": 17,
   "metadata": {
    "ExecuteTime": {
     "end_time": "2022-10-24T08:34:44.926967Z",
     "start_time": "2022-10-24T08:34:44.913795Z"
    }
   },
   "outputs": [],
   "source": [
    "cur_1.execute(sql)\n",
    "rows_1=cur_1.fetchall()\n",
    "conn1.close()"
   ]
  },
  {
   "cell_type": "code",
   "execution_count": 18,
   "metadata": {
    "ExecuteTime": {
     "end_time": "2022-10-24T08:34:44.941871Z",
     "start_time": "2022-10-24T08:34:44.927941Z"
    }
   },
   "outputs": [
    {
     "data": {
      "text/html": [
       "<div>\n",
       "<style scoped>\n",
       "    .dataframe tbody tr th:only-of-type {\n",
       "        vertical-align: middle;\n",
       "    }\n",
       "\n",
       "    .dataframe tbody tr th {\n",
       "        vertical-align: top;\n",
       "    }\n",
       "\n",
       "    .dataframe thead th {\n",
       "        text-align: right;\n",
       "    }\n",
       "</style>\n",
       "<table border=\"1\" class=\"dataframe\">\n",
       "  <thead>\n",
       "    <tr style=\"text-align: right;\">\n",
       "      <th></th>\n",
       "      <th>0</th>\n",
       "      <th>1</th>\n",
       "      <th>2</th>\n",
       "      <th>3</th>\n",
       "    </tr>\n",
       "  </thead>\n",
       "  <tbody>\n",
       "    <tr>\n",
       "      <th>0</th>\n",
       "      <td>김범수</td>\n",
       "      <td>경남</td>\n",
       "      <td>바둑</td>\n",
       "      <td>102호</td>\n",
       "    </tr>\n",
       "    <tr>\n",
       "      <th>1</th>\n",
       "      <td>김범수</td>\n",
       "      <td>경남</td>\n",
       "      <td>축구</td>\n",
       "      <td>103호</td>\n",
       "    </tr>\n",
       "    <tr>\n",
       "      <th>2</th>\n",
       "      <td>김범수</td>\n",
       "      <td>경남</td>\n",
       "      <td>바둑</td>\n",
       "      <td>102호</td>\n",
       "    </tr>\n",
       "    <tr>\n",
       "      <th>3</th>\n",
       "      <td>김범수</td>\n",
       "      <td>경남</td>\n",
       "      <td>축구</td>\n",
       "      <td>103호</td>\n",
       "    </tr>\n",
       "    <tr>\n",
       "      <th>4</th>\n",
       "      <td>바비킴</td>\n",
       "      <td>서울</td>\n",
       "      <td>봉사</td>\n",
       "      <td>104호</td>\n",
       "    </tr>\n",
       "  </tbody>\n",
       "</table>\n",
       "</div>"
      ],
      "text/plain": [
       "     0   1   2     3\n",
       "0  김범수  경남  바둑  102호\n",
       "1  김범수  경남  축구  103호\n",
       "2  김범수  경남  바둑  102호\n",
       "3  김범수  경남  축구  103호\n",
       "4  바비킴  서울  봉사  104호"
      ]
     },
     "execution_count": 18,
     "metadata": {},
     "output_type": "execute_result"
    }
   ],
   "source": [
    "pd_1=pd.DataFrame(rows_1)\n",
    "pd_1.head()"
   ]
  },
  {
   "cell_type": "code",
   "execution_count": 19,
   "metadata": {
    "ExecuteTime": {
     "end_time": "2022-10-24T08:34:44.956965Z",
     "start_time": "2022-10-24T08:34:44.944472Z"
    }
   },
   "outputs": [],
   "source": [
    "import pandas as pd\n",
    "import pymysql"
   ]
  },
  {
   "cell_type": "code",
   "execution_count": 20,
   "metadata": {
    "ExecuteTime": {
     "end_time": "2022-10-24T08:34:44.971931Z",
     "start_time": "2022-10-24T08:34:44.958826Z"
    }
   },
   "outputs": [],
   "source": [
    "conn1=pymysql.connect(host='127.0.0.1',user='root',password='1234',db='sqldb',charset='utf8')"
   ]
  },
  {
   "cell_type": "code",
   "execution_count": 21,
   "metadata": {
    "ExecuteTime": {
     "end_time": "2022-10-24T08:34:44.986895Z",
     "start_time": "2022-10-24T08:34:44.973926Z"
    }
   },
   "outputs": [],
   "source": [
    "cur_1=conn1.cursor()"
   ]
  },
  {
   "cell_type": "code",
   "execution_count": 22,
   "metadata": {
    "ExecuteTime": {
     "end_time": "2022-10-24T08:34:45.001850Z",
     "start_time": "2022-10-24T08:34:44.989952Z"
    }
   },
   "outputs": [],
   "source": [
    "sql='''SELECT C.clubName,C.roomNo,S.stdName,S.addr FROM stdtbl S\n",
    "\tLEFT OUTER JOIN stdclubtbl SC\n",
    "    ON SC.stdName=S.stdName\n",
    "    RIGHT OUTER JOIN clubtbl C \n",
    "    ON SC.clubName=C.clubName\n",
    "    ORDER BY C.clubName;'''"
   ]
  },
  {
   "cell_type": "code",
   "execution_count": 23,
   "metadata": {
    "ExecuteTime": {
     "end_time": "2022-10-24T08:34:45.016967Z",
     "start_time": "2022-10-24T08:34:45.005841Z"
    }
   },
   "outputs": [],
   "source": [
    "cur_1.execute(sql)\n",
    "rows_1=cur_1.fetchall()\n",
    "conn1.close()"
   ]
  },
  {
   "cell_type": "code",
   "execution_count": 24,
   "metadata": {
    "ExecuteTime": {
     "end_time": "2022-10-24T08:34:45.031813Z",
     "start_time": "2022-10-24T08:34:45.018848Z"
    }
   },
   "outputs": [
    {
     "data": {
      "text/html": [
       "<div>\n",
       "<style scoped>\n",
       "    .dataframe tbody tr th:only-of-type {\n",
       "        vertical-align: middle;\n",
       "    }\n",
       "\n",
       "    .dataframe tbody tr th {\n",
       "        vertical-align: top;\n",
       "    }\n",
       "\n",
       "    .dataframe thead th {\n",
       "        text-align: right;\n",
       "    }\n",
       "</style>\n",
       "<table border=\"1\" class=\"dataframe\">\n",
       "  <thead>\n",
       "    <tr style=\"text-align: right;\">\n",
       "      <th></th>\n",
       "      <th>0</th>\n",
       "      <th>1</th>\n",
       "      <th>2</th>\n",
       "      <th>3</th>\n",
       "    </tr>\n",
       "  </thead>\n",
       "  <tbody>\n",
       "    <tr>\n",
       "      <th>0</th>\n",
       "      <td>바둑</td>\n",
       "      <td>102호</td>\n",
       "      <td>김범수</td>\n",
       "      <td>경남</td>\n",
       "    </tr>\n",
       "    <tr>\n",
       "      <th>1</th>\n",
       "      <td>바둑</td>\n",
       "      <td>102호</td>\n",
       "      <td>김범수</td>\n",
       "      <td>경남</td>\n",
       "    </tr>\n",
       "    <tr>\n",
       "      <th>2</th>\n",
       "      <td>봉사</td>\n",
       "      <td>104호</td>\n",
       "      <td>은지원</td>\n",
       "      <td>경북</td>\n",
       "    </tr>\n",
       "    <tr>\n",
       "      <th>3</th>\n",
       "      <td>봉사</td>\n",
       "      <td>104호</td>\n",
       "      <td>바비킴</td>\n",
       "      <td>서울</td>\n",
       "    </tr>\n",
       "    <tr>\n",
       "      <th>4</th>\n",
       "      <td>봉사</td>\n",
       "      <td>104호</td>\n",
       "      <td>은지원</td>\n",
       "      <td>경북</td>\n",
       "    </tr>\n",
       "  </tbody>\n",
       "</table>\n",
       "</div>"
      ],
      "text/plain": [
       "    0     1    2   3\n",
       "0  바둑  102호  김범수  경남\n",
       "1  바둑  102호  김범수  경남\n",
       "2  봉사  104호  은지원  경북\n",
       "3  봉사  104호  바비킴  서울\n",
       "4  봉사  104호  은지원  경북"
      ]
     },
     "execution_count": 24,
     "metadata": {},
     "output_type": "execute_result"
    }
   ],
   "source": [
    "pd_1=pd.DataFrame(rows_1)\n",
    "pd_1.head()"
   ]
  },
  {
   "cell_type": "code",
   "execution_count": 25,
   "metadata": {
    "ExecuteTime": {
     "end_time": "2022-10-24T08:34:45.046772Z",
     "start_time": "2022-10-24T08:34:45.032810Z"
    }
   },
   "outputs": [],
   "source": [
    "import pandas as pd\n",
    "import pymysql"
   ]
  },
  {
   "cell_type": "code",
   "execution_count": 26,
   "metadata": {
    "ExecuteTime": {
     "end_time": "2022-10-24T08:34:45.061732Z",
     "start_time": "2022-10-24T08:34:45.048779Z"
    }
   },
   "outputs": [],
   "source": [
    "conn1=pymysql.connect(host='127.0.0.1',user='root',password='1234',db='sqldb',charset='utf8')"
   ]
  },
  {
   "cell_type": "code",
   "execution_count": 27,
   "metadata": {
    "ExecuteTime": {
     "end_time": "2022-10-24T08:34:45.076691Z",
     "start_time": "2022-10-24T08:34:45.063760Z"
    }
   },
   "outputs": [],
   "source": [
    "cur_1=conn1.cursor()"
   ]
  },
  {
   "cell_type": "code",
   "execution_count": 28,
   "metadata": {
    "ExecuteTime": {
     "end_time": "2022-10-24T08:34:45.091654Z",
     "start_time": "2022-10-24T08:34:45.077690Z"
    }
   },
   "outputs": [],
   "source": [
    "sql='''SELECT S.stdName,S.addr,C.clubName,C.roomNo FROM stdtbl S\n",
    "\tLEFT OUTER JOIN stdclubtbl SC\n",
    "    ON S.stdName=SC.stdName\n",
    "    LEFT OUTER JOIN clubtbl C \n",
    "    ON SC.clubName=C.clubName\n",
    "UNION\n",
    "SELECT C.clubName,C.roomNo,S.stdName,S.addr FROM stdtbl S\n",
    "\tLEFT OUTER JOIN stdclubtbl SC\n",
    "    ON SC.stdName=S.stdName\n",
    "    RIGHT OUTER JOIN clubtbl C \n",
    "    ON SC.clubName=C.clubName;'''"
   ]
  },
  {
   "cell_type": "code",
   "execution_count": 29,
   "metadata": {
    "ExecuteTime": {
     "end_time": "2022-10-24T08:34:45.106761Z",
     "start_time": "2022-10-24T08:34:45.092651Z"
    }
   },
   "outputs": [],
   "source": [
    "cur_1.execute(sql)\n",
    "rows_1=cur_1.fetchall()\n",
    "conn1.close()"
   ]
  },
  {
   "cell_type": "code",
   "execution_count": 30,
   "metadata": {
    "ExecuteTime": {
     "end_time": "2022-10-24T08:34:45.121627Z",
     "start_time": "2022-10-24T08:34:45.108662Z"
    }
   },
   "outputs": [
    {
     "data": {
      "text/html": [
       "<div>\n",
       "<style scoped>\n",
       "    .dataframe tbody tr th:only-of-type {\n",
       "        vertical-align: middle;\n",
       "    }\n",
       "\n",
       "    .dataframe tbody tr th {\n",
       "        vertical-align: top;\n",
       "    }\n",
       "\n",
       "    .dataframe thead th {\n",
       "        text-align: right;\n",
       "    }\n",
       "</style>\n",
       "<table border=\"1\" class=\"dataframe\">\n",
       "  <thead>\n",
       "    <tr style=\"text-align: right;\">\n",
       "      <th></th>\n",
       "      <th>0</th>\n",
       "      <th>1</th>\n",
       "      <th>2</th>\n",
       "      <th>3</th>\n",
       "    </tr>\n",
       "  </thead>\n",
       "  <tbody>\n",
       "    <tr>\n",
       "      <th>0</th>\n",
       "      <td>김범수</td>\n",
       "      <td>경남</td>\n",
       "      <td>바둑</td>\n",
       "      <td>102호</td>\n",
       "    </tr>\n",
       "    <tr>\n",
       "      <th>1</th>\n",
       "      <td>김범수</td>\n",
       "      <td>경남</td>\n",
       "      <td>축구</td>\n",
       "      <td>103호</td>\n",
       "    </tr>\n",
       "    <tr>\n",
       "      <th>2</th>\n",
       "      <td>바비킴</td>\n",
       "      <td>서울</td>\n",
       "      <td>봉사</td>\n",
       "      <td>104호</td>\n",
       "    </tr>\n",
       "    <tr>\n",
       "      <th>3</th>\n",
       "      <td>성시경</td>\n",
       "      <td>서울</td>\n",
       "      <td>None</td>\n",
       "      <td>None</td>\n",
       "    </tr>\n",
       "    <tr>\n",
       "      <th>4</th>\n",
       "      <td>은지원</td>\n",
       "      <td>경북</td>\n",
       "      <td>축구</td>\n",
       "      <td>103호</td>\n",
       "    </tr>\n",
       "  </tbody>\n",
       "</table>\n",
       "</div>"
      ],
      "text/plain": [
       "     0   1     2     3\n",
       "0  김범수  경남    바둑  102호\n",
       "1  김범수  경남    축구  103호\n",
       "2  바비킴  서울    봉사  104호\n",
       "3  성시경  서울  None  None\n",
       "4  은지원  경북    축구  103호"
      ]
     },
     "execution_count": 30,
     "metadata": {},
     "output_type": "execute_result"
    }
   ],
   "source": [
    "pd_1=pd.DataFrame(rows_1)\n",
    "pd_1.head()"
   ]
  }
 ],
 "metadata": {
  "kernelspec": {
   "display_name": "Python 3",
   "language": "python",
   "name": "python3"
  },
  "language_info": {
   "codemirror_mode": {
    "name": "ipython",
    "version": 3
   },
   "file_extension": ".py",
   "mimetype": "text/x-python",
   "name": "python",
   "nbconvert_exporter": "python",
   "pygments_lexer": "ipython3",
   "version": "3.8.5"
  },
  "toc": {
   "base_numbering": 1,
   "nav_menu": {},
   "number_sections": true,
   "sideBar": true,
   "skip_h1_title": false,
   "title_cell": "Table of Contents",
   "title_sidebar": "Contents",
   "toc_cell": false,
   "toc_position": {},
   "toc_section_display": true,
   "toc_window_display": false
  }
 },
 "nbformat": 4,
 "nbformat_minor": 4
}
