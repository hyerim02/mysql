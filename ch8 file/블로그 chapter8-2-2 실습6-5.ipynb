{
 "cells": [
  {
   "cell_type": "code",
   "execution_count": 1,
   "metadata": {
    "ExecuteTime": {
     "end_time": "2022-11-20T13:28:39.382973Z",
     "start_time": "2022-11-20T13:28:38.499871Z"
    }
   },
   "outputs": [],
   "source": [
    "import pandas as pd\n",
    "import pymysql"
   ]
  },
  {
   "cell_type": "code",
   "execution_count": 2,
   "metadata": {
    "ExecuteTime": {
     "end_time": "2022-11-20T13:28:39.412933Z",
     "start_time": "2022-11-20T13:28:39.388999Z"
    }
   },
   "outputs": [],
   "source": [
    "conn1=pymysql.connect(host='127.0.0.1',user='root',password='1234',db='sqldb',charset='utf8')"
   ]
  },
  {
   "cell_type": "code",
   "execution_count": 3,
   "metadata": {
    "ExecuteTime": {
     "end_time": "2022-11-20T13:28:39.428891Z",
     "start_time": "2022-11-20T13:28:39.416922Z"
    }
   },
   "outputs": [],
   "source": [
    "cur_1=conn1.cursor()"
   ]
  },
  {
   "cell_type": "code",
   "execution_count": 4,
   "metadata": {
    "ExecuteTime": {
     "end_time": "2022-11-20T13:28:39.564678Z",
     "start_time": "2022-11-20T13:28:39.549792Z"
    }
   },
   "outputs": [],
   "source": [
    "sql='''CHECK TABLE v_userbuytbl;'''"
   ]
  },
  {
   "cell_type": "code",
   "execution_count": 5,
   "metadata": {
    "ExecuteTime": {
     "end_time": "2022-11-20T13:28:39.976684Z",
     "start_time": "2022-11-20T13:28:39.948647Z"
    }
   },
   "outputs": [],
   "source": [
    "cur_1.execute(sql)\n",
    "rows_1=cur_1.fetchall()\n",
    "conn1.close()"
   ]
  },
  {
   "cell_type": "code",
   "execution_count": 6,
   "metadata": {
    "ExecuteTime": {
     "end_time": "2022-11-20T13:28:40.311061Z",
     "start_time": "2022-11-20T13:28:40.273156Z"
    }
   },
   "outputs": [
    {
     "data": {
      "text/html": [
       "<div>\n",
       "<style scoped>\n",
       "    .dataframe tbody tr th:only-of-type {\n",
       "        vertical-align: middle;\n",
       "    }\n",
       "\n",
       "    .dataframe tbody tr th {\n",
       "        vertical-align: top;\n",
       "    }\n",
       "\n",
       "    .dataframe thead th {\n",
       "        text-align: right;\n",
       "    }\n",
       "</style>\n",
       "<table border=\"1\" class=\"dataframe\">\n",
       "  <thead>\n",
       "    <tr style=\"text-align: right;\">\n",
       "      <th></th>\n",
       "      <th>0</th>\n",
       "      <th>1</th>\n",
       "      <th>2</th>\n",
       "      <th>3</th>\n",
       "    </tr>\n",
       "  </thead>\n",
       "  <tbody>\n",
       "    <tr>\n",
       "      <th>0</th>\n",
       "      <td>sqldb.v_userbuytbl</td>\n",
       "      <td>check</td>\n",
       "      <td>Error</td>\n",
       "      <td>View 'sqldb.v_userbuytbl' references invalid t...</td>\n",
       "    </tr>\n",
       "    <tr>\n",
       "      <th>1</th>\n",
       "      <td>sqldb.v_userbuytbl</td>\n",
       "      <td>check</td>\n",
       "      <td>error</td>\n",
       "      <td>Corrupt</td>\n",
       "    </tr>\n",
       "  </tbody>\n",
       "</table>\n",
       "</div>"
      ],
      "text/plain": [
       "                    0      1      2  \\\n",
       "0  sqldb.v_userbuytbl  check  Error   \n",
       "1  sqldb.v_userbuytbl  check  error   \n",
       "\n",
       "                                                   3  \n",
       "0  View 'sqldb.v_userbuytbl' references invalid t...  \n",
       "1                                            Corrupt  "
      ]
     },
     "execution_count": 6,
     "metadata": {},
     "output_type": "execute_result"
    }
   ],
   "source": [
    "pd_1=pd.DataFrame(rows_1)\n",
    "pd_1"
   ]
  }
 ],
 "metadata": {
  "kernelspec": {
   "display_name": "Python 3",
   "language": "python",
   "name": "python3"
  },
  "language_info": {
   "codemirror_mode": {
    "name": "ipython",
    "version": 3
   },
   "file_extension": ".py",
   "mimetype": "text/x-python",
   "name": "python",
   "nbconvert_exporter": "python",
   "pygments_lexer": "ipython3",
   "version": "3.8.5"
  },
  "toc": {
   "base_numbering": 1,
   "nav_menu": {},
   "number_sections": true,
   "sideBar": true,
   "skip_h1_title": false,
   "title_cell": "Table of Contents",
   "title_sidebar": "Contents",
   "toc_cell": false,
   "toc_position": {},
   "toc_section_display": true,
   "toc_window_display": false
  }
 },
 "nbformat": 4,
 "nbformat_minor": 4
}
