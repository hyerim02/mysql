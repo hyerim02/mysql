{
 "cells": [
  {
   "cell_type": "code",
   "execution_count": 1,
   "metadata": {
    "ExecuteTime": {
     "end_time": "2022-11-09T16:16:58.799724Z",
     "start_time": "2022-11-09T16:16:54.695100Z"
    }
   },
   "outputs": [],
   "source": [
    "import pandas as pd\n",
    "import pymysql"
   ]
  },
  {
   "cell_type": "code",
   "execution_count": 2,
   "metadata": {
    "ExecuteTime": {
     "end_time": "2022-11-09T16:16:58.844503Z",
     "start_time": "2022-11-09T16:16:58.802716Z"
    }
   },
   "outputs": [],
   "source": [
    "conn1=pymysql.connect(host='127.0.0.1',user='root',password='1234',db='compressDB',charset='utf8')"
   ]
  },
  {
   "cell_type": "code",
   "execution_count": 3,
   "metadata": {
    "ExecuteTime": {
     "end_time": "2022-11-09T16:16:58.859414Z",
     "start_time": "2022-11-09T16:16:58.846416Z"
    }
   },
   "outputs": [],
   "source": [
    "cur_1=conn1.cursor()"
   ]
  },
  {
   "cell_type": "code",
   "execution_count": 4,
   "metadata": {
    "ExecuteTime": {
     "end_time": "2022-11-09T16:16:58.874431Z",
     "start_time": "2022-11-09T16:16:58.861376Z"
    }
   },
   "outputs": [],
   "source": [
    "sql=\"SHOW TABLE STATUS FROM compressDB;\""
   ]
  },
  {
   "cell_type": "code",
   "execution_count": 5,
   "metadata": {
    "ExecuteTime": {
     "end_time": "2022-11-09T16:16:58.889720Z",
     "start_time": "2022-11-09T16:16:58.876691Z"
    }
   },
   "outputs": [],
   "source": [
    "cur_1.execute(sql)\n",
    "rows_1=cur_1.fetchall()\n",
    "conn1.close()"
   ]
  },
  {
   "cell_type": "code",
   "execution_count": 6,
   "metadata": {
    "ExecuteTime": {
     "end_time": "2022-11-09T16:16:58.949478Z",
     "start_time": "2022-11-09T16:16:58.896563Z"
    }
   },
   "outputs": [
    {
     "data": {
      "text/html": [
       "<div>\n",
       "<style scoped>\n",
       "    .dataframe tbody tr th:only-of-type {\n",
       "        vertical-align: middle;\n",
       "    }\n",
       "\n",
       "    .dataframe tbody tr th {\n",
       "        vertical-align: top;\n",
       "    }\n",
       "\n",
       "    .dataframe thead th {\n",
       "        text-align: right;\n",
       "    }\n",
       "</style>\n",
       "<table border=\"1\" class=\"dataframe\">\n",
       "  <thead>\n",
       "    <tr style=\"text-align: right;\">\n",
       "      <th></th>\n",
       "      <th>0</th>\n",
       "      <th>1</th>\n",
       "      <th>2</th>\n",
       "      <th>3</th>\n",
       "      <th>4</th>\n",
       "      <th>5</th>\n",
       "      <th>6</th>\n",
       "      <th>7</th>\n",
       "      <th>8</th>\n",
       "      <th>9</th>\n",
       "      <th>10</th>\n",
       "      <th>11</th>\n",
       "      <th>12</th>\n",
       "      <th>13</th>\n",
       "      <th>14</th>\n",
       "      <th>15</th>\n",
       "      <th>16</th>\n",
       "      <th>17</th>\n",
       "    </tr>\n",
       "  </thead>\n",
       "  <tbody>\n",
       "    <tr>\n",
       "      <th>0</th>\n",
       "      <td>compresstbl</td>\n",
       "      <td>InnoDB</td>\n",
       "      <td>10</td>\n",
       "      <td>Compressed</td>\n",
       "      <td>299128</td>\n",
       "      <td>25</td>\n",
       "      <td>7626752</td>\n",
       "      <td>0</td>\n",
       "      <td>0</td>\n",
       "      <td>2097152</td>\n",
       "      <td>None</td>\n",
       "      <td>2022-11-10 01:06:27</td>\n",
       "      <td>2022-11-10 01:10:41</td>\n",
       "      <td>None</td>\n",
       "      <td>utf8mb4_0900_ai_ci</td>\n",
       "      <td>None</td>\n",
       "      <td>row_format=COMPRESSED</td>\n",
       "      <td></td>\n",
       "    </tr>\n",
       "    <tr>\n",
       "      <th>1</th>\n",
       "      <td>normaltbl</td>\n",
       "      <td>InnoDB</td>\n",
       "      <td>10</td>\n",
       "      <td>Dynamic</td>\n",
       "      <td>299497</td>\n",
       "      <td>40</td>\n",
       "      <td>12075008</td>\n",
       "      <td>0</td>\n",
       "      <td>0</td>\n",
       "      <td>4194304</td>\n",
       "      <td>None</td>\n",
       "      <td>2022-11-10 01:06:27</td>\n",
       "      <td>2022-11-10 01:10:35</td>\n",
       "      <td>None</td>\n",
       "      <td>utf8mb4_0900_ai_ci</td>\n",
       "      <td>None</td>\n",
       "      <td></td>\n",
       "      <td></td>\n",
       "    </tr>\n",
       "  </tbody>\n",
       "</table>\n",
       "</div>"
      ],
      "text/plain": [
       "            0       1   2           3       4   5         6   7   8        9   \\\n",
       "0  compresstbl  InnoDB  10  Compressed  299128  25   7626752   0   0  2097152   \n",
       "1    normaltbl  InnoDB  10     Dynamic  299497  40  12075008   0   0  4194304   \n",
       "\n",
       "     10                  11                  12    13                  14  \\\n",
       "0  None 2022-11-10 01:06:27 2022-11-10 01:10:41  None  utf8mb4_0900_ai_ci   \n",
       "1  None 2022-11-10 01:06:27 2022-11-10 01:10:35  None  utf8mb4_0900_ai_ci   \n",
       "\n",
       "     15                     16 17  \n",
       "0  None  row_format=COMPRESSED     \n",
       "1  None                            "
      ]
     },
     "execution_count": 6,
     "metadata": {},
     "output_type": "execute_result"
    }
   ],
   "source": [
    "pd_1=pd.DataFrame(rows_1)\n",
    "pd_1.head()"
   ]
  }
 ],
 "metadata": {
  "kernelspec": {
   "display_name": "Python 3",
   "language": "python",
   "name": "python3"
  },
  "language_info": {
   "codemirror_mode": {
    "name": "ipython",
    "version": 3
   },
   "file_extension": ".py",
   "mimetype": "text/x-python",
   "name": "python",
   "nbconvert_exporter": "python",
   "pygments_lexer": "ipython3",
   "version": "3.8.5"
  },
  "toc": {
   "base_numbering": 1,
   "nav_menu": {},
   "number_sections": true,
   "sideBar": true,
   "skip_h1_title": false,
   "title_cell": "Table of Contents",
   "title_sidebar": "Contents",
   "toc_cell": false,
   "toc_position": {},
   "toc_section_display": true,
   "toc_window_display": false
  }
 },
 "nbformat": 4,
 "nbformat_minor": 4
}
