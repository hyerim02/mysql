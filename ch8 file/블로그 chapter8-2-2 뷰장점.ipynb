{
 "cells": [
  {
   "cell_type": "code",
   "execution_count": 7,
   "metadata": {
    "ExecuteTime": {
     "end_time": "2022-11-20T09:21:25.251977Z",
     "start_time": "2022-11-20T09:21:25.239339Z"
    }
   },
   "outputs": [],
   "source": [
    "import pandas as pd\n",
    "import pymysql"
   ]
  },
  {
   "cell_type": "code",
   "execution_count": 8,
   "metadata": {
    "ExecuteTime": {
     "end_time": "2022-11-20T09:21:25.737360Z",
     "start_time": "2022-11-20T09:21:25.722019Z"
    }
   },
   "outputs": [],
   "source": [
    "conn1=pymysql.connect(host='127.0.0.1',user='root',password='1234',db='tabledb',charset='utf8')"
   ]
  },
  {
   "cell_type": "code",
   "execution_count": 9,
   "metadata": {
    "ExecuteTime": {
     "end_time": "2022-11-20T09:21:26.203552Z",
     "start_time": "2022-11-20T09:21:26.186174Z"
    }
   },
   "outputs": [],
   "source": [
    "cur_1=conn1.cursor()"
   ]
  },
  {
   "cell_type": "code",
   "execution_count": 10,
   "metadata": {
    "ExecuteTime": {
     "end_time": "2022-11-20T09:21:26.612717Z",
     "start_time": "2022-11-20T09:21:26.602474Z"
    }
   },
   "outputs": [],
   "source": [
    "sql='''SELECT U.userid, U.name, B.prodName, U.addr, CONCAT(U.mobile1, U.mobile2)  AS '연락처'\n",
    "FROM usertbl U\n",
    "  INNER JOIN buytbl B\n",
    "     ON U.userid = B.userid ;'''"
   ]
  },
  {
   "cell_type": "code",
   "execution_count": 11,
   "metadata": {
    "ExecuteTime": {
     "end_time": "2022-11-20T09:21:27.023026Z",
     "start_time": "2022-11-20T09:21:26.986157Z"
    }
   },
   "outputs": [],
   "source": [
    "cur_1.execute(sql)\n",
    "rows_1=cur_1.fetchall()\n",
    "conn1.close()"
   ]
  },
  {
   "cell_type": "code",
   "execution_count": 12,
   "metadata": {
    "ExecuteTime": {
     "end_time": "2022-11-20T09:21:27.463261Z",
     "start_time": "2022-11-20T09:21:27.440233Z"
    }
   },
   "outputs": [
    {
     "data": {
      "text/html": [
       "<div>\n",
       "<style scoped>\n",
       "    .dataframe tbody tr th:only-of-type {\n",
       "        vertical-align: middle;\n",
       "    }\n",
       "\n",
       "    .dataframe tbody tr th {\n",
       "        vertical-align: top;\n",
       "    }\n",
       "\n",
       "    .dataframe thead th {\n",
       "        text-align: right;\n",
       "    }\n",
       "</style>\n",
       "<table border=\"1\" class=\"dataframe\">\n",
       "  <thead>\n",
       "    <tr style=\"text-align: right;\">\n",
       "      <th></th>\n",
       "      <th>0</th>\n",
       "      <th>1</th>\n",
       "      <th>2</th>\n",
       "      <th>3</th>\n",
       "      <th>4</th>\n",
       "    </tr>\n",
       "  </thead>\n",
       "  <tbody>\n",
       "    <tr>\n",
       "      <th>0</th>\n",
       "      <td>EJW</td>\n",
       "      <td>은지원</td>\n",
       "      <td>책</td>\n",
       "      <td>경북</td>\n",
       "      <td>0118888888</td>\n",
       "    </tr>\n",
       "    <tr>\n",
       "      <th>1</th>\n",
       "      <td>EJW</td>\n",
       "      <td>은지원</td>\n",
       "      <td>청바지</td>\n",
       "      <td>경북</td>\n",
       "      <td>0118888888</td>\n",
       "    </tr>\n",
       "    <tr>\n",
       "      <th>2</th>\n",
       "      <td>EJW</td>\n",
       "      <td>은지원</td>\n",
       "      <td>책</td>\n",
       "      <td>경북</td>\n",
       "      <td>0118888888</td>\n",
       "    </tr>\n",
       "    <tr>\n",
       "      <th>3</th>\n",
       "      <td>JYP</td>\n",
       "      <td>조용필</td>\n",
       "      <td>모니터</td>\n",
       "      <td>경기</td>\n",
       "      <td>0114444444</td>\n",
       "    </tr>\n",
       "    <tr>\n",
       "      <th>4</th>\n",
       "      <td>KBS</td>\n",
       "      <td>김범수</td>\n",
       "      <td>청바지</td>\n",
       "      <td>경남</td>\n",
       "      <td>0112222222</td>\n",
       "    </tr>\n",
       "    <tr>\n",
       "      <th>5</th>\n",
       "      <td>KBS</td>\n",
       "      <td>김범수</td>\n",
       "      <td>노트북</td>\n",
       "      <td>경남</td>\n",
       "      <td>0112222222</td>\n",
       "    </tr>\n",
       "    <tr>\n",
       "      <th>6</th>\n",
       "      <td>KBS</td>\n",
       "      <td>김범수</td>\n",
       "      <td>운동화</td>\n",
       "      <td>경남</td>\n",
       "      <td>0112222222</td>\n",
       "    </tr>\n",
       "    <tr>\n",
       "      <th>7</th>\n",
       "      <td>SSK</td>\n",
       "      <td>성시경</td>\n",
       "      <td>책</td>\n",
       "      <td>서울</td>\n",
       "      <td>None</td>\n",
       "    </tr>\n",
       "  </tbody>\n",
       "</table>\n",
       "</div>"
      ],
      "text/plain": [
       "     0    1    2   3           4\n",
       "0  EJW  은지원    책  경북  0118888888\n",
       "1  EJW  은지원  청바지  경북  0118888888\n",
       "2  EJW  은지원    책  경북  0118888888\n",
       "3  JYP  조용필  모니터  경기  0114444444\n",
       "4  KBS  김범수  청바지  경남  0112222222\n",
       "5  KBS  김범수  노트북  경남  0112222222\n",
       "6  KBS  김범수  운동화  경남  0112222222\n",
       "7  SSK  성시경    책  서울        None"
      ]
     },
     "execution_count": 12,
     "metadata": {},
     "output_type": "execute_result"
    }
   ],
   "source": [
    "pd_1=pd.DataFrame(rows_1)\n",
    "pd_1"
   ]
  },
  {
   "cell_type": "code",
   "execution_count": 13,
   "metadata": {
    "ExecuteTime": {
     "end_time": "2022-11-20T09:26:01.160505Z",
     "start_time": "2022-11-20T09:26:01.143534Z"
    }
   },
   "outputs": [],
   "source": [
    "import pandas as pd\n",
    "import pymysql"
   ]
  },
  {
   "cell_type": "code",
   "execution_count": 14,
   "metadata": {
    "ExecuteTime": {
     "end_time": "2022-11-20T09:26:01.753237Z",
     "start_time": "2022-11-20T09:26:01.724431Z"
    }
   },
   "outputs": [],
   "source": [
    "conn1=pymysql.connect(host='127.0.0.1',user='root',password='1234',db='tabledb',charset='utf8')"
   ]
  },
  {
   "cell_type": "code",
   "execution_count": 15,
   "metadata": {
    "ExecuteTime": {
     "end_time": "2022-11-20T09:26:02.453500Z",
     "start_time": "2022-11-20T09:26:02.441557Z"
    }
   },
   "outputs": [],
   "source": [
    "cur_1=conn1.cursor()"
   ]
  },
  {
   "cell_type": "code",
   "execution_count": 16,
   "metadata": {
    "ExecuteTime": {
     "end_time": "2022-11-20T09:26:03.449809Z",
     "start_time": "2022-11-20T09:26:03.441761Z"
    }
   },
   "outputs": [],
   "source": [
    "sql='''SELECT * FROM v_userbuytbl WHERE name = '김범수';  '''"
   ]
  },
  {
   "cell_type": "code",
   "execution_count": 17,
   "metadata": {
    "ExecuteTime": {
     "end_time": "2022-11-20T09:26:04.184520Z",
     "start_time": "2022-11-20T09:26:04.170072Z"
    }
   },
   "outputs": [],
   "source": [
    "cur_1.execute(sql)\n",
    "rows_1=cur_1.fetchall()\n",
    "conn1.close()"
   ]
  },
  {
   "cell_type": "code",
   "execution_count": 18,
   "metadata": {
    "ExecuteTime": {
     "end_time": "2022-11-20T09:26:04.640655Z",
     "start_time": "2022-11-20T09:26:04.625456Z"
    }
   },
   "outputs": [
    {
     "data": {
      "text/html": [
       "<div>\n",
       "<style scoped>\n",
       "    .dataframe tbody tr th:only-of-type {\n",
       "        vertical-align: middle;\n",
       "    }\n",
       "\n",
       "    .dataframe tbody tr th {\n",
       "        vertical-align: top;\n",
       "    }\n",
       "\n",
       "    .dataframe thead th {\n",
       "        text-align: right;\n",
       "    }\n",
       "</style>\n",
       "<table border=\"1\" class=\"dataframe\">\n",
       "  <thead>\n",
       "    <tr style=\"text-align: right;\">\n",
       "      <th></th>\n",
       "      <th>0</th>\n",
       "      <th>1</th>\n",
       "      <th>2</th>\n",
       "      <th>3</th>\n",
       "      <th>4</th>\n",
       "    </tr>\n",
       "  </thead>\n",
       "  <tbody>\n",
       "    <tr>\n",
       "      <th>0</th>\n",
       "      <td>KBS</td>\n",
       "      <td>김범수</td>\n",
       "      <td>운동화</td>\n",
       "      <td>경남</td>\n",
       "      <td>0112222222</td>\n",
       "    </tr>\n",
       "    <tr>\n",
       "      <th>1</th>\n",
       "      <td>KBS</td>\n",
       "      <td>김범수</td>\n",
       "      <td>노트북</td>\n",
       "      <td>경남</td>\n",
       "      <td>0112222222</td>\n",
       "    </tr>\n",
       "    <tr>\n",
       "      <th>2</th>\n",
       "      <td>KBS</td>\n",
       "      <td>김범수</td>\n",
       "      <td>청바지</td>\n",
       "      <td>경남</td>\n",
       "      <td>0112222222</td>\n",
       "    </tr>\n",
       "  </tbody>\n",
       "</table>\n",
       "</div>"
      ],
      "text/plain": [
       "     0    1    2   3           4\n",
       "0  KBS  김범수  운동화  경남  0112222222\n",
       "1  KBS  김범수  노트북  경남  0112222222\n",
       "2  KBS  김범수  청바지  경남  0112222222"
      ]
     },
     "execution_count": 18,
     "metadata": {},
     "output_type": "execute_result"
    }
   ],
   "source": [
    "pd_1=pd.DataFrame(rows_1)\n",
    "pd_1"
   ]
  }
 ],
 "metadata": {
  "kernelspec": {
   "display_name": "Python 3",
   "language": "python",
   "name": "python3"
  },
  "language_info": {
   "codemirror_mode": {
    "name": "ipython",
    "version": 3
   },
   "file_extension": ".py",
   "mimetype": "text/x-python",
   "name": "python",
   "nbconvert_exporter": "python",
   "pygments_lexer": "ipython3",
   "version": "3.8.5"
  },
  "toc": {
   "base_numbering": 1,
   "nav_menu": {},
   "number_sections": true,
   "sideBar": true,
   "skip_h1_title": false,
   "title_cell": "Table of Contents",
   "title_sidebar": "Contents",
   "toc_cell": false,
   "toc_position": {},
   "toc_section_display": true,
   "toc_window_display": false
  }
 },
 "nbformat": 4,
 "nbformat_minor": 4
}
