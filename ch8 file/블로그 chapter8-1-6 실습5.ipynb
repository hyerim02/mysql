{
 "cells": [
  {
   "cell_type": "markdown",
   "metadata": {},
   "source": [
    "# 3"
   ]
  },
  {
   "cell_type": "code",
   "execution_count": 1,
   "metadata": {
    "ExecuteTime": {
     "end_time": "2022-11-16T16:10:33.008355Z",
     "start_time": "2022-11-16T16:10:29.457343Z"
    }
   },
   "outputs": [],
   "source": [
    "import pandas as pd\n",
    "import pymysql"
   ]
  },
  {
   "cell_type": "code",
   "execution_count": 2,
   "metadata": {
    "ExecuteTime": {
     "end_time": "2022-11-16T16:10:33.053461Z",
     "start_time": "2022-11-16T16:10:33.010302Z"
    }
   },
   "outputs": [],
   "source": [
    "conn1=pymysql.connect(host='127.0.0.1',user='root',password='1234',db='Tabledb',charset='utf8')"
   ]
  },
  {
   "cell_type": "code",
   "execution_count": 3,
   "metadata": {
    "ExecuteTime": {
     "end_time": "2022-11-16T16:10:33.068364Z",
     "start_time": "2022-11-16T16:10:33.055336Z"
    }
   },
   "outputs": [],
   "source": [
    "cur_1=conn1.cursor()"
   ]
  },
  {
   "cell_type": "code",
   "execution_count": 4,
   "metadata": {
    "ExecuteTime": {
     "end_time": "2022-11-16T16:10:33.083418Z",
     "start_time": "2022-11-16T16:10:33.070327Z"
    }
   },
   "outputs": [],
   "source": [
    "sql='''DESC usertbl;'''"
   ]
  },
  {
   "cell_type": "code",
   "execution_count": 5,
   "metadata": {
    "ExecuteTime": {
     "end_time": "2022-11-16T16:10:33.098697Z",
     "start_time": "2022-11-16T16:10:33.084452Z"
    }
   },
   "outputs": [],
   "source": [
    "cur_1.execute(sql)\n",
    "rows_1=cur_1.fetchall()\n",
    "conn1.close()"
   ]
  },
  {
   "cell_type": "code",
   "execution_count": 6,
   "metadata": {
    "ExecuteTime": {
     "end_time": "2022-11-16T16:10:33.143758Z",
     "start_time": "2022-11-16T16:10:33.100584Z"
    }
   },
   "outputs": [
    {
     "data": {
      "text/html": [
       "<div>\n",
       "<style scoped>\n",
       "    .dataframe tbody tr th:only-of-type {\n",
       "        vertical-align: middle;\n",
       "    }\n",
       "\n",
       "    .dataframe tbody tr th {\n",
       "        vertical-align: top;\n",
       "    }\n",
       "\n",
       "    .dataframe thead th {\n",
       "        text-align: right;\n",
       "    }\n",
       "</style>\n",
       "<table border=\"1\" class=\"dataframe\">\n",
       "  <thead>\n",
       "    <tr style=\"text-align: right;\">\n",
       "      <th></th>\n",
       "      <th>0</th>\n",
       "      <th>1</th>\n",
       "      <th>2</th>\n",
       "      <th>3</th>\n",
       "      <th>4</th>\n",
       "      <th>5</th>\n",
       "    </tr>\n",
       "  </thead>\n",
       "  <tbody>\n",
       "    <tr>\n",
       "      <th>0</th>\n",
       "      <td>userID</td>\n",
       "      <td>char(8)</td>\n",
       "      <td>NO</td>\n",
       "      <td>PRI</td>\n",
       "      <td>None</td>\n",
       "      <td></td>\n",
       "    </tr>\n",
       "    <tr>\n",
       "      <th>1</th>\n",
       "      <td>name</td>\n",
       "      <td>varchar(10)</td>\n",
       "      <td>YES</td>\n",
       "      <td></td>\n",
       "      <td>None</td>\n",
       "      <td></td>\n",
       "    </tr>\n",
       "    <tr>\n",
       "      <th>2</th>\n",
       "      <td>birthYear</td>\n",
       "      <td>int</td>\n",
       "      <td>YES</td>\n",
       "      <td></td>\n",
       "      <td>None</td>\n",
       "      <td></td>\n",
       "    </tr>\n",
       "    <tr>\n",
       "      <th>3</th>\n",
       "      <td>addr</td>\n",
       "      <td>char(2)</td>\n",
       "      <td>YES</td>\n",
       "      <td></td>\n",
       "      <td>None</td>\n",
       "      <td></td>\n",
       "    </tr>\n",
       "    <tr>\n",
       "      <th>4</th>\n",
       "      <td>mobile1</td>\n",
       "      <td>char(3)</td>\n",
       "      <td>YES</td>\n",
       "      <td></td>\n",
       "      <td>None</td>\n",
       "      <td></td>\n",
       "    </tr>\n",
       "  </tbody>\n",
       "</table>\n",
       "</div>"
      ],
      "text/plain": [
       "           0            1    2    3     4 5\n",
       "0     userID      char(8)   NO  PRI  None  \n",
       "1       name  varchar(10)  YES       None  \n",
       "2  birthYear          int  YES       None  \n",
       "3       addr      char(2)  YES       None  \n",
       "4    mobile1      char(3)  YES       None  "
      ]
     },
     "execution_count": 6,
     "metadata": {},
     "output_type": "execute_result"
    }
   ],
   "source": [
    "pd_1=pd.DataFrame(rows_1)\n",
    "pd_1.head()"
   ]
  },
  {
   "cell_type": "markdown",
   "metadata": {},
   "source": [
    "# 8"
   ]
  },
  {
   "cell_type": "code",
   "execution_count": 7,
   "metadata": {
    "ExecuteTime": {
     "end_time": "2022-11-16T16:43:22.444726Z",
     "start_time": "2022-11-16T16:43:22.431532Z"
    }
   },
   "outputs": [],
   "source": [
    "import pandas as pd\n",
    "import pymysql"
   ]
  },
  {
   "cell_type": "code",
   "execution_count": 8,
   "metadata": {
    "ExecuteTime": {
     "end_time": "2022-11-16T16:43:23.296284Z",
     "start_time": "2022-11-16T16:43:23.276130Z"
    }
   },
   "outputs": [],
   "source": [
    "conn1=pymysql.connect(host='127.0.0.1',user='root',password='1234',db='Tabledb',charset='utf8')"
   ]
  },
  {
   "cell_type": "code",
   "execution_count": 9,
   "metadata": {
    "ExecuteTime": {
     "end_time": "2022-11-16T16:43:23.965722Z",
     "start_time": "2022-11-16T16:43:23.947563Z"
    }
   },
   "outputs": [],
   "source": [
    "cur_1=conn1.cursor()"
   ]
  },
  {
   "cell_type": "code",
   "execution_count": 10,
   "metadata": {
    "ExecuteTime": {
     "end_time": "2022-11-16T16:43:24.588727Z",
     "start_time": "2022-11-16T16:43:24.579236Z"
    }
   },
   "outputs": [],
   "source": [
    "sql='''SELECT B.userid, U.name, B.prodName, U.addr, CONCAT(U.mobile1, U.mobile2)  AS '연락처'\n",
    "   FROM buytbl B\n",
    "     INNER JOIN usertbl U\n",
    "        ON B.userid = U.userid ;'''"
   ]
  },
  {
   "cell_type": "code",
   "execution_count": 11,
   "metadata": {
    "ExecuteTime": {
     "end_time": "2022-11-16T16:43:25.275278Z",
     "start_time": "2022-11-16T16:43:25.262945Z"
    }
   },
   "outputs": [],
   "source": [
    "cur_1.execute(sql)\n",
    "rows_1=cur_1.fetchall()\n",
    "conn1.close()"
   ]
  },
  {
   "cell_type": "code",
   "execution_count": 15,
   "metadata": {
    "ExecuteTime": {
     "end_time": "2022-11-16T16:44:27.002682Z",
     "start_time": "2022-11-16T16:44:26.978343Z"
    }
   },
   "outputs": [
    {
     "data": {
      "text/html": [
       "<div>\n",
       "<style scoped>\n",
       "    .dataframe tbody tr th:only-of-type {\n",
       "        vertical-align: middle;\n",
       "    }\n",
       "\n",
       "    .dataframe tbody tr th {\n",
       "        vertical-align: top;\n",
       "    }\n",
       "\n",
       "    .dataframe thead th {\n",
       "        text-align: right;\n",
       "    }\n",
       "</style>\n",
       "<table border=\"1\" class=\"dataframe\">\n",
       "  <thead>\n",
       "    <tr style=\"text-align: right;\">\n",
       "      <th></th>\n",
       "      <th>0</th>\n",
       "      <th>1</th>\n",
       "      <th>2</th>\n",
       "      <th>3</th>\n",
       "      <th>4</th>\n",
       "    </tr>\n",
       "  </thead>\n",
       "  <tbody>\n",
       "    <tr>\n",
       "      <th>0</th>\n",
       "      <td>KBS</td>\n",
       "      <td>김범수</td>\n",
       "      <td>운동화</td>\n",
       "      <td>경남</td>\n",
       "      <td>0112222222</td>\n",
       "    </tr>\n",
       "    <tr>\n",
       "      <th>1</th>\n",
       "      <td>KBS</td>\n",
       "      <td>김범수</td>\n",
       "      <td>노트북</td>\n",
       "      <td>경남</td>\n",
       "      <td>0112222222</td>\n",
       "    </tr>\n",
       "    <tr>\n",
       "      <th>2</th>\n",
       "      <td>JYP</td>\n",
       "      <td>조용필</td>\n",
       "      <td>모니터</td>\n",
       "      <td>경기</td>\n",
       "      <td>0114444444</td>\n",
       "    </tr>\n",
       "    <tr>\n",
       "      <th>3</th>\n",
       "      <td>KBS</td>\n",
       "      <td>김범수</td>\n",
       "      <td>청바지</td>\n",
       "      <td>경남</td>\n",
       "      <td>0112222222</td>\n",
       "    </tr>\n",
       "    <tr>\n",
       "      <th>4</th>\n",
       "      <td>SSK</td>\n",
       "      <td>성시경</td>\n",
       "      <td>책</td>\n",
       "      <td>서울</td>\n",
       "      <td>None</td>\n",
       "    </tr>\n",
       "    <tr>\n",
       "      <th>5</th>\n",
       "      <td>EJW</td>\n",
       "      <td>은지원</td>\n",
       "      <td>책</td>\n",
       "      <td>경북</td>\n",
       "      <td>0118888888</td>\n",
       "    </tr>\n",
       "    <tr>\n",
       "      <th>6</th>\n",
       "      <td>EJW</td>\n",
       "      <td>은지원</td>\n",
       "      <td>청바지</td>\n",
       "      <td>경북</td>\n",
       "      <td>0118888888</td>\n",
       "    </tr>\n",
       "    <tr>\n",
       "      <th>7</th>\n",
       "      <td>EJW</td>\n",
       "      <td>은지원</td>\n",
       "      <td>책</td>\n",
       "      <td>경북</td>\n",
       "      <td>0118888888</td>\n",
       "    </tr>\n",
       "  </tbody>\n",
       "</table>\n",
       "</div>"
      ],
      "text/plain": [
       "     0    1    2   3           4\n",
       "0  KBS  김범수  운동화  경남  0112222222\n",
       "1  KBS  김범수  노트북  경남  0112222222\n",
       "2  JYP  조용필  모니터  경기  0114444444\n",
       "3  KBS  김범수  청바지  경남  0112222222\n",
       "4  SSK  성시경    책  서울        None\n",
       "5  EJW  은지원    책  경북  0118888888\n",
       "6  EJW  은지원  청바지  경북  0118888888\n",
       "7  EJW  은지원    책  경북  0118888888"
      ]
     },
     "execution_count": 15,
     "metadata": {},
     "output_type": "execute_result"
    }
   ],
   "source": [
    "pd_1=pd.DataFrame(rows_1)\n",
    "pd_1"
   ]
  },
  {
   "cell_type": "code",
   "execution_count": 16,
   "metadata": {
    "ExecuteTime": {
     "end_time": "2022-11-16T16:44:27.017646Z",
     "start_time": "2022-11-16T16:44:27.004676Z"
    }
   },
   "outputs": [],
   "source": [
    "import pandas as pd\n",
    "import pymysql"
   ]
  },
  {
   "cell_type": "code",
   "execution_count": 17,
   "metadata": {
    "ExecuteTime": {
     "end_time": "2022-11-16T16:44:27.032602Z",
     "start_time": "2022-11-16T16:44:27.020633Z"
    }
   },
   "outputs": [],
   "source": [
    "conn1=pymysql.connect(host='127.0.0.1',user='root',password='1234',db='Tabledb',charset='utf8')"
   ]
  },
  {
   "cell_type": "code",
   "execution_count": 18,
   "metadata": {
    "ExecuteTime": {
     "end_time": "2022-11-16T16:44:27.047561Z",
     "start_time": "2022-11-16T16:44:27.034813Z"
    }
   },
   "outputs": [],
   "source": [
    "cur_1=conn1.cursor()"
   ]
  },
  {
   "cell_type": "code",
   "execution_count": 19,
   "metadata": {
    "ExecuteTime": {
     "end_time": "2022-11-16T16:44:27.062377Z",
     "start_time": "2022-11-16T16:44:27.049555Z"
    }
   },
   "outputs": [],
   "source": [
    "sql='''SELECT COUNT(*) FROM buytbl;'''"
   ]
  },
  {
   "cell_type": "code",
   "execution_count": 20,
   "metadata": {
    "ExecuteTime": {
     "end_time": "2022-11-16T16:44:27.077761Z",
     "start_time": "2022-11-16T16:44:27.064468Z"
    }
   },
   "outputs": [],
   "source": [
    "cur_1.execute(sql)\n",
    "rows_1=cur_1.fetchall()\n",
    "conn1.close()"
   ]
  },
  {
   "cell_type": "code",
   "execution_count": 21,
   "metadata": {
    "ExecuteTime": {
     "end_time": "2022-11-16T16:44:27.092720Z",
     "start_time": "2022-11-16T16:44:27.079754Z"
    }
   },
   "outputs": [
    {
     "data": {
      "text/html": [
       "<div>\n",
       "<style scoped>\n",
       "    .dataframe tbody tr th:only-of-type {\n",
       "        vertical-align: middle;\n",
       "    }\n",
       "\n",
       "    .dataframe tbody tr th {\n",
       "        vertical-align: top;\n",
       "    }\n",
       "\n",
       "    .dataframe thead th {\n",
       "        text-align: right;\n",
       "    }\n",
       "</style>\n",
       "<table border=\"1\" class=\"dataframe\">\n",
       "  <thead>\n",
       "    <tr style=\"text-align: right;\">\n",
       "      <th></th>\n",
       "      <th>0</th>\n",
       "    </tr>\n",
       "  </thead>\n",
       "  <tbody>\n",
       "    <tr>\n",
       "      <th>0</th>\n",
       "      <td>12</td>\n",
       "    </tr>\n",
       "  </tbody>\n",
       "</table>\n",
       "</div>"
      ],
      "text/plain": [
       "    0\n",
       "0  12"
      ]
     },
     "execution_count": 21,
     "metadata": {},
     "output_type": "execute_result"
    }
   ],
   "source": [
    "pd_1=pd.DataFrame(rows_1)\n",
    "pd_1"
   ]
  },
  {
   "cell_type": "code",
   "execution_count": 22,
   "metadata": {
    "ExecuteTime": {
     "end_time": "2022-11-16T16:47:50.603348Z",
     "start_time": "2022-11-16T16:47:50.590584Z"
    }
   },
   "outputs": [],
   "source": [
    "import pandas as pd\n",
    "import pymysql"
   ]
  },
  {
   "cell_type": "code",
   "execution_count": 23,
   "metadata": {
    "ExecuteTime": {
     "end_time": "2022-11-16T16:47:51.655576Z",
     "start_time": "2022-11-16T16:47:51.641514Z"
    }
   },
   "outputs": [],
   "source": [
    "conn1=pymysql.connect(host='127.0.0.1',user='root',password='1234',db='Tabledb',charset='utf8')"
   ]
  },
  {
   "cell_type": "code",
   "execution_count": 24,
   "metadata": {
    "ExecuteTime": {
     "end_time": "2022-11-16T16:47:52.246207Z",
     "start_time": "2022-11-16T16:47:52.228616Z"
    }
   },
   "outputs": [],
   "source": [
    "cur_1=conn1.cursor()"
   ]
  },
  {
   "cell_type": "code",
   "execution_count": 25,
   "metadata": {
    "ExecuteTime": {
     "end_time": "2022-11-16T16:47:52.820790Z",
     "start_time": "2022-11-16T16:47:52.811482Z"
    }
   },
   "outputs": [],
   "source": [
    "sql='''SELECT B.userid, U.name, B.prodName, U.addr, CONCAT(U.mobile1, U.mobile2) AS '연락처'\n",
    "   FROM buytbl B\n",
    "     LEFT OUTER JOIN usertbl U\n",
    "        ON B.userid = U.userid\n",
    "   ORDER BY B.userid ;'''"
   ]
  },
  {
   "cell_type": "code",
   "execution_count": 26,
   "metadata": {
    "ExecuteTime": {
     "end_time": "2022-11-16T16:47:53.382411Z",
     "start_time": "2022-11-16T16:47:53.369095Z"
    }
   },
   "outputs": [],
   "source": [
    "cur_1.execute(sql)\n",
    "rows_1=cur_1.fetchall()\n",
    "conn1.close()"
   ]
  },
  {
   "cell_type": "code",
   "execution_count": 28,
   "metadata": {
    "ExecuteTime": {
     "end_time": "2022-11-16T17:02:56.506220Z",
     "start_time": "2022-11-16T17:02:56.479502Z"
    }
   },
   "outputs": [
    {
     "data": {
      "text/html": [
       "<div>\n",
       "<style scoped>\n",
       "    .dataframe tbody tr th:only-of-type {\n",
       "        vertical-align: middle;\n",
       "    }\n",
       "\n",
       "    .dataframe tbody tr th {\n",
       "        vertical-align: top;\n",
       "    }\n",
       "\n",
       "    .dataframe thead th {\n",
       "        text-align: right;\n",
       "    }\n",
       "</style>\n",
       "<table border=\"1\" class=\"dataframe\">\n",
       "  <thead>\n",
       "    <tr style=\"text-align: right;\">\n",
       "      <th></th>\n",
       "      <th>0</th>\n",
       "      <th>1</th>\n",
       "      <th>2</th>\n",
       "      <th>3</th>\n",
       "      <th>4</th>\n",
       "    </tr>\n",
       "  </thead>\n",
       "  <tbody>\n",
       "    <tr>\n",
       "      <th>0</th>\n",
       "      <td>BBK</td>\n",
       "      <td>None</td>\n",
       "      <td>모니터</td>\n",
       "      <td>None</td>\n",
       "      <td>None</td>\n",
       "    </tr>\n",
       "    <tr>\n",
       "      <th>1</th>\n",
       "      <td>BBK</td>\n",
       "      <td>None</td>\n",
       "      <td>메모리</td>\n",
       "      <td>None</td>\n",
       "      <td>None</td>\n",
       "    </tr>\n",
       "    <tr>\n",
       "      <th>2</th>\n",
       "      <td>BBK</td>\n",
       "      <td>None</td>\n",
       "      <td>운동화</td>\n",
       "      <td>None</td>\n",
       "      <td>None</td>\n",
       "    </tr>\n",
       "    <tr>\n",
       "      <th>3</th>\n",
       "      <td>BBK</td>\n",
       "      <td>None</td>\n",
       "      <td>운동화</td>\n",
       "      <td>None</td>\n",
       "      <td>None</td>\n",
       "    </tr>\n",
       "    <tr>\n",
       "      <th>4</th>\n",
       "      <td>EJW</td>\n",
       "      <td>은지원</td>\n",
       "      <td>책</td>\n",
       "      <td>경북</td>\n",
       "      <td>0118888888</td>\n",
       "    </tr>\n",
       "    <tr>\n",
       "      <th>5</th>\n",
       "      <td>EJW</td>\n",
       "      <td>은지원</td>\n",
       "      <td>청바지</td>\n",
       "      <td>경북</td>\n",
       "      <td>0118888888</td>\n",
       "    </tr>\n",
       "    <tr>\n",
       "      <th>6</th>\n",
       "      <td>EJW</td>\n",
       "      <td>은지원</td>\n",
       "      <td>책</td>\n",
       "      <td>경북</td>\n",
       "      <td>0118888888</td>\n",
       "    </tr>\n",
       "    <tr>\n",
       "      <th>7</th>\n",
       "      <td>JYP</td>\n",
       "      <td>조용필</td>\n",
       "      <td>모니터</td>\n",
       "      <td>경기</td>\n",
       "      <td>0114444444</td>\n",
       "    </tr>\n",
       "    <tr>\n",
       "      <th>8</th>\n",
       "      <td>KBS</td>\n",
       "      <td>김범수</td>\n",
       "      <td>운동화</td>\n",
       "      <td>경남</td>\n",
       "      <td>0112222222</td>\n",
       "    </tr>\n",
       "    <tr>\n",
       "      <th>9</th>\n",
       "      <td>KBS</td>\n",
       "      <td>김범수</td>\n",
       "      <td>노트북</td>\n",
       "      <td>경남</td>\n",
       "      <td>0112222222</td>\n",
       "    </tr>\n",
       "    <tr>\n",
       "      <th>10</th>\n",
       "      <td>KBS</td>\n",
       "      <td>김범수</td>\n",
       "      <td>청바지</td>\n",
       "      <td>경남</td>\n",
       "      <td>0112222222</td>\n",
       "    </tr>\n",
       "    <tr>\n",
       "      <th>11</th>\n",
       "      <td>SSK</td>\n",
       "      <td>성시경</td>\n",
       "      <td>책</td>\n",
       "      <td>서울</td>\n",
       "      <td>None</td>\n",
       "    </tr>\n",
       "  </tbody>\n",
       "</table>\n",
       "</div>"
      ],
      "text/plain": [
       "      0     1    2     3           4\n",
       "0   BBK  None  모니터  None        None\n",
       "1   BBK  None  메모리  None        None\n",
       "2   BBK  None  운동화  None        None\n",
       "3   BBK  None  운동화  None        None\n",
       "4   EJW   은지원    책    경북  0118888888\n",
       "5   EJW   은지원  청바지    경북  0118888888\n",
       "6   EJW   은지원    책    경북  0118888888\n",
       "7   JYP   조용필  모니터    경기  0114444444\n",
       "8   KBS   김범수  운동화    경남  0112222222\n",
       "9   KBS   김범수  노트북    경남  0112222222\n",
       "10  KBS   김범수  청바지    경남  0112222222\n",
       "11  SSK   성시경    책    서울        None"
      ]
     },
     "execution_count": 28,
     "metadata": {},
     "output_type": "execute_result"
    }
   ],
   "source": [
    "pd_1=pd.DataFrame(rows_1)\n",
    "pd_1"
   ]
  },
  {
   "cell_type": "markdown",
   "metadata": {},
   "source": [
    "# 11"
   ]
  },
  {
   "cell_type": "code",
   "execution_count": 29,
   "metadata": {
    "ExecuteTime": {
     "end_time": "2022-11-16T17:02:56.521091Z",
     "start_time": "2022-11-16T17:02:56.508189Z"
    }
   },
   "outputs": [],
   "source": [
    "import pandas as pd\n",
    "import pymysql"
   ]
  },
  {
   "cell_type": "code",
   "execution_count": 30,
   "metadata": {
    "ExecuteTime": {
     "end_time": "2022-11-16T17:02:56.536727Z",
     "start_time": "2022-11-16T17:02:56.524321Z"
    }
   },
   "outputs": [],
   "source": [
    "conn1=pymysql.connect(host='127.0.0.1',user='root',password='1234',db='Tabledb',charset='utf8')"
   ]
  },
  {
   "cell_type": "code",
   "execution_count": 31,
   "metadata": {
    "ExecuteTime": {
     "end_time": "2022-11-16T17:02:56.552198Z",
     "start_time": "2022-11-16T17:02:56.539234Z"
    }
   },
   "outputs": [],
   "source": [
    "cur_1=conn1.cursor()"
   ]
  },
  {
   "cell_type": "code",
   "execution_count": 32,
   "metadata": {
    "ExecuteTime": {
     "end_time": "2022-11-16T17:02:56.567582Z",
     "start_time": "2022-11-16T17:02:56.553195Z"
    }
   },
   "outputs": [],
   "source": [
    "sql='''SELECT B.userid, U.name, B.prodName, U.addr, CONCAT(U.mobile1, U.mobile2) AS '연락처'\n",
    "   FROM buytbl B\n",
    "     INNER JOIN usertbl U\n",
    "        ON B.userid = U.userid\n",
    "  ORDER BY B.userid;'''"
   ]
  },
  {
   "cell_type": "code",
   "execution_count": 33,
   "metadata": {
    "ExecuteTime": {
     "end_time": "2022-11-16T17:02:56.582655Z",
     "start_time": "2022-11-16T17:02:56.568583Z"
    }
   },
   "outputs": [],
   "source": [
    "cur_1.execute(sql)\n",
    "rows_1=cur_1.fetchall()\n",
    "conn1.close()"
   ]
  },
  {
   "cell_type": "code",
   "execution_count": 35,
   "metadata": {
    "ExecuteTime": {
     "end_time": "2022-11-16T17:06:45.452746Z",
     "start_time": "2022-11-16T17:06:45.424954Z"
    }
   },
   "outputs": [
    {
     "data": {
      "text/html": [
       "<div>\n",
       "<style scoped>\n",
       "    .dataframe tbody tr th:only-of-type {\n",
       "        vertical-align: middle;\n",
       "    }\n",
       "\n",
       "    .dataframe tbody tr th {\n",
       "        vertical-align: top;\n",
       "    }\n",
       "\n",
       "    .dataframe thead th {\n",
       "        text-align: right;\n",
       "    }\n",
       "</style>\n",
       "<table border=\"1\" class=\"dataframe\">\n",
       "  <thead>\n",
       "    <tr style=\"text-align: right;\">\n",
       "      <th></th>\n",
       "      <th>0</th>\n",
       "      <th>1</th>\n",
       "      <th>2</th>\n",
       "      <th>3</th>\n",
       "      <th>4</th>\n",
       "    </tr>\n",
       "  </thead>\n",
       "  <tbody>\n",
       "    <tr>\n",
       "      <th>0</th>\n",
       "      <td>EJW</td>\n",
       "      <td>은지원</td>\n",
       "      <td>책</td>\n",
       "      <td>경북</td>\n",
       "      <td>0118888888</td>\n",
       "    </tr>\n",
       "    <tr>\n",
       "      <th>1</th>\n",
       "      <td>EJW</td>\n",
       "      <td>은지원</td>\n",
       "      <td>청바지</td>\n",
       "      <td>경북</td>\n",
       "      <td>0118888888</td>\n",
       "    </tr>\n",
       "    <tr>\n",
       "      <th>2</th>\n",
       "      <td>EJW</td>\n",
       "      <td>은지원</td>\n",
       "      <td>책</td>\n",
       "      <td>경북</td>\n",
       "      <td>0118888888</td>\n",
       "    </tr>\n",
       "    <tr>\n",
       "      <th>3</th>\n",
       "      <td>JYP</td>\n",
       "      <td>조용필</td>\n",
       "      <td>모니터</td>\n",
       "      <td>경기</td>\n",
       "      <td>0114444444</td>\n",
       "    </tr>\n",
       "    <tr>\n",
       "      <th>4</th>\n",
       "      <td>KBS</td>\n",
       "      <td>김범수</td>\n",
       "      <td>운동화</td>\n",
       "      <td>경남</td>\n",
       "      <td>0112222222</td>\n",
       "    </tr>\n",
       "    <tr>\n",
       "      <th>5</th>\n",
       "      <td>KBS</td>\n",
       "      <td>김범수</td>\n",
       "      <td>노트북</td>\n",
       "      <td>경남</td>\n",
       "      <td>0112222222</td>\n",
       "    </tr>\n",
       "    <tr>\n",
       "      <th>6</th>\n",
       "      <td>KBS</td>\n",
       "      <td>김범수</td>\n",
       "      <td>청바지</td>\n",
       "      <td>경남</td>\n",
       "      <td>0112222222</td>\n",
       "    </tr>\n",
       "    <tr>\n",
       "      <th>7</th>\n",
       "      <td>SSK</td>\n",
       "      <td>성시경</td>\n",
       "      <td>책</td>\n",
       "      <td>서울</td>\n",
       "      <td>None</td>\n",
       "    </tr>\n",
       "    <tr>\n",
       "      <th>8</th>\n",
       "      <td>VVK</td>\n",
       "      <td>바비킴</td>\n",
       "      <td>모니터</td>\n",
       "      <td>서울</td>\n",
       "      <td>0100000000</td>\n",
       "    </tr>\n",
       "    <tr>\n",
       "      <th>9</th>\n",
       "      <td>VVK</td>\n",
       "      <td>바비킴</td>\n",
       "      <td>메모리</td>\n",
       "      <td>서울</td>\n",
       "      <td>0100000000</td>\n",
       "    </tr>\n",
       "    <tr>\n",
       "      <th>10</th>\n",
       "      <td>VVK</td>\n",
       "      <td>바비킴</td>\n",
       "      <td>운동화</td>\n",
       "      <td>서울</td>\n",
       "      <td>0100000000</td>\n",
       "    </tr>\n",
       "    <tr>\n",
       "      <th>11</th>\n",
       "      <td>VVK</td>\n",
       "      <td>바비킴</td>\n",
       "      <td>운동화</td>\n",
       "      <td>서울</td>\n",
       "      <td>0100000000</td>\n",
       "    </tr>\n",
       "  </tbody>\n",
       "</table>\n",
       "</div>"
      ],
      "text/plain": [
       "      0    1    2   3           4\n",
       "0   EJW  은지원    책  경북  0118888888\n",
       "1   EJW  은지원  청바지  경북  0118888888\n",
       "2   EJW  은지원    책  경북  0118888888\n",
       "3   JYP  조용필  모니터  경기  0114444444\n",
       "4   KBS  김범수  운동화  경남  0112222222\n",
       "5   KBS  김범수  노트북  경남  0112222222\n",
       "6   KBS  김범수  청바지  경남  0112222222\n",
       "7   SSK  성시경    책  서울        None\n",
       "8   VVK  바비킴  모니터  서울  0100000000\n",
       "9   VVK  바비킴  메모리  서울  0100000000\n",
       "10  VVK  바비킴  운동화  서울  0100000000\n",
       "11  VVK  바비킴  운동화  서울  0100000000"
      ]
     },
     "execution_count": 35,
     "metadata": {},
     "output_type": "execute_result"
    }
   ],
   "source": [
    "pd_1=pd.DataFrame(rows_1)\n",
    "pd_1"
   ]
  },
  {
   "cell_type": "markdown",
   "metadata": {},
   "source": [
    "# 13"
   ]
  },
  {
   "cell_type": "code",
   "execution_count": 36,
   "metadata": {
    "ExecuteTime": {
     "end_time": "2022-11-16T17:06:45.467437Z",
     "start_time": "2022-11-16T17:06:45.454739Z"
    }
   },
   "outputs": [],
   "source": [
    "import pandas as pd\n",
    "import pymysql"
   ]
  },
  {
   "cell_type": "code",
   "execution_count": 37,
   "metadata": {
    "ExecuteTime": {
     "end_time": "2022-11-16T17:06:45.497778Z",
     "start_time": "2022-11-16T17:06:45.470431Z"
    }
   },
   "outputs": [],
   "source": [
    "conn1=pymysql.connect(host='127.0.0.1',user='root',password='1234',db='Tabledb',charset='utf8')"
   ]
  },
  {
   "cell_type": "code",
   "execution_count": 38,
   "metadata": {
    "ExecuteTime": {
     "end_time": "2022-11-16T17:06:45.512487Z",
     "start_time": "2022-11-16T17:06:45.500232Z"
    }
   },
   "outputs": [],
   "source": [
    "cur_1=conn1.cursor()"
   ]
  },
  {
   "cell_type": "code",
   "execution_count": 39,
   "metadata": {
    "ExecuteTime": {
     "end_time": "2022-11-16T17:06:45.528184Z",
     "start_time": "2022-11-16T17:06:45.514676Z"
    }
   },
   "outputs": [],
   "source": [
    "sql='''SELECT * FROM buytbl ;'''"
   ]
  },
  {
   "cell_type": "code",
   "execution_count": 40,
   "metadata": {
    "ExecuteTime": {
     "end_time": "2022-11-16T17:06:45.543175Z",
     "start_time": "2022-11-16T17:06:45.529185Z"
    }
   },
   "outputs": [],
   "source": [
    "cur_1.execute(sql)\n",
    "rows_1=cur_1.fetchall()\n",
    "conn1.close()"
   ]
  },
  {
   "cell_type": "code",
   "execution_count": 41,
   "metadata": {
    "ExecuteTime": {
     "end_time": "2022-11-16T17:06:45.573657Z",
     "start_time": "2022-11-16T17:06:45.545176Z"
    }
   },
   "outputs": [
    {
     "data": {
      "text/html": [
       "<div>\n",
       "<style scoped>\n",
       "    .dataframe tbody tr th:only-of-type {\n",
       "        vertical-align: middle;\n",
       "    }\n",
       "\n",
       "    .dataframe tbody tr th {\n",
       "        vertical-align: top;\n",
       "    }\n",
       "\n",
       "    .dataframe thead th {\n",
       "        text-align: right;\n",
       "    }\n",
       "</style>\n",
       "<table border=\"1\" class=\"dataframe\">\n",
       "  <thead>\n",
       "    <tr style=\"text-align: right;\">\n",
       "      <th></th>\n",
       "      <th>0</th>\n",
       "      <th>1</th>\n",
       "      <th>2</th>\n",
       "      <th>3</th>\n",
       "      <th>4</th>\n",
       "      <th>5</th>\n",
       "    </tr>\n",
       "  </thead>\n",
       "  <tbody>\n",
       "    <tr>\n",
       "      <th>0</th>\n",
       "      <td>1</td>\n",
       "      <td>KBS</td>\n",
       "      <td>운동화</td>\n",
       "      <td>None</td>\n",
       "      <td>30</td>\n",
       "      <td>2</td>\n",
       "    </tr>\n",
       "    <tr>\n",
       "      <th>1</th>\n",
       "      <td>2</td>\n",
       "      <td>KBS</td>\n",
       "      <td>노트북</td>\n",
       "      <td>전자</td>\n",
       "      <td>1000</td>\n",
       "      <td>1</td>\n",
       "    </tr>\n",
       "    <tr>\n",
       "      <th>2</th>\n",
       "      <td>3</td>\n",
       "      <td>JYP</td>\n",
       "      <td>모니터</td>\n",
       "      <td>전자</td>\n",
       "      <td>200</td>\n",
       "      <td>1</td>\n",
       "    </tr>\n",
       "    <tr>\n",
       "      <th>3</th>\n",
       "      <td>7</td>\n",
       "      <td>KBS</td>\n",
       "      <td>청바지</td>\n",
       "      <td>의류</td>\n",
       "      <td>50</td>\n",
       "      <td>3</td>\n",
       "    </tr>\n",
       "    <tr>\n",
       "      <th>4</th>\n",
       "      <td>9</td>\n",
       "      <td>SSK</td>\n",
       "      <td>책</td>\n",
       "      <td>서적</td>\n",
       "      <td>15</td>\n",
       "      <td>5</td>\n",
       "    </tr>\n",
       "    <tr>\n",
       "      <th>5</th>\n",
       "      <td>10</td>\n",
       "      <td>EJW</td>\n",
       "      <td>책</td>\n",
       "      <td>서적</td>\n",
       "      <td>15</td>\n",
       "      <td>2</td>\n",
       "    </tr>\n",
       "    <tr>\n",
       "      <th>6</th>\n",
       "      <td>11</td>\n",
       "      <td>EJW</td>\n",
       "      <td>청바지</td>\n",
       "      <td>의류</td>\n",
       "      <td>50</td>\n",
       "      <td>1</td>\n",
       "    </tr>\n",
       "    <tr>\n",
       "      <th>7</th>\n",
       "      <td>13</td>\n",
       "      <td>EJW</td>\n",
       "      <td>책</td>\n",
       "      <td>서적</td>\n",
       "      <td>15</td>\n",
       "      <td>1</td>\n",
       "    </tr>\n",
       "  </tbody>\n",
       "</table>\n",
       "</div>"
      ],
      "text/plain": [
       "    0    1    2     3     4  5\n",
       "0   1  KBS  운동화  None    30  2\n",
       "1   2  KBS  노트북    전자  1000  1\n",
       "2   3  JYP  모니터    전자   200  1\n",
       "3   7  KBS  청바지    의류    50  3\n",
       "4   9  SSK    책    서적    15  5\n",
       "5  10  EJW    책    서적    15  2\n",
       "6  11  EJW  청바지    의류    50  1\n",
       "7  13  EJW    책    서적    15  1"
      ]
     },
     "execution_count": 41,
     "metadata": {},
     "output_type": "execute_result"
    }
   ],
   "source": [
    "pd_1=pd.DataFrame(rows_1)\n",
    "pd_1"
   ]
  }
 ],
 "metadata": {
  "kernelspec": {
   "display_name": "Python 3",
   "language": "python",
   "name": "python3"
  },
  "language_info": {
   "codemirror_mode": {
    "name": "ipython",
    "version": 3
   },
   "file_extension": ".py",
   "mimetype": "text/x-python",
   "name": "python",
   "nbconvert_exporter": "python",
   "pygments_lexer": "ipython3",
   "version": "3.8.5"
  },
  "toc": {
   "base_numbering": 1,
   "nav_menu": {},
   "number_sections": true,
   "sideBar": true,
   "skip_h1_title": false,
   "title_cell": "Table of Contents",
   "title_sidebar": "Contents",
   "toc_cell": false,
   "toc_position": {},
   "toc_section_display": true,
   "toc_window_display": false
  }
 },
 "nbformat": 4,
 "nbformat_minor": 4
}
